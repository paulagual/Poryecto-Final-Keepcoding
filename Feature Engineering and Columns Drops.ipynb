{
 "cells": [
  {
   "cell_type": "markdown",
   "id": "69f32885",
   "metadata": {},
   "source": [
    "# Feature Engineering"
   ]
  },
  {
   "cell_type": "markdown",
   "id": "04a93d12",
   "metadata": {},
   "source": [
    "## Environment"
   ]
  },
  {
   "cell_type": "code",
   "execution_count": 1,
   "id": "f8e7ae29",
   "metadata": {
    "ExecuteTime": {
     "end_time": "2023-02-13T10:36:12.346678Z",
     "start_time": "2023-02-13T10:36:08.653206Z"
    }
   },
   "outputs": [],
   "source": [
    "import pandas as pd\n",
    "import numpy as np\n",
    "\n",
    "import matplotlib as mpl\n",
    "import matplotlib.pyplot as plt\n",
    "\n",
    "import seaborn as sns\n",
    "sns.set(rc={\"figure.figsize\":(25, 15)})\n",
    "sns.set_style(\"whitegrid\")\n",
    "\n",
    "pd.set_option('display.max_columns', None)\n",
    "\n",
    "pd.set_option('display.float_format', '{:.6g}'.format)\n"
   ]
  },
  {
   "cell_type": "markdown",
   "id": "7d31a94c",
   "metadata": {},
   "source": [
    "## Dataset AirBnb"
   ]
  },
  {
   "cell_type": "code",
   "execution_count": 2,
   "id": "b6d8915b",
   "metadata": {
    "ExecuteTime": {
     "end_time": "2023-02-13T10:36:14.937660Z",
     "start_time": "2023-02-13T10:36:12.349957Z"
    }
   },
   "outputs": [],
   "source": [
    "df = pd.read_csv(\"data/airbnb-listings.csv\", sep=';')"
   ]
  },
  {
   "cell_type": "code",
   "execution_count": 3,
   "id": "0fd44653",
   "metadata": {
    "ExecuteTime": {
     "end_time": "2023-02-13T10:36:15.028551Z",
     "start_time": "2023-02-13T10:36:14.943301Z"
    }
   },
   "outputs": [],
   "source": [
    "df_madrid = df[df['City'] == 'Madrid']"
   ]
  },
  {
   "cell_type": "code",
   "execution_count": 4,
   "id": "1d26ef92",
   "metadata": {
    "ExecuteTime": {
     "end_time": "2023-02-13T10:36:15.227428Z",
     "start_time": "2023-02-13T10:36:15.082802Z"
    }
   },
   "outputs": [
    {
     "data": {
      "text/html": [
       "<div>\n",
       "<style scoped>\n",
       "    .dataframe tbody tr th:only-of-type {\n",
       "        vertical-align: middle;\n",
       "    }\n",
       "\n",
       "    .dataframe tbody tr th {\n",
       "        vertical-align: top;\n",
       "    }\n",
       "\n",
       "    .dataframe thead th {\n",
       "        text-align: right;\n",
       "    }\n",
       "</style>\n",
       "<table border=\"1\" class=\"dataframe\">\n",
       "  <thead>\n",
       "    <tr style=\"text-align: right;\">\n",
       "      <th></th>\n",
       "      <th>ID</th>\n",
       "      <th>Listing Url</th>\n",
       "      <th>Scrape ID</th>\n",
       "      <th>Last Scraped</th>\n",
       "      <th>Name</th>\n",
       "      <th>Summary</th>\n",
       "      <th>Space</th>\n",
       "      <th>Description</th>\n",
       "      <th>Experiences Offered</th>\n",
       "      <th>Neighborhood Overview</th>\n",
       "      <th>Notes</th>\n",
       "      <th>Transit</th>\n",
       "      <th>Access</th>\n",
       "      <th>Interaction</th>\n",
       "      <th>House Rules</th>\n",
       "      <th>Thumbnail Url</th>\n",
       "      <th>Medium Url</th>\n",
       "      <th>Picture Url</th>\n",
       "      <th>XL Picture Url</th>\n",
       "      <th>Host ID</th>\n",
       "      <th>Host URL</th>\n",
       "      <th>Host Name</th>\n",
       "      <th>Host Since</th>\n",
       "      <th>Host Location</th>\n",
       "      <th>Host About</th>\n",
       "      <th>Host Response Time</th>\n",
       "      <th>Host Response Rate</th>\n",
       "      <th>Host Acceptance Rate</th>\n",
       "      <th>Host Thumbnail Url</th>\n",
       "      <th>Host Picture Url</th>\n",
       "      <th>Host Neighbourhood</th>\n",
       "      <th>Host Listings Count</th>\n",
       "      <th>Host Total Listings Count</th>\n",
       "      <th>Host Verifications</th>\n",
       "      <th>Street</th>\n",
       "      <th>Neighbourhood</th>\n",
       "      <th>Neighbourhood Cleansed</th>\n",
       "      <th>Neighbourhood Group Cleansed</th>\n",
       "      <th>City</th>\n",
       "      <th>State</th>\n",
       "      <th>Zipcode</th>\n",
       "      <th>Market</th>\n",
       "      <th>Smart Location</th>\n",
       "      <th>Country Code</th>\n",
       "      <th>Country</th>\n",
       "      <th>Latitude</th>\n",
       "      <th>Longitude</th>\n",
       "      <th>Property Type</th>\n",
       "      <th>Room Type</th>\n",
       "      <th>Accommodates</th>\n",
       "      <th>Bathrooms</th>\n",
       "      <th>Bedrooms</th>\n",
       "      <th>Beds</th>\n",
       "      <th>Bed Type</th>\n",
       "      <th>Amenities</th>\n",
       "      <th>Square Feet</th>\n",
       "      <th>Price</th>\n",
       "      <th>Weekly Price</th>\n",
       "      <th>Monthly Price</th>\n",
       "      <th>Security Deposit</th>\n",
       "      <th>Cleaning Fee</th>\n",
       "      <th>Guests Included</th>\n",
       "      <th>Extra People</th>\n",
       "      <th>Minimum Nights</th>\n",
       "      <th>Maximum Nights</th>\n",
       "      <th>Calendar Updated</th>\n",
       "      <th>Has Availability</th>\n",
       "      <th>Availability 30</th>\n",
       "      <th>Availability 60</th>\n",
       "      <th>Availability 90</th>\n",
       "      <th>Availability 365</th>\n",
       "      <th>Calendar last Scraped</th>\n",
       "      <th>Number of Reviews</th>\n",
       "      <th>First Review</th>\n",
       "      <th>Last Review</th>\n",
       "      <th>Review Scores Rating</th>\n",
       "      <th>Review Scores Accuracy</th>\n",
       "      <th>Review Scores Cleanliness</th>\n",
       "      <th>Review Scores Checkin</th>\n",
       "      <th>Review Scores Communication</th>\n",
       "      <th>Review Scores Location</th>\n",
       "      <th>Review Scores Value</th>\n",
       "      <th>License</th>\n",
       "      <th>Jurisdiction Names</th>\n",
       "      <th>Cancellation Policy</th>\n",
       "      <th>Calculated host listings count</th>\n",
       "      <th>Reviews per Month</th>\n",
       "      <th>Geolocation</th>\n",
       "      <th>Features</th>\n",
       "    </tr>\n",
       "  </thead>\n",
       "  <tbody>\n",
       "    <tr>\n",
       "      <th>3</th>\n",
       "      <td>3150371</td>\n",
       "      <td>https://www.airbnb.com/rooms/3150371</td>\n",
       "      <td>20170407214119</td>\n",
       "      <td>2017-04-08</td>\n",
       "      <td>Double room + bathroom - La Latina</td>\n",
       "      <td>Double room with own bathroom in La Latina, in...</td>\n",
       "      <td>The apartment is spacious and cozy. It is 90 m...</td>\n",
       "      <td>Double room with own bathroom in La Latina, in...</td>\n",
       "      <td>none</td>\n",
       "      <td>La Latina is one of the most famous neighbourh...</td>\n",
       "      <td>NaN</td>\n",
       "      <td>The closest tube station is La Latina (line 5 ...</td>\n",
       "      <td>You can use the kitchen, the lounge, the terra...</td>\n",
       "      <td>The bedrooms are totally separated: one at one...</td>\n",
       "      <td>Care and respect are both required in the comm...</td>\n",
       "      <td>https://a0.muscache.com/im/pictures/40713802/3...</td>\n",
       "      <td>https://a0.muscache.com/im/pictures/40713802/3...</td>\n",
       "      <td>https://public.opendatasoft.com/api/explore/v2...</td>\n",
       "      <td>https://a0.muscache.com/im/pictures/40713802/3...</td>\n",
       "      <td>11902716</td>\n",
       "      <td>https://www.airbnb.com/users/show/11902716</td>\n",
       "      <td>Daniel Y Ximena</td>\n",
       "      <td>2014-02-03</td>\n",
       "      <td>Madrid, Community of Madrid, Spain</td>\n",
       "      <td>Aficionados al cine, la música, los amigos, el...</td>\n",
       "      <td>within a day</td>\n",
       "      <td>100</td>\n",
       "      <td>NaN</td>\n",
       "      <td>https://a0.muscache.com/im/users/11902716/prof...</td>\n",
       "      <td>https://a0.muscache.com/im/users/11902716/prof...</td>\n",
       "      <td>Palacio</td>\n",
       "      <td>1</td>\n",
       "      <td>1</td>\n",
       "      <td>email,phone,reviews,jumio</td>\n",
       "      <td>Palacio, Madrid, Community of Madrid 28005, Spain</td>\n",
       "      <td>Palacio</td>\n",
       "      <td>Palacio</td>\n",
       "      <td>Centro</td>\n",
       "      <td>Madrid</td>\n",
       "      <td>Community of Madrid</td>\n",
       "      <td>28005</td>\n",
       "      <td>Madrid</td>\n",
       "      <td>Madrid, Spain</td>\n",
       "      <td>ES</td>\n",
       "      <td>Spain</td>\n",
       "      <td>40.4101</td>\n",
       "      <td>-3.71475</td>\n",
       "      <td>Apartment</td>\n",
       "      <td>Private room</td>\n",
       "      <td>2</td>\n",
       "      <td>1</td>\n",
       "      <td>1</td>\n",
       "      <td>1</td>\n",
       "      <td>Real Bed</td>\n",
       "      <td>TV,Internet,Wireless Internet,Kitchen,Doorman,...</td>\n",
       "      <td>NaN</td>\n",
       "      <td>36</td>\n",
       "      <td>NaN</td>\n",
       "      <td>NaN</td>\n",
       "      <td>NaN</td>\n",
       "      <td>NaN</td>\n",
       "      <td>1</td>\n",
       "      <td>0</td>\n",
       "      <td>2</td>\n",
       "      <td>1125</td>\n",
       "      <td>4 days ago</td>\n",
       "      <td>NaN</td>\n",
       "      <td>1</td>\n",
       "      <td>1</td>\n",
       "      <td>1</td>\n",
       "      <td>1</td>\n",
       "      <td>2017-04-07</td>\n",
       "      <td>80</td>\n",
       "      <td>2014-06-15</td>\n",
       "      <td>2017-04-01</td>\n",
       "      <td>98</td>\n",
       "      <td>10</td>\n",
       "      <td>10</td>\n",
       "      <td>10</td>\n",
       "      <td>10</td>\n",
       "      <td>10</td>\n",
       "      <td>10</td>\n",
       "      <td>NaN</td>\n",
       "      <td>NaN</td>\n",
       "      <td>flexible</td>\n",
       "      <td>1</td>\n",
       "      <td>2.33</td>\n",
       "      <td>40.41010608050749, -3.714754034177323</td>\n",
       "      <td>Host Has Profile Pic,Host Identity Verified,Is...</td>\n",
       "    </tr>\n",
       "    <tr>\n",
       "      <th>4</th>\n",
       "      <td>3378181</td>\n",
       "      <td>https://www.airbnb.com/rooms/3378181</td>\n",
       "      <td>20170407214119</td>\n",
       "      <td>2017-04-08</td>\n",
       "      <td>Ópera/Plz Mayor -- A/C, elevator</td>\n",
       "      <td>Old world charm meets modern comfort in our ne...</td>\n",
       "      <td>Designed with the traveler in mind, our one-be...</td>\n",
       "      <td>Old world charm meets modern comfort in our ne...</td>\n",
       "      <td>none</td>\n",
       "      <td>The neighborhood is steeped in history and clo...</td>\n",
       "      <td>NaN</td>\n",
       "      <td>The apartment is close to the Ópera metro stat...</td>\n",
       "      <td>The entire apartment is yours.</td>\n",
       "      <td>We are always available to answer questions an...</td>\n",
       "      <td>The Golden Rule shall apply always :) The apar...</td>\n",
       "      <td>https://a0.muscache.com/im/pictures/44239584/c...</td>\n",
       "      <td>https://a0.muscache.com/im/pictures/44239584/c...</td>\n",
       "      <td>https://public.opendatasoft.com/api/explore/v2...</td>\n",
       "      <td>https://a0.muscache.com/im/pictures/44239584/c...</td>\n",
       "      <td>809083</td>\n",
       "      <td>https://www.airbnb.com/users/show/809083</td>\n",
       "      <td>Michael</td>\n",
       "      <td>2011-07-12</td>\n",
       "      <td>Madrid, Madrid, Spain</td>\n",
       "      <td>I'm a US expat who enjoys welcoming people fro...</td>\n",
       "      <td>within a day</td>\n",
       "      <td>94</td>\n",
       "      <td>NaN</td>\n",
       "      <td>https://a0.muscache.com/im/users/809083/profil...</td>\n",
       "      <td>https://a0.muscache.com/im/users/809083/profil...</td>\n",
       "      <td>Palacio</td>\n",
       "      <td>3</td>\n",
       "      <td>3</td>\n",
       "      <td>email,phone,facebook,reviews,jumio,work_email</td>\n",
       "      <td>Palacio, Madrid, Community of Madrid 28013, Spain</td>\n",
       "      <td>Palacio</td>\n",
       "      <td>Palacio</td>\n",
       "      <td>Centro</td>\n",
       "      <td>Madrid</td>\n",
       "      <td>Community of Madrid</td>\n",
       "      <td>28013</td>\n",
       "      <td>Madrid</td>\n",
       "      <td>Madrid, Spain</td>\n",
       "      <td>ES</td>\n",
       "      <td>Spain</td>\n",
       "      <td>40.417</td>\n",
       "      <td>-3.70944</td>\n",
       "      <td>Apartment</td>\n",
       "      <td>Entire home/apt</td>\n",
       "      <td>2</td>\n",
       "      <td>1</td>\n",
       "      <td>1</td>\n",
       "      <td>1</td>\n",
       "      <td>Real Bed</td>\n",
       "      <td>TV,Wireless Internet,Air conditioning,Kitchen,...</td>\n",
       "      <td>NaN</td>\n",
       "      <td>85</td>\n",
       "      <td>600</td>\n",
       "      <td>1800</td>\n",
       "      <td>100</td>\n",
       "      <td>30</td>\n",
       "      <td>1</td>\n",
       "      <td>0</td>\n",
       "      <td>3</td>\n",
       "      <td>1125</td>\n",
       "      <td>5 days ago</td>\n",
       "      <td>NaN</td>\n",
       "      <td>12</td>\n",
       "      <td>32</td>\n",
       "      <td>45</td>\n",
       "      <td>320</td>\n",
       "      <td>2017-04-07</td>\n",
       "      <td>90</td>\n",
       "      <td>2014-07-09</td>\n",
       "      <td>2017-02-28</td>\n",
       "      <td>95</td>\n",
       "      <td>10</td>\n",
       "      <td>9</td>\n",
       "      <td>10</td>\n",
       "      <td>10</td>\n",
       "      <td>10</td>\n",
       "      <td>10</td>\n",
       "      <td>NaN</td>\n",
       "      <td>NaN</td>\n",
       "      <td>strict</td>\n",
       "      <td>2</td>\n",
       "      <td>2.69</td>\n",
       "      <td>40.416968822636726, -3.7094389211089993</td>\n",
       "      <td>Host Has Profile Pic,Host Identity Verified,Is...</td>\n",
       "    </tr>\n",
       "    <tr>\n",
       "      <th>5</th>\n",
       "      <td>2070750</td>\n",
       "      <td>https://www.airbnb.com/rooms/2070750</td>\n",
       "      <td>20170407214119</td>\n",
       "      <td>2017-04-08</td>\n",
       "      <td>Centric room with a balcony</td>\n",
       "      <td>Lominous room for rent in the heart of the old...</td>\n",
       "      <td>Lominous room for rent in the heart of the old...</td>\n",
       "      <td>Lominous room for rent in the heart of the old...</td>\n",
       "      <td>none</td>\n",
       "      <td>-</td>\n",
       "      <td>-</td>\n",
       "      <td>-</td>\n",
       "      <td>-</td>\n",
       "      <td>-</td>\n",
       "      <td>-</td>\n",
       "      <td>https://a0.muscache.com/im/pictures/84378550/f...</td>\n",
       "      <td>https://a0.muscache.com/im/pictures/84378550/f...</td>\n",
       "      <td>https://public.opendatasoft.com/api/explore/v2...</td>\n",
       "      <td>https://a0.muscache.com/im/pictures/84378550/f...</td>\n",
       "      <td>7005367</td>\n",
       "      <td>https://www.airbnb.com/users/show/7005367</td>\n",
       "      <td>Sergio</td>\n",
       "      <td>2013-06-19</td>\n",
       "      <td>Madrid, Community of Madrid, Spain</td>\n",
       "      <td>Viajar, música, libros y naturaleza.</td>\n",
       "      <td>within a day</td>\n",
       "      <td>80</td>\n",
       "      <td>NaN</td>\n",
       "      <td>https://a0.muscache.com/im/users/7005367/profi...</td>\n",
       "      <td>https://a0.muscache.com/im/users/7005367/profi...</td>\n",
       "      <td>La Latina</td>\n",
       "      <td>4</td>\n",
       "      <td>4</td>\n",
       "      <td>email,phone,reviews,jumio</td>\n",
       "      <td>Madrid, Community of Madrid, Spain</td>\n",
       "      <td>La Latina</td>\n",
       "      <td>Palacio</td>\n",
       "      <td>Centro</td>\n",
       "      <td>Madrid</td>\n",
       "      <td>Community of Madrid</td>\n",
       "      <td>NaN</td>\n",
       "      <td>Madrid</td>\n",
       "      <td>Madrid, Spain</td>\n",
       "      <td>ES</td>\n",
       "      <td>Spain</td>\n",
       "      <td>40.4097</td>\n",
       "      <td>-3.71356</td>\n",
       "      <td>Apartment</td>\n",
       "      <td>Private room</td>\n",
       "      <td>2</td>\n",
       "      <td>1</td>\n",
       "      <td>1</td>\n",
       "      <td>1</td>\n",
       "      <td>Real Bed</td>\n",
       "      <td>Wireless Internet,Kitchen,Pets allowed,Buzzer/...</td>\n",
       "      <td>861</td>\n",
       "      <td>20</td>\n",
       "      <td>185</td>\n",
       "      <td>440</td>\n",
       "      <td>100</td>\n",
       "      <td>NaN</td>\n",
       "      <td>1</td>\n",
       "      <td>10</td>\n",
       "      <td>3</td>\n",
       "      <td>1125</td>\n",
       "      <td>4 days ago</td>\n",
       "      <td>NaN</td>\n",
       "      <td>7</td>\n",
       "      <td>37</td>\n",
       "      <td>67</td>\n",
       "      <td>158</td>\n",
       "      <td>2017-04-07</td>\n",
       "      <td>20</td>\n",
       "      <td>2014-07-22</td>\n",
       "      <td>2017-03-07</td>\n",
       "      <td>91</td>\n",
       "      <td>9</td>\n",
       "      <td>9</td>\n",
       "      <td>9</td>\n",
       "      <td>9</td>\n",
       "      <td>10</td>\n",
       "      <td>9</td>\n",
       "      <td>NaN</td>\n",
       "      <td>NaN</td>\n",
       "      <td>flexible</td>\n",
       "      <td>4</td>\n",
       "      <td>0.6</td>\n",
       "      <td>40.40970517560235, -3.7135611928841086</td>\n",
       "      <td>Host Has Profile Pic,Host Identity Verified,Is...</td>\n",
       "    </tr>\n",
       "    <tr>\n",
       "      <th>6</th>\n",
       "      <td>9832499</td>\n",
       "      <td>https://www.airbnb.com/rooms/9832499</td>\n",
       "      <td>20170407214119</td>\n",
       "      <td>2017-04-08</td>\n",
       "      <td>PLAZA DE ESPAÑA - Único - Gimnasio.</td>\n",
       "      <td>Ubicado en el famoso edificio Torre de Madrid,...</td>\n",
       "      <td>Ubicado en el famoso edificio Torre de Madrid,...</td>\n",
       "      <td>Ubicado en el famoso edificio Torre de Madrid,...</td>\n",
       "      <td>none</td>\n",
       "      <td>NaN</td>\n",
       "      <td>NaN</td>\n",
       "      <td>Metro \"Plaza de España\".</td>\n",
       "      <td>Gimnasio. Conserjería 24hs. Seguridad 24hs.</td>\n",
       "      <td>Siempre disponible para ayudarte a que tu esta...</td>\n",
       "      <td>1. Terminantemente prohibido fumar dentro del ...</td>\n",
       "      <td>https://a0.muscache.com/im/pictures/be441d1f-4...</td>\n",
       "      <td>https://a0.muscache.com/im/pictures/be441d1f-4...</td>\n",
       "      <td>https://public.opendatasoft.com/api/explore/v2...</td>\n",
       "      <td>https://a0.muscache.com/im/pictures/be441d1f-4...</td>\n",
       "      <td>1647109</td>\n",
       "      <td>https://www.airbnb.com/users/show/1647109</td>\n",
       "      <td>Daniel</td>\n",
       "      <td>2012-01-24</td>\n",
       "      <td>Region of Murcia, Spain</td>\n",
       "      <td>Amante del Running. Deportista. Me encanta el ...</td>\n",
       "      <td>within an hour</td>\n",
       "      <td>100</td>\n",
       "      <td>NaN</td>\n",
       "      <td>https://a0.muscache.com/im/pictures/49fd9f5c-0...</td>\n",
       "      <td>https://a0.muscache.com/im/pictures/49fd9f5c-0...</td>\n",
       "      <td>Chamberí</td>\n",
       "      <td>10</td>\n",
       "      <td>10</td>\n",
       "      <td>email,phone,facebook,reviews,jumio,work_email</td>\n",
       "      <td>Malasaña, Madrid, Comunidad de Madrid, Spain</td>\n",
       "      <td>Malasaña</td>\n",
       "      <td>Palacio</td>\n",
       "      <td>Centro</td>\n",
       "      <td>Madrid</td>\n",
       "      <td>Comunidad de Madrid</td>\n",
       "      <td>NaN</td>\n",
       "      <td>Madrid</td>\n",
       "      <td>Madrid, Spain</td>\n",
       "      <td>ES</td>\n",
       "      <td>Spain</td>\n",
       "      <td>40.4232</td>\n",
       "      <td>-3.71125</td>\n",
       "      <td>Apartment</td>\n",
       "      <td>Entire home/apt</td>\n",
       "      <td>4</td>\n",
       "      <td>1</td>\n",
       "      <td>1</td>\n",
       "      <td>2</td>\n",
       "      <td>Real Bed</td>\n",
       "      <td>TV,Internet,Wireless Internet,Air conditioning...</td>\n",
       "      <td>NaN</td>\n",
       "      <td>112</td>\n",
       "      <td>NaN</td>\n",
       "      <td>NaN</td>\n",
       "      <td>250</td>\n",
       "      <td>15</td>\n",
       "      <td>2</td>\n",
       "      <td>5</td>\n",
       "      <td>3</td>\n",
       "      <td>1900</td>\n",
       "      <td>today</td>\n",
       "      <td>NaN</td>\n",
       "      <td>7</td>\n",
       "      <td>13</td>\n",
       "      <td>21</td>\n",
       "      <td>248</td>\n",
       "      <td>2017-04-07</td>\n",
       "      <td>55</td>\n",
       "      <td>2016-01-02</td>\n",
       "      <td>2017-03-31</td>\n",
       "      <td>99</td>\n",
       "      <td>10</td>\n",
       "      <td>10</td>\n",
       "      <td>10</td>\n",
       "      <td>10</td>\n",
       "      <td>10</td>\n",
       "      <td>10</td>\n",
       "      <td>VT-1520</td>\n",
       "      <td>NaN</td>\n",
       "      <td>strict</td>\n",
       "      <td>9</td>\n",
       "      <td>3.56</td>\n",
       "      <td>40.42319271738103, -3.7112486513892</td>\n",
       "      <td>Host Is Superhost,Host Has Profile Pic,Host Id...</td>\n",
       "    </tr>\n",
       "    <tr>\n",
       "      <th>7</th>\n",
       "      <td>1868170</td>\n",
       "      <td>https://www.airbnb.com/rooms/1868170</td>\n",
       "      <td>20170407214119</td>\n",
       "      <td>2017-04-08</td>\n",
       "      <td>Loft/duplex 150m2, 3 double rooms</td>\n",
       "      <td>Huge, open plan spacious apartment in the cent...</td>\n",
       "      <td>Huge, open plan spacious apartment in the cent...</td>\n",
       "      <td>Huge, open plan spacious apartment in the cent...</td>\n",
       "      <td>none</td>\n",
       "      <td>NaN</td>\n",
       "      <td>NaN</td>\n",
       "      <td>Walking distance to everything you need.. also...</td>\n",
       "      <td>NaN</td>\n",
       "      <td>NaN</td>\n",
       "      <td>Please treat my house with the care and respec...</td>\n",
       "      <td>https://a0.muscache.com/im/pictures/c232f016-f...</td>\n",
       "      <td>https://a0.muscache.com/im/pictures/c232f016-f...</td>\n",
       "      <td>https://public.opendatasoft.com/api/explore/v2...</td>\n",
       "      <td>https://a0.muscache.com/im/pictures/c232f016-f...</td>\n",
       "      <td>9738650</td>\n",
       "      <td>https://www.airbnb.com/users/show/9738650</td>\n",
       "      <td>Carlos Chamarro</td>\n",
       "      <td>2013-10-31</td>\n",
       "      <td>Madrid, Community of Madrid, Spain</td>\n",
       "      <td>Hi I'm Carlos. I am an actor and a painter ori...</td>\n",
       "      <td>within a few hours</td>\n",
       "      <td>100</td>\n",
       "      <td>NaN</td>\n",
       "      <td>https://a0.muscache.com/im/pictures/c88a555a-e...</td>\n",
       "      <td>https://a0.muscache.com/im/pictures/c88a555a-e...</td>\n",
       "      <td>Palacio</td>\n",
       "      <td>1</td>\n",
       "      <td>1</td>\n",
       "      <td>email,phone,reviews,jumio</td>\n",
       "      <td>Palacio, Madrid, Community of Madrid 28005, Spain</td>\n",
       "      <td>Palacio</td>\n",
       "      <td>Palacio</td>\n",
       "      <td>Centro</td>\n",
       "      <td>Madrid</td>\n",
       "      <td>Community of Madrid</td>\n",
       "      <td>28005</td>\n",
       "      <td>Madrid</td>\n",
       "      <td>Madrid, Spain</td>\n",
       "      <td>ES</td>\n",
       "      <td>Spain</td>\n",
       "      <td>40.4165</td>\n",
       "      <td>-3.71784</td>\n",
       "      <td>Apartment</td>\n",
       "      <td>Entire home/apt</td>\n",
       "      <td>8</td>\n",
       "      <td>3</td>\n",
       "      <td>3</td>\n",
       "      <td>4</td>\n",
       "      <td>Real Bed</td>\n",
       "      <td>TV,Internet,Wireless Internet,Kitchen,Pets all...</td>\n",
       "      <td>NaN</td>\n",
       "      <td>190</td>\n",
       "      <td>NaN</td>\n",
       "      <td>NaN</td>\n",
       "      <td>200</td>\n",
       "      <td>20</td>\n",
       "      <td>6</td>\n",
       "      <td>40</td>\n",
       "      <td>3</td>\n",
       "      <td>1125</td>\n",
       "      <td>4 weeks ago</td>\n",
       "      <td>NaN</td>\n",
       "      <td>6</td>\n",
       "      <td>20</td>\n",
       "      <td>24</td>\n",
       "      <td>296</td>\n",
       "      <td>2017-04-07</td>\n",
       "      <td>46</td>\n",
       "      <td>2013-12-09</td>\n",
       "      <td>2017-03-26</td>\n",
       "      <td>96</td>\n",
       "      <td>10</td>\n",
       "      <td>10</td>\n",
       "      <td>10</td>\n",
       "      <td>10</td>\n",
       "      <td>10</td>\n",
       "      <td>9</td>\n",
       "      <td>NaN</td>\n",
       "      <td>NaN</td>\n",
       "      <td>moderate</td>\n",
       "      <td>1</td>\n",
       "      <td>1.13</td>\n",
       "      <td>40.416513932601625, -3.7178427529546973</td>\n",
       "      <td>Host Is Superhost,Host Has Profile Pic,Host Id...</td>\n",
       "    </tr>\n",
       "  </tbody>\n",
       "</table>\n",
       "</div>"
      ],
      "text/plain": [
       "        ID                           Listing Url       Scrape ID Last Scraped  \\\n",
       "3  3150371  https://www.airbnb.com/rooms/3150371  20170407214119   2017-04-08   \n",
       "4  3378181  https://www.airbnb.com/rooms/3378181  20170407214119   2017-04-08   \n",
       "5  2070750  https://www.airbnb.com/rooms/2070750  20170407214119   2017-04-08   \n",
       "6  9832499  https://www.airbnb.com/rooms/9832499  20170407214119   2017-04-08   \n",
       "7  1868170  https://www.airbnb.com/rooms/1868170  20170407214119   2017-04-08   \n",
       "\n",
       "                                  Name  \\\n",
       "3   Double room + bathroom - La Latina   \n",
       "4     Ópera/Plz Mayor -- A/C, elevator   \n",
       "5          Centric room with a balcony   \n",
       "6  PLAZA DE ESPAÑA - Único - Gimnasio.   \n",
       "7    Loft/duplex 150m2, 3 double rooms   \n",
       "\n",
       "                                             Summary  \\\n",
       "3  Double room with own bathroom in La Latina, in...   \n",
       "4  Old world charm meets modern comfort in our ne...   \n",
       "5  Lominous room for rent in the heart of the old...   \n",
       "6  Ubicado en el famoso edificio Torre de Madrid,...   \n",
       "7  Huge, open plan spacious apartment in the cent...   \n",
       "\n",
       "                                               Space  \\\n",
       "3  The apartment is spacious and cozy. It is 90 m...   \n",
       "4  Designed with the traveler in mind, our one-be...   \n",
       "5  Lominous room for rent in the heart of the old...   \n",
       "6  Ubicado en el famoso edificio Torre de Madrid,...   \n",
       "7  Huge, open plan spacious apartment in the cent...   \n",
       "\n",
       "                                         Description Experiences Offered  \\\n",
       "3  Double room with own bathroom in La Latina, in...                none   \n",
       "4  Old world charm meets modern comfort in our ne...                none   \n",
       "5  Lominous room for rent in the heart of the old...                none   \n",
       "6  Ubicado en el famoso edificio Torre de Madrid,...                none   \n",
       "7  Huge, open plan spacious apartment in the cent...                none   \n",
       "\n",
       "                               Neighborhood Overview Notes  \\\n",
       "3  La Latina is one of the most famous neighbourh...   NaN   \n",
       "4  The neighborhood is steeped in history and clo...   NaN   \n",
       "5                                                  -     -   \n",
       "6                                                NaN   NaN   \n",
       "7                                                NaN   NaN   \n",
       "\n",
       "                                             Transit  \\\n",
       "3  The closest tube station is La Latina (line 5 ...   \n",
       "4  The apartment is close to the Ópera metro stat...   \n",
       "5                                                  -   \n",
       "6                           Metro \"Plaza de España\".   \n",
       "7  Walking distance to everything you need.. also...   \n",
       "\n",
       "                                              Access  \\\n",
       "3  You can use the kitchen, the lounge, the terra...   \n",
       "4                     The entire apartment is yours.   \n",
       "5                                                  -   \n",
       "6        Gimnasio. Conserjería 24hs. Seguridad 24hs.   \n",
       "7                                                NaN   \n",
       "\n",
       "                                         Interaction  \\\n",
       "3  The bedrooms are totally separated: one at one...   \n",
       "4  We are always available to answer questions an...   \n",
       "5                                                  -   \n",
       "6  Siempre disponible para ayudarte a que tu esta...   \n",
       "7                                                NaN   \n",
       "\n",
       "                                         House Rules  \\\n",
       "3  Care and respect are both required in the comm...   \n",
       "4  The Golden Rule shall apply always :) The apar...   \n",
       "5                                                  -   \n",
       "6  1. Terminantemente prohibido fumar dentro del ...   \n",
       "7  Please treat my house with the care and respec...   \n",
       "\n",
       "                                       Thumbnail Url  \\\n",
       "3  https://a0.muscache.com/im/pictures/40713802/3...   \n",
       "4  https://a0.muscache.com/im/pictures/44239584/c...   \n",
       "5  https://a0.muscache.com/im/pictures/84378550/f...   \n",
       "6  https://a0.muscache.com/im/pictures/be441d1f-4...   \n",
       "7  https://a0.muscache.com/im/pictures/c232f016-f...   \n",
       "\n",
       "                                          Medium Url  \\\n",
       "3  https://a0.muscache.com/im/pictures/40713802/3...   \n",
       "4  https://a0.muscache.com/im/pictures/44239584/c...   \n",
       "5  https://a0.muscache.com/im/pictures/84378550/f...   \n",
       "6  https://a0.muscache.com/im/pictures/be441d1f-4...   \n",
       "7  https://a0.muscache.com/im/pictures/c232f016-f...   \n",
       "\n",
       "                                         Picture Url  \\\n",
       "3  https://public.opendatasoft.com/api/explore/v2...   \n",
       "4  https://public.opendatasoft.com/api/explore/v2...   \n",
       "5  https://public.opendatasoft.com/api/explore/v2...   \n",
       "6  https://public.opendatasoft.com/api/explore/v2...   \n",
       "7  https://public.opendatasoft.com/api/explore/v2...   \n",
       "\n",
       "                                      XL Picture Url   Host ID  \\\n",
       "3  https://a0.muscache.com/im/pictures/40713802/3...  11902716   \n",
       "4  https://a0.muscache.com/im/pictures/44239584/c...    809083   \n",
       "5  https://a0.muscache.com/im/pictures/84378550/f...   7005367   \n",
       "6  https://a0.muscache.com/im/pictures/be441d1f-4...   1647109   \n",
       "7  https://a0.muscache.com/im/pictures/c232f016-f...   9738650   \n",
       "\n",
       "                                     Host URL        Host Name  Host Since  \\\n",
       "3  https://www.airbnb.com/users/show/11902716  Daniel Y Ximena  2014-02-03   \n",
       "4    https://www.airbnb.com/users/show/809083          Michael  2011-07-12   \n",
       "5   https://www.airbnb.com/users/show/7005367           Sergio  2013-06-19   \n",
       "6   https://www.airbnb.com/users/show/1647109           Daniel  2012-01-24   \n",
       "7   https://www.airbnb.com/users/show/9738650  Carlos Chamarro  2013-10-31   \n",
       "\n",
       "                        Host Location  \\\n",
       "3  Madrid, Community of Madrid, Spain   \n",
       "4               Madrid, Madrid, Spain   \n",
       "5  Madrid, Community of Madrid, Spain   \n",
       "6             Region of Murcia, Spain   \n",
       "7  Madrid, Community of Madrid, Spain   \n",
       "\n",
       "                                          Host About  Host Response Time  \\\n",
       "3  Aficionados al cine, la música, los amigos, el...        within a day   \n",
       "4  I'm a US expat who enjoys welcoming people fro...        within a day   \n",
       "5               Viajar, música, libros y naturaleza.        within a day   \n",
       "6  Amante del Running. Deportista. Me encanta el ...      within an hour   \n",
       "7  Hi I'm Carlos. I am an actor and a painter ori...  within a few hours   \n",
       "\n",
       "   Host Response Rate Host Acceptance Rate  \\\n",
       "3                 100                  NaN   \n",
       "4                  94                  NaN   \n",
       "5                  80                  NaN   \n",
       "6                 100                  NaN   \n",
       "7                 100                  NaN   \n",
       "\n",
       "                                  Host Thumbnail Url  \\\n",
       "3  https://a0.muscache.com/im/users/11902716/prof...   \n",
       "4  https://a0.muscache.com/im/users/809083/profil...   \n",
       "5  https://a0.muscache.com/im/users/7005367/profi...   \n",
       "6  https://a0.muscache.com/im/pictures/49fd9f5c-0...   \n",
       "7  https://a0.muscache.com/im/pictures/c88a555a-e...   \n",
       "\n",
       "                                    Host Picture Url Host Neighbourhood  \\\n",
       "3  https://a0.muscache.com/im/users/11902716/prof...            Palacio   \n",
       "4  https://a0.muscache.com/im/users/809083/profil...            Palacio   \n",
       "5  https://a0.muscache.com/im/users/7005367/profi...          La Latina   \n",
       "6  https://a0.muscache.com/im/pictures/49fd9f5c-0...           Chamberí   \n",
       "7  https://a0.muscache.com/im/pictures/c88a555a-e...            Palacio   \n",
       "\n",
       "   Host Listings Count  Host Total Listings Count  \\\n",
       "3                    1                          1   \n",
       "4                    3                          3   \n",
       "5                    4                          4   \n",
       "6                   10                         10   \n",
       "7                    1                          1   \n",
       "\n",
       "                              Host Verifications  \\\n",
       "3                      email,phone,reviews,jumio   \n",
       "4  email,phone,facebook,reviews,jumio,work_email   \n",
       "5                      email,phone,reviews,jumio   \n",
       "6  email,phone,facebook,reviews,jumio,work_email   \n",
       "7                      email,phone,reviews,jumio   \n",
       "\n",
       "                                              Street Neighbourhood  \\\n",
       "3  Palacio, Madrid, Community of Madrid 28005, Spain       Palacio   \n",
       "4  Palacio, Madrid, Community of Madrid 28013, Spain       Palacio   \n",
       "5                 Madrid, Community of Madrid, Spain     La Latina   \n",
       "6       Malasaña, Madrid, Comunidad de Madrid, Spain      Malasaña   \n",
       "7  Palacio, Madrid, Community of Madrid 28005, Spain       Palacio   \n",
       "\n",
       "  Neighbourhood Cleansed Neighbourhood Group Cleansed    City  \\\n",
       "3                Palacio                       Centro  Madrid   \n",
       "4                Palacio                       Centro  Madrid   \n",
       "5                Palacio                       Centro  Madrid   \n",
       "6                Palacio                       Centro  Madrid   \n",
       "7                Palacio                       Centro  Madrid   \n",
       "\n",
       "                 State Zipcode  Market Smart Location Country Code Country  \\\n",
       "3  Community of Madrid   28005  Madrid  Madrid, Spain           ES   Spain   \n",
       "4  Community of Madrid   28013  Madrid  Madrid, Spain           ES   Spain   \n",
       "5  Community of Madrid     NaN  Madrid  Madrid, Spain           ES   Spain   \n",
       "6  Comunidad de Madrid     NaN  Madrid  Madrid, Spain           ES   Spain   \n",
       "7  Community of Madrid   28005  Madrid  Madrid, Spain           ES   Spain   \n",
       "\n",
       "   Latitude  Longitude Property Type        Room Type  Accommodates  \\\n",
       "3   40.4101   -3.71475     Apartment     Private room             2   \n",
       "4    40.417   -3.70944     Apartment  Entire home/apt             2   \n",
       "5   40.4097   -3.71356     Apartment     Private room             2   \n",
       "6   40.4232   -3.71125     Apartment  Entire home/apt             4   \n",
       "7   40.4165   -3.71784     Apartment  Entire home/apt             8   \n",
       "\n",
       "   Bathrooms  Bedrooms  Beds  Bed Type  \\\n",
       "3          1         1     1  Real Bed   \n",
       "4          1         1     1  Real Bed   \n",
       "5          1         1     1  Real Bed   \n",
       "6          1         1     2  Real Bed   \n",
       "7          3         3     4  Real Bed   \n",
       "\n",
       "                                           Amenities  Square Feet  Price  \\\n",
       "3  TV,Internet,Wireless Internet,Kitchen,Doorman,...          NaN     36   \n",
       "4  TV,Wireless Internet,Air conditioning,Kitchen,...          NaN     85   \n",
       "5  Wireless Internet,Kitchen,Pets allowed,Buzzer/...          861     20   \n",
       "6  TV,Internet,Wireless Internet,Air conditioning...          NaN    112   \n",
       "7  TV,Internet,Wireless Internet,Kitchen,Pets all...          NaN    190   \n",
       "\n",
       "   Weekly Price  Monthly Price  Security Deposit  Cleaning Fee  \\\n",
       "3           NaN            NaN               NaN           NaN   \n",
       "4           600           1800               100            30   \n",
       "5           185            440               100           NaN   \n",
       "6           NaN            NaN               250            15   \n",
       "7           NaN            NaN               200            20   \n",
       "\n",
       "   Guests Included  Extra People  Minimum Nights  Maximum Nights  \\\n",
       "3                1             0               2            1125   \n",
       "4                1             0               3            1125   \n",
       "5                1            10               3            1125   \n",
       "6                2             5               3            1900   \n",
       "7                6            40               3            1125   \n",
       "\n",
       "  Calendar Updated Has Availability  Availability 30  Availability 60  \\\n",
       "3       4 days ago              NaN                1                1   \n",
       "4       5 days ago              NaN               12               32   \n",
       "5       4 days ago              NaN                7               37   \n",
       "6            today              NaN                7               13   \n",
       "7      4 weeks ago              NaN                6               20   \n",
       "\n",
       "   Availability 90  Availability 365 Calendar last Scraped  Number of Reviews  \\\n",
       "3                1                 1            2017-04-07                 80   \n",
       "4               45               320            2017-04-07                 90   \n",
       "5               67               158            2017-04-07                 20   \n",
       "6               21               248            2017-04-07                 55   \n",
       "7               24               296            2017-04-07                 46   \n",
       "\n",
       "  First Review Last Review  Review Scores Rating  Review Scores Accuracy  \\\n",
       "3   2014-06-15  2017-04-01                    98                      10   \n",
       "4   2014-07-09  2017-02-28                    95                      10   \n",
       "5   2014-07-22  2017-03-07                    91                       9   \n",
       "6   2016-01-02  2017-03-31                    99                      10   \n",
       "7   2013-12-09  2017-03-26                    96                      10   \n",
       "\n",
       "   Review Scores Cleanliness  Review Scores Checkin  \\\n",
       "3                         10                     10   \n",
       "4                          9                     10   \n",
       "5                          9                      9   \n",
       "6                         10                     10   \n",
       "7                         10                     10   \n",
       "\n",
       "   Review Scores Communication  Review Scores Location  Review Scores Value  \\\n",
       "3                           10                      10                   10   \n",
       "4                           10                      10                   10   \n",
       "5                            9                      10                    9   \n",
       "6                           10                      10                   10   \n",
       "7                           10                      10                    9   \n",
       "\n",
       "   License Jurisdiction Names Cancellation Policy  \\\n",
       "3      NaN                NaN            flexible   \n",
       "4      NaN                NaN              strict   \n",
       "5      NaN                NaN            flexible   \n",
       "6  VT-1520                NaN              strict   \n",
       "7      NaN                NaN            moderate   \n",
       "\n",
       "   Calculated host listings count  Reviews per Month  \\\n",
       "3                               1               2.33   \n",
       "4                               2               2.69   \n",
       "5                               4                0.6   \n",
       "6                               9               3.56   \n",
       "7                               1               1.13   \n",
       "\n",
       "                               Geolocation  \\\n",
       "3    40.41010608050749, -3.714754034177323   \n",
       "4  40.416968822636726, -3.7094389211089993   \n",
       "5   40.40970517560235, -3.7135611928841086   \n",
       "6      40.42319271738103, -3.7112486513892   \n",
       "7  40.416513932601625, -3.7178427529546973   \n",
       "\n",
       "                                            Features  \n",
       "3  Host Has Profile Pic,Host Identity Verified,Is...  \n",
       "4  Host Has Profile Pic,Host Identity Verified,Is...  \n",
       "5  Host Has Profile Pic,Host Identity Verified,Is...  \n",
       "6  Host Is Superhost,Host Has Profile Pic,Host Id...  \n",
       "7  Host Is Superhost,Host Has Profile Pic,Host Id...  "
      ]
     },
     "execution_count": 4,
     "metadata": {},
     "output_type": "execute_result"
    }
   ],
   "source": [
    "df_madrid.head()"
   ]
  },
  {
   "cell_type": "markdown",
   "id": "a915dad4",
   "metadata": {
    "ExecuteTime": {
     "end_time": "2023-02-09T17:41:52.085380Z",
     "start_time": "2023-02-09T17:41:52.070742Z"
    }
   },
   "source": [
    "Host Response rate tiene 1655 NaN, y los cuartiles Q2, Q3 y Q4 son 100, portanto tiene muy poca variabilidad."
   ]
  },
  {
   "cell_type": "markdown",
   "id": "42decc07",
   "metadata": {},
   "source": [
    "## Feature Engineering"
   ]
  },
  {
   "cell_type": "code",
   "execution_count": 5,
   "id": "cf2acc23",
   "metadata": {
    "ExecuteTime": {
     "end_time": "2023-02-13T10:36:15.267503Z",
     "start_time": "2023-02-13T10:36:15.237386Z"
    }
   },
   "outputs": [],
   "source": [
    "df_madrid_new_features = df_madrid.copy()"
   ]
  },
  {
   "cell_type": "markdown",
   "id": "18554458",
   "metadata": {},
   "source": [
    "### Name"
   ]
  },
  {
   "cell_type": "markdown",
   "id": "0a386ee1",
   "metadata": {},
   "source": [
    "#### Len"
   ]
  },
  {
   "cell_type": "code",
   "execution_count": 6,
   "id": "0ad2cd5f",
   "metadata": {
    "ExecuteTime": {
     "end_time": "2023-02-13T10:36:15.304783Z",
     "start_time": "2023-02-13T10:36:15.274410Z"
    }
   },
   "outputs": [],
   "source": [
    "df_madrid_new_features['Name_Len'] = df_madrid['Name'].apply(lambda x: len(x))"
   ]
  },
  {
   "cell_type": "code",
   "execution_count": 7,
   "id": "adec5cb3",
   "metadata": {
    "ExecuteTime": {
     "end_time": "2023-02-13T10:36:16.165695Z",
     "start_time": "2023-02-13T10:36:15.312942Z"
    }
   },
   "outputs": [
    {
     "data": {
      "image/png": "[encoded data removed]",
      "text/plain": [
       "<Figure size 360x360 with 1 Axes>"
      ]
     },
     "metadata": {},
     "output_type": "display_data"
    }
   ],
   "source": [
    "sns.relplot(data=df_madrid_new_features, x='Name_Len', y='Price')\n",
    "plt.title('Relplot Lenght of the name vs the price', size=20)\n",
    "plt.xticks(size=10)\n",
    "plt.yticks(size=10)\n",
    "plt.xlabel('Lenth Title', fontsize=20)\n",
    "plt.ylabel('Price', fontsize=20)\n",
    "plt.show()"
   ]
  },
  {
   "cell_type": "code",
   "execution_count": 8,
   "id": "26ba56bc",
   "metadata": {
    "ExecuteTime": {
     "end_time": "2023-02-13T10:36:16.184494Z",
     "start_time": "2023-02-13T10:36:16.169523Z"
    }
   },
   "outputs": [
    {
     "data": {
      "text/plain": [
       "array([34, 32, 27, 35, 33, 24, 29, 16, 41, 42, 22, 46, 28, 39, 47, 49, 50,\n",
       "       26, 25, 40, 14, 30, 44, 45, 17, 23, 12, 31, 48, 19, 18, 43, 36, 38,\n",
       "       20, 37, 13, 15, 21, 10,  7, 11,  9, 57,  1,  5,  6,  4,  2, 62,  8,\n",
       "        3, 68, 71, 59, 52, 75])"
      ]
     },
     "execution_count": 8,
     "metadata": {},
     "output_type": "execute_result"
    }
   ],
   "source": [
    "df_madrid_new_features['Name_Len'].unique()"
   ]
  },
  {
   "cell_type": "code",
   "execution_count": 9,
   "id": "ec26f613",
   "metadata": {
    "ExecuteTime": {
     "end_time": "2023-02-13T10:36:16.207090Z",
     "start_time": "2023-02-13T10:36:16.189168Z"
    }
   },
   "outputs": [
    {
     "data": {
      "text/plain": [
       "count     13207\n",
       "mean    33.3023\n",
       "std     9.02144\n",
       "min           1\n",
       "25%          28\n",
       "50%          33\n",
       "75%          38\n",
       "max          75\n",
       "Name: Name_Len, dtype: float64"
      ]
     },
     "execution_count": 9,
     "metadata": {},
     "output_type": "execute_result"
    }
   ],
   "source": [
    "df_madrid_new_features['Name_Len'].describe()"
   ]
  },
  {
   "cell_type": "code",
   "execution_count": 10,
   "id": "2ff070ae",
   "metadata": {
    "ExecuteTime": {
     "end_time": "2023-02-13T10:36:16.248254Z",
     "start_time": "2023-02-13T10:36:16.218561Z"
    }
   },
   "outputs": [
    {
     "data": {
      "text/html": [
       "<div>\n",
       "<style scoped>\n",
       "    .dataframe tbody tr th:only-of-type {\n",
       "        vertical-align: middle;\n",
       "    }\n",
       "\n",
       "    .dataframe tbody tr th {\n",
       "        vertical-align: top;\n",
       "    }\n",
       "\n",
       "    .dataframe thead th {\n",
       "        text-align: right;\n",
       "    }\n",
       "</style>\n",
       "<table border=\"1\" class=\"dataframe\">\n",
       "  <thead>\n",
       "    <tr style=\"text-align: right;\">\n",
       "      <th></th>\n",
       "      <th>Name_Len</th>\n",
       "      <th>Price</th>\n",
       "    </tr>\n",
       "  </thead>\n",
       "  <tbody>\n",
       "    <tr>\n",
       "      <th>Name_Len</th>\n",
       "      <td>1</td>\n",
       "      <td>0.0256071</td>\n",
       "    </tr>\n",
       "    <tr>\n",
       "      <th>Price</th>\n",
       "      <td>0.0256071</td>\n",
       "      <td>1</td>\n",
       "    </tr>\n",
       "  </tbody>\n",
       "</table>\n",
       "</div>"
      ],
      "text/plain": [
       "          Name_Len     Price\n",
       "Name_Len         1 0.0256071\n",
       "Price    0.0256071         1"
      ]
     },
     "execution_count": 10,
     "metadata": {},
     "output_type": "execute_result"
    }
   ],
   "source": [
    "df_madrid_new_features[['Name_Len','Price']].corr()"
   ]
  },
  {
   "cell_type": "markdown",
   "id": "08393c37",
   "metadata": {},
   "source": [
    "#### Idioma"
   ]
  },
  {
   "cell_type": "code",
   "execution_count": 11,
   "id": "2055b07d",
   "metadata": {
    "ExecuteTime": {
     "end_time": "2023-02-13T10:36:16.369014Z",
     "start_time": "2023-02-13T10:36:16.254389Z"
    }
   },
   "outputs": [],
   "source": [
    "import langdetect"
   ]
  },
  {
   "cell_type": "code",
   "execution_count": 12,
   "id": "94b7b2ec",
   "metadata": {
    "ExecuteTime": {
     "end_time": "2023-02-13T10:36:17.224254Z",
     "start_time": "2023-02-13T10:36:16.373607Z"
    }
   },
   "outputs": [
    {
     "data": {
      "text/plain": [
       "'en'"
      ]
     },
     "execution_count": 12,
     "metadata": {},
     "output_type": "execute_result"
    }
   ],
   "source": [
    "langdetect.detect(\"Hello World my fried is rich\")"
   ]
  },
  {
   "cell_type": "code",
   "execution_count": 13,
   "id": "167afe5a",
   "metadata": {
    "ExecuteTime": {
     "end_time": "2023-02-13T10:36:17.240897Z",
     "start_time": "2023-02-13T10:36:17.227447Z"
    }
   },
   "outputs": [],
   "source": [
    "def is_str_english(string):\n",
    "    '''\n",
    "    Detects if a language is english or not\n",
    "    input: string\n",
    "    output: bool\n",
    "    '''\n",
    "    try:\n",
    "        if string != string: #NaN --> False\n",
    "            return False\n",
    "        else:\n",
    "            return langdetect.detect(string)=='en'\n",
    "    except:\n",
    "        return False"
   ]
  },
  {
   "cell_type": "code",
   "execution_count": 14,
   "id": "3240cdad",
   "metadata": {
    "ExecuteTime": {
     "end_time": "2023-02-13T10:36:17.256175Z",
     "start_time": "2023-02-13T10:36:17.246492Z"
    }
   },
   "outputs": [
    {
     "data": {
      "text/plain": [
       "13207"
      ]
     },
     "execution_count": 14,
     "metadata": {},
     "output_type": "execute_result"
    }
   ],
   "source": [
    "df_madrid['Name'].shape[0]"
   ]
  },
  {
   "cell_type": "code",
   "execution_count": 15,
   "id": "e750771d",
   "metadata": {
    "ExecuteTime": {
     "end_time": "2023-02-13T10:36:17.272718Z",
     "start_time": "2023-02-13T10:36:17.260555Z"
    }
   },
   "outputs": [
    {
     "data": {
      "text/plain": [
       "'Apartamento para dos en La Latina'"
      ]
     },
     "execution_count": 15,
     "metadata": {},
     "output_type": "execute_result"
    }
   ],
   "source": [
    "df_madrid['Name'].iloc[12]"
   ]
  },
  {
   "cell_type": "code",
   "execution_count": 16,
   "id": "ba13bd69",
   "metadata": {
    "ExecuteTime": {
     "end_time": "2023-02-13T10:36:17.311230Z",
     "start_time": "2023-02-13T10:36:17.279778Z"
    }
   },
   "outputs": [
    {
     "data": {
      "text/plain": [
       "False"
      ]
     },
     "execution_count": 16,
     "metadata": {},
     "output_type": "execute_result"
    }
   ],
   "source": [
    "is_str_english((df_madrid['Name'].iloc[12]))"
   ]
  },
  {
   "cell_type": "code",
   "execution_count": 17,
   "id": "e3396d1e",
   "metadata": {
    "ExecuteTime": {
     "end_time": "2023-02-13T10:36:17.333064Z",
     "start_time": "2023-02-13T10:36:17.316387Z"
    }
   },
   "outputs": [
    {
     "data": {
      "text/plain": [
       "False"
      ]
     },
     "execution_count": 17,
     "metadata": {},
     "output_type": "execute_result"
    }
   ],
   "source": [
    "is_str_english(np.nan)"
   ]
  },
  {
   "cell_type": "code",
   "execution_count": 18,
   "id": "520a4ff1",
   "metadata": {
    "ExecuteTime": {
     "end_time": "2023-02-13T10:42:09.933144Z",
     "start_time": "2023-02-13T10:36:17.341359Z"
    }
   },
   "outputs": [],
   "source": [
    "df_madrid_new_features['Name_Lang'] = df_madrid['Name'].apply(lambda x: is_str_english(x))"
   ]
  },
  {
   "cell_type": "code",
   "execution_count": 19,
   "id": "2566cf13",
   "metadata": {
    "ExecuteTime": {
     "end_time": "2023-02-13T10:42:10.261904Z",
     "start_time": "2023-02-13T10:42:09.942927Z"
    }
   },
   "outputs": [
    {
     "data": {
      "text/plain": [
       "array([ True, False])"
      ]
     },
     "execution_count": 19,
     "metadata": {},
     "output_type": "execute_result"
    }
   ],
   "source": [
    "df_madrid_new_features['Name_Lang'].unique()"
   ]
  },
  {
   "cell_type": "markdown",
   "id": "ee26944c",
   "metadata": {},
   "source": [
    "### Summary"
   ]
  },
  {
   "cell_type": "markdown",
   "id": "265ba0ea",
   "metadata": {
    "ExecuteTime": {
     "end_time": "2023-02-10T18:34:47.523346Z",
     "start_time": "2023-02-10T18:34:47.520229Z"
    }
   },
   "source": [
    "#### Len"
   ]
  },
  {
   "cell_type": "code",
   "execution_count": 20,
   "id": "c9f06013",
   "metadata": {
    "ExecuteTime": {
     "end_time": "2023-02-13T10:42:10.298732Z",
     "start_time": "2023-02-13T10:42:10.271677Z"
    }
   },
   "outputs": [
    {
     "data": {
      "text/plain": [
       "array(['Double room with own bathroom in La Latina, in the heart of Madrid.',\n",
       "       \"Old world charm meets modern comfort in our newly-renovated, non-smoking 1-BR apartment with a/c in an elevator building in one of Madrid's grandest neighborhoods. Steps from Plaza Mayor, Ópera, royal palace, shopping, and major subway hubs.\",\n",
       "       \"Lominous room for rent in the heart of the old Madrid (see location), between La Latina and Puerta de Toledo metro stations, is also very near Tirso de Molina. It's situated in the best tapa´s zone of the city but in a quite street.\",\n",
       "       ...,\n",
       "       'El apartamento está en el corazón de Madrid, es muy silencioso, cómodo y confortable.',\n",
       "       'With a fantastic location just off the vibrant Gran Via avenue in Madrid’s city centre, this two bedroom apartment is a great choice for those looking to immerse themselves in inner-city life.',\n",
       "       'Big room for rent,  with a balcony. With furniture, 135cm Bed. Not smoking. I have a nice cat. Very central and good comunicated. Very quiet. Sheets, towelsand all you may need included.  I have a living room with two coaches, TV air acconditioning.'],\n",
       "      dtype=object)"
      ]
     },
     "execution_count": 20,
     "metadata": {},
     "output_type": "execute_result"
    }
   ],
   "source": [
    "df_madrid['Summary'].unique()"
   ]
  },
  {
   "cell_type": "code",
   "execution_count": 21,
   "id": "b1b446c1",
   "metadata": {
    "ExecuteTime": {
     "end_time": "2023-02-13T10:42:10.351383Z",
     "start_time": "2023-02-13T10:42:10.305649Z"
    }
   },
   "outputs": [],
   "source": [
    "df_madrid_new_features['Summary_Len'] = df_madrid['Summary'].apply(lambda x: len(x) if x == x else 0) #NaN len == 0"
   ]
  },
  {
   "cell_type": "code",
   "execution_count": 22,
   "id": "901abab3",
   "metadata": {
    "ExecuteTime": {
     "end_time": "2023-02-13T10:42:12.421782Z",
     "start_time": "2023-02-13T10:42:10.370373Z"
    }
   },
   "outputs": [
    {
     "data": {
      "image/png": "[encoded data removed]",
      "text/plain": [
       "<Figure size 360x360 with 1 Axes>"
      ]
     },
     "metadata": {},
     "output_type": "display_data"
    }
   ],
   "source": [
    "sns.relplot(data=df_madrid_new_features, x='Summary_Len', y='Price')\n",
    "plt.title('Relplot Lenght of the Summary vs the price', size=20)\n",
    "plt.xticks(size=10)\n",
    "plt.yticks(size=10)\n",
    "plt.xlabel('Lenth Title', fontsize=20)\n",
    "plt.ylabel('Price', fontsize=20)\n",
    "plt.show()"
   ]
  },
  {
   "cell_type": "code",
   "execution_count": 23,
   "id": "bd3ef812",
   "metadata": {
    "ExecuteTime": {
     "end_time": "2023-02-13T10:42:12.471837Z",
     "start_time": "2023-02-13T10:42:12.427559Z"
    }
   },
   "outputs": [
    {
     "data": {
      "text/plain": [
       "count     13207\n",
       "mean    270.512\n",
       "std     132.923\n",
       "min           0\n",
       "25%         202\n",
       "50%         247\n",
       "75%         353\n",
       "max        1000\n",
       "Name: Summary_Len, dtype: float64"
      ]
     },
     "execution_count": 23,
     "metadata": {},
     "output_type": "execute_result"
    }
   ],
   "source": [
    "df_madrid_new_features['Summary_Len'].describe()"
   ]
  },
  {
   "cell_type": "code",
   "execution_count": 24,
   "id": "0047f127",
   "metadata": {
    "ExecuteTime": {
     "end_time": "2023-02-13T10:42:12.529064Z",
     "start_time": "2023-02-13T10:42:12.487354Z"
    }
   },
   "outputs": [
    {
     "data": {
      "text/html": [
       "<div>\n",
       "<style scoped>\n",
       "    .dataframe tbody tr th:only-of-type {\n",
       "        vertical-align: middle;\n",
       "    }\n",
       "\n",
       "    .dataframe tbody tr th {\n",
       "        vertical-align: top;\n",
       "    }\n",
       "\n",
       "    .dataframe thead th {\n",
       "        text-align: right;\n",
       "    }\n",
       "</style>\n",
       "<table border=\"1\" class=\"dataframe\">\n",
       "  <thead>\n",
       "    <tr style=\"text-align: right;\">\n",
       "      <th></th>\n",
       "      <th>Summary_Len</th>\n",
       "      <th>Price</th>\n",
       "    </tr>\n",
       "  </thead>\n",
       "  <tbody>\n",
       "    <tr>\n",
       "      <th>Summary_Len</th>\n",
       "      <td>1</td>\n",
       "      <td>0.00539261</td>\n",
       "    </tr>\n",
       "    <tr>\n",
       "      <th>Price</th>\n",
       "      <td>0.00539261</td>\n",
       "      <td>1</td>\n",
       "    </tr>\n",
       "  </tbody>\n",
       "</table>\n",
       "</div>"
      ],
      "text/plain": [
       "             Summary_Len      Price\n",
       "Summary_Len            1 0.00539261\n",
       "Price         0.00539261          1"
      ]
     },
     "execution_count": 24,
     "metadata": {},
     "output_type": "execute_result"
    }
   ],
   "source": [
    "df_madrid_new_features[['Summary_Len','Price']].corr()"
   ]
  },
  {
   "cell_type": "markdown",
   "id": "25bbc397",
   "metadata": {},
   "source": [
    "#### Language"
   ]
  },
  {
   "cell_type": "code",
   "execution_count": 25,
   "id": "abcc7d51",
   "metadata": {
    "ExecuteTime": {
     "end_time": "2023-02-13T10:42:12.558347Z",
     "start_time": "2023-02-13T10:42:12.539519Z"
    }
   },
   "outputs": [
    {
     "data": {
      "text/plain": [
       "'Lugares de interés: La Latina, Plaza Mayor, Tirso de Molina, El Rastro, Lavapies. Te va a encantar mi espacio porque se trata de un apartamento luminoso y muy bien ubicado. Perfecto para dos personas que les apetezca callejear y disfrutar de Madrid y del barrio, teniendo además la opción de cocinar y relajarse en casa.'"
      ]
     },
     "execution_count": 25,
     "metadata": {},
     "output_type": "execute_result"
    }
   ],
   "source": [
    "df_madrid['Summary'].iloc[12]"
   ]
  },
  {
   "cell_type": "code",
   "execution_count": 26,
   "id": "c18ca695",
   "metadata": {
    "ExecuteTime": {
     "end_time": "2023-02-13T10:42:12.620323Z",
     "start_time": "2023-02-13T10:42:12.575085Z"
    }
   },
   "outputs": [
    {
     "data": {
      "text/plain": [
       "False"
      ]
     },
     "execution_count": 26,
     "metadata": {},
     "output_type": "execute_result"
    }
   ],
   "source": [
    "is_str_english(df_madrid['Summary'].iloc[12])"
   ]
  },
  {
   "cell_type": "code",
   "execution_count": 27,
   "id": "e7b3e568",
   "metadata": {
    "ExecuteTime": {
     "end_time": "2023-02-13T10:45:12.761400Z",
     "start_time": "2023-02-13T10:42:12.640087Z"
    }
   },
   "outputs": [],
   "source": [
    "df_madrid_new_features['Summary_Lang'] = df_madrid['Summary'].apply(lambda x: is_str_english(x))"
   ]
  },
  {
   "cell_type": "code",
   "execution_count": 28,
   "id": "ea9dd79e",
   "metadata": {
    "ExecuteTime": {
     "end_time": "2023-02-13T10:45:14.389025Z",
     "start_time": "2023-02-13T10:45:14.376431Z"
    }
   },
   "outputs": [
    {
     "data": {
      "text/plain": [
       "array([ True, False])"
      ]
     },
     "execution_count": 28,
     "metadata": {},
     "output_type": "execute_result"
    }
   ],
   "source": [
    "df_madrid_new_features['Summary_Lang'].unique()"
   ]
  },
  {
   "cell_type": "markdown",
   "id": "e9f9e63b",
   "metadata": {},
   "source": [
    "### Space"
   ]
  },
  {
   "cell_type": "markdown",
   "id": "1f479e95",
   "metadata": {
    "ExecuteTime": {
     "end_time": "2023-02-10T18:34:47.523346Z",
     "start_time": "2023-02-10T18:34:47.520229Z"
    }
   },
   "source": [
    "#### Len"
   ]
  },
  {
   "cell_type": "code",
   "execution_count": 29,
   "id": "6726949a",
   "metadata": {
    "ExecuteTime": {
     "end_time": "2023-02-13T10:45:14.425636Z",
     "start_time": "2023-02-13T10:45:14.396886Z"
    }
   },
   "outputs": [
    {
     "data": {
      "text/plain": [
       "array([\"The apartment is spacious and cozy. It is 90 m2, it has a terrace, 2 rooms, 2 baths, kitchen and lounge. The building has 2 elevators and doorman. The room is double (1 ó 2 guests), 11 m2, exterior, with natural light and the bathroom (4'5 m2) has everything  you need for your stay (toothpaste, shampoo, gel...). In addition we offer towels and sheets. The apartment is always clean and tidy in order that we can have a harmonious living space and you feel like you are in your own home.\",\n",
       "       'Designed with the traveler in mind, our one-bedroom apartment in an elevator building (dating to 1850) is in the heart of Madrid -- the perfect place to call home during your visit.   2014 floor-to-ceiling renovations include fully-equipped kitchen; air conditioning and plentiful heating; dishwasher; washer and dryer; bathroom facilities with separate shower, water closet, and wash basin (virtually eliminates bathroom hogging); ample built-in closet space; bedroom with double bed; living/dining room with a unique \"pass through\" table that can be configured to seat up to six diners or provide space for four diners and a desk for the bedroom. Bright and sunny, the apartment also features modern lighting, wireless internet, and mid-century design touches throughout. During the renovation process we discovered antique ceramic floor tiles that have been given new life as a design feature on the main wall of the bedroom. The apartment building is adjacent to a small fountain on a quiet stree',\n",
       "       \"Lominous room for rent in the heart of the old Madrid (see location), between La Latina and Puerta de Toledo metro stations, is also very near Tirso de Molina. It's situated in the best tapa´s zone of the city but in a quite street. It's 5 minutes walking from Plaza Mayor, 10 minutes from Puerta del Sol, 10 minutes from Casa de Campo, 5 minutes from the Rastro, Reina Sofia museum and Lavapiés neighbourhood. The apartment has a lot of natural light, has 6 balconies.\",\n",
       "       ...,\n",
       "       'Moderno apartamento tipo loft centrico (entre Chueca-Argüelles) (metro San bernardo) en planta baja, independiente de la finca (entrada por la calle y con hall de entrada), un salón con office y  dos habitaciones,  una de ellas tiene aseo (ducha y lavabo) y cama doble, amueblado y comodo.  El office o cocina sencilla, tiene todo lo necesaria para una cómoda estancia: placa de cocción,  microondas, cubiertos etc',\n",
       "       'Situated on the seventh floor of a modern building, the apartment itself is modern and stylish, and filled with light thanks to the large floor-to-ceiling windows. Open-plan in design, the living room features a sitting and dining area, and leads directly onto the kitchen, which comes fully equipped with everything guests may need during their stay. Each of the two bedrooms features plenty of in-built storage and has its own en-suite bedroom. The building itself offers guests a number of services and amenities, including a 24 hour concierge service, outdoor pool, gymnasium and sauna. [Gran XIII]',\n",
       "       \"My name is Silvia, I am scenographer and I live with my cat, Rodrigo.  We have a twin room for rent, just to one person, with a balcony to the street, fornitured, sheets and towels, 135cm bed. The house is old, very sunny and nice decorated.  I'm looking for someone clean and responsible, for short periods of time, between 2, 6 or 12 months. Cleaning woman each 15 days and all incl. Total 520e. In a nice area with shops and retaurants, but the street is very quiet. Very well communicated with ublic transport.\"],\n",
       "      dtype=object)"
      ]
     },
     "execution_count": 29,
     "metadata": {},
     "output_type": "execute_result"
    }
   ],
   "source": [
    "df_madrid['Space'].unique()"
   ]
  },
  {
   "cell_type": "code",
   "execution_count": 30,
   "id": "804a4966",
   "metadata": {
    "ExecuteTime": {
     "end_time": "2023-02-13T10:45:14.454737Z",
     "start_time": "2023-02-13T10:45:14.432699Z"
    }
   },
   "outputs": [],
   "source": [
    "df_madrid_new_features['Space_Len'] = df_madrid['Space'].apply(lambda x: len(x) if x == x else 0) #NaN len == 0"
   ]
  },
  {
   "cell_type": "code",
   "execution_count": 31,
   "id": "2cdb76f5",
   "metadata": {
    "ExecuteTime": {
     "end_time": "2023-02-13T10:45:15.521835Z",
     "start_time": "2023-02-13T10:45:14.459485Z"
    }
   },
   "outputs": [
    {
     "data": {
      "image/png": "[encoded data removed]",
      "text/plain": [
       "<Figure size 360x360 with 1 Axes>"
      ]
     },
     "metadata": {},
     "output_type": "display_data"
    }
   ],
   "source": [
    "sns.relplot(data=df_madrid_new_features, x='Space_Len', y='Price')\n",
    "plt.title('Relplot Lenght of the Summary vs the price', size=20)\n",
    "plt.xticks(size=10)\n",
    "plt.yticks(size=10)\n",
    "plt.xlabel('Lenth Title', fontsize=20)\n",
    "plt.ylabel('Price', fontsize=20)\n",
    "plt.show()"
   ]
  },
  {
   "cell_type": "code",
   "execution_count": 32,
   "id": "8a8d0313",
   "metadata": {
    "ExecuteTime": {
     "end_time": "2023-02-13T10:45:15.568999Z",
     "start_time": "2023-02-13T10:45:15.525294Z"
    }
   },
   "outputs": [
    {
     "data": {
      "text/plain": [
       "count     13207\n",
       "mean    335.535\n",
       "std     352.024\n",
       "min           0\n",
       "25%           0\n",
       "50%         216\n",
       "75%       553.5\n",
       "max        1000\n",
       "Name: Space_Len, dtype: float64"
      ]
     },
     "execution_count": 32,
     "metadata": {},
     "output_type": "execute_result"
    }
   ],
   "source": [
    "df_madrid_new_features['Space_Len'].describe()"
   ]
  },
  {
   "cell_type": "code",
   "execution_count": 33,
   "id": "05fcf6d0",
   "metadata": {
    "ExecuteTime": {
     "end_time": "2023-02-13T10:45:15.624289Z",
     "start_time": "2023-02-13T10:45:15.570948Z"
    }
   },
   "outputs": [
    {
     "data": {
      "text/html": [
       "<div>\n",
       "<style scoped>\n",
       "    .dataframe tbody tr th:only-of-type {\n",
       "        vertical-align: middle;\n",
       "    }\n",
       "\n",
       "    .dataframe tbody tr th {\n",
       "        vertical-align: top;\n",
       "    }\n",
       "\n",
       "    .dataframe thead th {\n",
       "        text-align: right;\n",
       "    }\n",
       "</style>\n",
       "<table border=\"1\" class=\"dataframe\">\n",
       "  <thead>\n",
       "    <tr style=\"text-align: right;\">\n",
       "      <th></th>\n",
       "      <th>Space_Len</th>\n",
       "      <th>Price</th>\n",
       "    </tr>\n",
       "  </thead>\n",
       "  <tbody>\n",
       "    <tr>\n",
       "      <th>Space_Len</th>\n",
       "      <td>1</td>\n",
       "      <td>0.188889</td>\n",
       "    </tr>\n",
       "    <tr>\n",
       "      <th>Price</th>\n",
       "      <td>0.188889</td>\n",
       "      <td>1</td>\n",
       "    </tr>\n",
       "  </tbody>\n",
       "</table>\n",
       "</div>"
      ],
      "text/plain": [
       "           Space_Len    Price\n",
       "Space_Len          1 0.188889\n",
       "Price       0.188889        1"
      ]
     },
     "execution_count": 33,
     "metadata": {},
     "output_type": "execute_result"
    }
   ],
   "source": [
    "df_madrid_new_features[['Space_Len','Price']].corr()"
   ]
  },
  {
   "cell_type": "markdown",
   "id": "ff5d42c2",
   "metadata": {},
   "source": [
    "#### Language"
   ]
  },
  {
   "cell_type": "code",
   "execution_count": 34,
   "id": "3dfbee4c",
   "metadata": {
    "ExecuteTime": {
     "end_time": "2023-02-13T10:45:15.648289Z",
     "start_time": "2023-02-13T10:45:15.629997Z"
    }
   },
   "outputs": [
    {
     "data": {
      "text/plain": [
       "\"Exquisite 180m2 apartment with 2 bedrooms, 1 suite and 2 bathrooms in the heart of the city, 5min. walking distance from Sol. It comfortably accommodates 7 guests. Most of the bedrooms/suites have TV and the kitchen is fully equipped. A huge living room with an ornamental fireplace and a 65' TV completes this outstanding apartment.\""
      ]
     },
     "execution_count": 34,
     "metadata": {},
     "output_type": "execute_result"
    }
   ],
   "source": [
    "df_madrid['Space'].iloc[20]"
   ]
  },
  {
   "cell_type": "code",
   "execution_count": 35,
   "id": "9713733b",
   "metadata": {
    "ExecuteTime": {
     "end_time": "2023-02-13T10:45:15.868324Z",
     "start_time": "2023-02-13T10:45:15.677321Z"
    }
   },
   "outputs": [
    {
     "data": {
      "text/plain": [
       "True"
      ]
     },
     "execution_count": 35,
     "metadata": {},
     "output_type": "execute_result"
    }
   ],
   "source": [
    "is_str_english(df_madrid['Space'].iloc[20])"
   ]
  },
  {
   "cell_type": "code",
   "execution_count": 36,
   "id": "de7d3e28",
   "metadata": {
    "ExecuteTime": {
     "end_time": "2023-02-13T10:47:18.879712Z",
     "start_time": "2023-02-13T10:45:15.895426Z"
    }
   },
   "outputs": [],
   "source": [
    "df_madrid_new_features['Space_Lang'] = df_madrid['Space'].apply(lambda x: is_str_english(x))"
   ]
  },
  {
   "cell_type": "code",
   "execution_count": 37,
   "id": "cab54f58",
   "metadata": {
    "ExecuteTime": {
     "end_time": "2023-02-13T10:47:19.120934Z",
     "start_time": "2023-02-13T10:47:18.892334Z"
    }
   },
   "outputs": [
    {
     "data": {
      "text/plain": [
       "array([ True, False])"
      ]
     },
     "execution_count": 37,
     "metadata": {},
     "output_type": "execute_result"
    }
   ],
   "source": [
    "df_madrid_new_features['Space_Lang'].unique()"
   ]
  },
  {
   "cell_type": "markdown",
   "id": "652916eb",
   "metadata": {},
   "source": [
    "### Description"
   ]
  },
  {
   "cell_type": "markdown",
   "id": "a6a39899",
   "metadata": {
    "ExecuteTime": {
     "end_time": "2023-02-10T18:34:47.523346Z",
     "start_time": "2023-02-10T18:34:47.520229Z"
    }
   },
   "source": [
    "#### Len"
   ]
  },
  {
   "cell_type": "code",
   "execution_count": 38,
   "id": "cb16a6aa",
   "metadata": {
    "ExecuteTime": {
     "end_time": "2023-02-13T10:47:19.176920Z",
     "start_time": "2023-02-13T10:47:19.147580Z"
    }
   },
   "outputs": [],
   "source": [
    "df_madrid_new_features['Description_Len'] = df_madrid['Description'].apply(lambda x: len(x) if x == x else 0) #NaN len == 0"
   ]
  },
  {
   "cell_type": "code",
   "execution_count": 39,
   "id": "218a952f",
   "metadata": {
    "ExecuteTime": {
     "end_time": "2023-02-13T10:47:22.083164Z",
     "start_time": "2023-02-13T10:47:19.185457Z"
    }
   },
   "outputs": [
    {
     "data": {
      "image/png": "[encoded data removed]",
      "text/plain": [
       "<Figure size 360x360 with 1 Axes>"
      ]
     },
     "metadata": {},
     "output_type": "display_data"
    }
   ],
   "source": [
    "sns.relplot(data=df_madrid_new_features, x='Description_Len', y='Price')\n",
    "plt.title('Relplot Lenght of the Summary vs the price', size=20)\n",
    "plt.xticks(size=10)\n",
    "plt.yticks(size=10)\n",
    "plt.xlabel('Lenth Title', fontsize=20)\n",
    "plt.ylabel('Price', fontsize=20)\n",
    "plt.show()"
   ]
  },
  {
   "cell_type": "code",
   "execution_count": 40,
   "id": "8ceac5ac",
   "metadata": {
    "ExecuteTime": {
     "end_time": "2023-02-13T10:47:22.161872Z",
     "start_time": "2023-02-13T10:47:22.105797Z"
    }
   },
   "outputs": [
    {
     "data": {
      "text/plain": [
       "count     13207\n",
       "mean    741.521\n",
       "std     327.045\n",
       "min           0\n",
       "25%         448\n",
       "50%         999\n",
       "75%        1000\n",
       "max        1000\n",
       "Name: Description_Len, dtype: float64"
      ]
     },
     "execution_count": 40,
     "metadata": {},
     "output_type": "execute_result"
    }
   ],
   "source": [
    "df_madrid_new_features['Description_Len'].describe()"
   ]
  },
  {
   "cell_type": "code",
   "execution_count": 41,
   "id": "1847eeaf",
   "metadata": {
    "ExecuteTime": {
     "end_time": "2023-02-13T10:47:22.202517Z",
     "start_time": "2023-02-13T10:47:22.174734Z"
    }
   },
   "outputs": [
    {
     "data": {
      "text/html": [
       "<div>\n",
       "<style scoped>\n",
       "    .dataframe tbody tr th:only-of-type {\n",
       "        vertical-align: middle;\n",
       "    }\n",
       "\n",
       "    .dataframe tbody tr th {\n",
       "        vertical-align: top;\n",
       "    }\n",
       "\n",
       "    .dataframe thead th {\n",
       "        text-align: right;\n",
       "    }\n",
       "</style>\n",
       "<table border=\"1\" class=\"dataframe\">\n",
       "  <thead>\n",
       "    <tr style=\"text-align: right;\">\n",
       "      <th></th>\n",
       "      <th>Description_Len</th>\n",
       "      <th>Price</th>\n",
       "    </tr>\n",
       "  </thead>\n",
       "  <tbody>\n",
       "    <tr>\n",
       "      <th>Description_Len</th>\n",
       "      <td>1</td>\n",
       "      <td>0.0682668</td>\n",
       "    </tr>\n",
       "    <tr>\n",
       "      <th>Price</th>\n",
       "      <td>0.0682668</td>\n",
       "      <td>1</td>\n",
       "    </tr>\n",
       "  </tbody>\n",
       "</table>\n",
       "</div>"
      ],
      "text/plain": [
       "                 Description_Len     Price\n",
       "Description_Len                1 0.0682668\n",
       "Price                  0.0682668         1"
      ]
     },
     "execution_count": 41,
     "metadata": {},
     "output_type": "execute_result"
    }
   ],
   "source": [
    "df_madrid_new_features[['Description_Len','Price']].corr()"
   ]
  },
  {
   "cell_type": "markdown",
   "id": "cce3567e",
   "metadata": {},
   "source": [
    "#### Language"
   ]
  },
  {
   "cell_type": "code",
   "execution_count": 42,
   "id": "9365f7ed",
   "metadata": {
    "ExecuteTime": {
     "end_time": "2023-02-13T10:47:22.226401Z",
     "start_time": "2023-02-13T10:47:22.209105Z"
    }
   },
   "outputs": [
    {
     "data": {
      "text/plain": [
       "'Lugares de interés: La Latina, Plaza Mayor, Tirso de Molina, El Rastro, Lavapies. Te va a encantar mi espacio porque se trata de un apartamento luminoso y muy bien ubicado. Perfecto para dos personas que les apetezca callejear y disfrutar de Madrid y del barrio, teniendo además la opción de cocinar y relajarse en casa.'"
      ]
     },
     "execution_count": 42,
     "metadata": {},
     "output_type": "execute_result"
    }
   ],
   "source": [
    "df_madrid['Description'].iloc[12]"
   ]
  },
  {
   "cell_type": "code",
   "execution_count": 43,
   "id": "b550bd72",
   "metadata": {
    "ExecuteTime": {
     "end_time": "2023-02-13T10:47:22.262809Z",
     "start_time": "2023-02-13T10:47:22.233971Z"
    }
   },
   "outputs": [
    {
     "data": {
      "text/plain": [
       "False"
      ]
     },
     "execution_count": 43,
     "metadata": {},
     "output_type": "execute_result"
    }
   ],
   "source": [
    "is_str_english(df_madrid['Description'].iloc[12])"
   ]
  },
  {
   "cell_type": "code",
   "execution_count": 44,
   "id": "524decea",
   "metadata": {
    "ExecuteTime": {
     "end_time": "2023-02-13T10:50:44.300659Z",
     "start_time": "2023-02-13T10:47:22.267491Z"
    }
   },
   "outputs": [],
   "source": [
    "df_madrid_new_features['Description_Lang'] = df_madrid['Description'].apply(lambda x: is_str_english(x))"
   ]
  },
  {
   "cell_type": "code",
   "execution_count": 45,
   "id": "7c6df925",
   "metadata": {
    "ExecuteTime": {
     "end_time": "2023-02-13T10:50:44.433767Z",
     "start_time": "2023-02-13T10:50:44.306911Z"
    }
   },
   "outputs": [
    {
     "data": {
      "text/plain": [
       "array([ True, False])"
      ]
     },
     "execution_count": 45,
     "metadata": {},
     "output_type": "execute_result"
    }
   ],
   "source": [
    "df_madrid_new_features['Description_Lang'].unique()"
   ]
  },
  {
   "cell_type": "markdown",
   "id": "ebce59b5",
   "metadata": {},
   "source": [
    "### 'Thumbnail Url'"
   ]
  },
  {
   "cell_type": "markdown",
   "id": "cf6fc323",
   "metadata": {},
   "source": [
    "#### is_Thumbnail"
   ]
  },
  {
   "cell_type": "code",
   "execution_count": 46,
   "id": "de15b335",
   "metadata": {
    "ExecuteTime": {
     "end_time": "2023-02-13T10:50:44.480010Z",
     "start_time": "2023-02-13T10:50:44.461906Z"
    }
   },
   "outputs": [
    {
     "data": {
      "text/plain": [
       "False"
      ]
     },
     "execution_count": 46,
     "metadata": {},
     "output_type": "execute_result"
    }
   ],
   "source": [
    "df_madrid['Thumbnail Url'].iloc[17] == df_madrid['Thumbnail Url'].iloc[17]"
   ]
  },
  {
   "cell_type": "code",
   "execution_count": 47,
   "id": "25aec3ad",
   "metadata": {
    "ExecuteTime": {
     "end_time": "2023-02-13T10:50:44.512366Z",
     "start_time": "2023-02-13T10:50:44.484051Z"
    }
   },
   "outputs": [],
   "source": [
    "df_madrid_new_features['is_Thumbnail'] = df_madrid['Thumbnail Url'].apply(lambda x: x == x) #NaN -> False"
   ]
  },
  {
   "cell_type": "code",
   "execution_count": 48,
   "id": "7a6d1ed5",
   "metadata": {
    "ExecuteTime": {
     "end_time": "2023-02-13T10:50:44.584624Z",
     "start_time": "2023-02-13T10:50:44.518106Z"
    }
   },
   "outputs": [
    {
     "data": {
      "text/html": [
       "<div>\n",
       "<style scoped>\n",
       "    .dataframe tbody tr th:only-of-type {\n",
       "        vertical-align: middle;\n",
       "    }\n",
       "\n",
       "    .dataframe tbody tr th {\n",
       "        vertical-align: top;\n",
       "    }\n",
       "\n",
       "    .dataframe thead th {\n",
       "        text-align: right;\n",
       "    }\n",
       "</style>\n",
       "<table border=\"1\" class=\"dataframe\">\n",
       "  <thead>\n",
       "    <tr style=\"text-align: right;\">\n",
       "      <th></th>\n",
       "      <th>ID</th>\n",
       "    </tr>\n",
       "    <tr>\n",
       "      <th>is_Thumbnail</th>\n",
       "      <th></th>\n",
       "    </tr>\n",
       "  </thead>\n",
       "  <tbody>\n",
       "    <tr>\n",
       "      <th>False</th>\n",
       "      <td>2478</td>\n",
       "    </tr>\n",
       "    <tr>\n",
       "      <th>True</th>\n",
       "      <td>10729</td>\n",
       "    </tr>\n",
       "  </tbody>\n",
       "</table>\n",
       "</div>"
      ],
      "text/plain": [
       "                 ID\n",
       "is_Thumbnail       \n",
       "False          2478\n",
       "True          10729"
      ]
     },
     "execution_count": 48,
     "metadata": {},
     "output_type": "execute_result"
    }
   ],
   "source": [
    "df_madrid_new_features[['ID','is_Thumbnail']].groupby('is_Thumbnail').count()"
   ]
  },
  {
   "cell_type": "code",
   "execution_count": 49,
   "id": "5e4b1b46",
   "metadata": {
    "ExecuteTime": {
     "end_time": "2023-02-13T10:50:44.608767Z",
     "start_time": "2023-02-13T10:50:44.588092Z"
    }
   },
   "outputs": [
    {
     "data": {
      "text/plain": [
       "2478"
      ]
     },
     "execution_count": 49,
     "metadata": {},
     "output_type": "execute_result"
    }
   ],
   "source": [
    "df_madrid['Thumbnail Url'].isnull().sum()"
   ]
  },
  {
   "cell_type": "markdown",
   "id": "07bbbece",
   "metadata": {},
   "source": [
    "### Host Since"
   ]
  },
  {
   "cell_type": "markdown",
   "id": "f8abc943",
   "metadata": {},
   "source": [
    "#### Antiguedad Host en días"
   ]
  },
  {
   "cell_type": "code",
   "execution_count": 50,
   "id": "9ad2fdaa",
   "metadata": {
    "ExecuteTime": {
     "end_time": "2023-02-13T10:50:44.624428Z",
     "start_time": "2023-02-13T10:50:44.615271Z"
    }
   },
   "outputs": [],
   "source": [
    "#Pendiente: convertir a datetime y hacer un delta de días desde el host since hasta el 217-04-08"
   ]
  },
  {
   "cell_type": "code",
   "execution_count": null,
   "id": "52a2f83a",
   "metadata": {},
   "outputs": [],
   "source": []
  },
  {
   "cell_type": "code",
   "execution_count": null,
   "id": "784ca861",
   "metadata": {},
   "outputs": [],
   "source": []
  },
  {
   "cell_type": "markdown",
   "id": "53a7579f",
   "metadata": {},
   "source": [
    "### Host About"
   ]
  },
  {
   "cell_type": "markdown",
   "id": "f67738a2",
   "metadata": {},
   "source": [
    "#### is_HostAbout"
   ]
  },
  {
   "cell_type": "code",
   "execution_count": 51,
   "id": "92fbab1f",
   "metadata": {
    "ExecuteTime": {
     "end_time": "2023-02-13T10:50:44.652243Z",
     "start_time": "2023-02-13T10:50:44.634910Z"
    }
   },
   "outputs": [
    {
     "data": {
      "text/plain": [
       "False"
      ]
     },
     "execution_count": 51,
     "metadata": {},
     "output_type": "execute_result"
    }
   ],
   "source": [
    "df_madrid['Host About'].iloc[13206] == df_madrid['Host About'].iloc[13206]"
   ]
  },
  {
   "cell_type": "code",
   "execution_count": 52,
   "id": "cd5c30e0",
   "metadata": {
    "ExecuteTime": {
     "end_time": "2023-02-13T10:50:44.673571Z",
     "start_time": "2023-02-13T10:50:44.657960Z"
    }
   },
   "outputs": [],
   "source": [
    "df_madrid_new_features['is_HostAbout'] = df_madrid['Host About'].apply(lambda x: x == x) #NaN -> False"
   ]
  },
  {
   "cell_type": "code",
   "execution_count": 53,
   "id": "25c8a586",
   "metadata": {
    "ExecuteTime": {
     "end_time": "2023-02-13T10:50:44.702341Z",
     "start_time": "2023-02-13T10:50:44.682782Z"
    }
   },
   "outputs": [
    {
     "data": {
      "text/html": [
       "<div>\n",
       "<style scoped>\n",
       "    .dataframe tbody tr th:only-of-type {\n",
       "        vertical-align: middle;\n",
       "    }\n",
       "\n",
       "    .dataframe tbody tr th {\n",
       "        vertical-align: top;\n",
       "    }\n",
       "\n",
       "    .dataframe thead th {\n",
       "        text-align: right;\n",
       "    }\n",
       "</style>\n",
       "<table border=\"1\" class=\"dataframe\">\n",
       "  <thead>\n",
       "    <tr style=\"text-align: right;\">\n",
       "      <th></th>\n",
       "      <th>ID</th>\n",
       "    </tr>\n",
       "    <tr>\n",
       "      <th>is_HostAbout</th>\n",
       "      <th></th>\n",
       "    </tr>\n",
       "  </thead>\n",
       "  <tbody>\n",
       "    <tr>\n",
       "      <th>False</th>\n",
       "      <td>4972</td>\n",
       "    </tr>\n",
       "    <tr>\n",
       "      <th>True</th>\n",
       "      <td>8235</td>\n",
       "    </tr>\n",
       "  </tbody>\n",
       "</table>\n",
       "</div>"
      ],
      "text/plain": [
       "                ID\n",
       "is_HostAbout      \n",
       "False         4972\n",
       "True          8235"
      ]
     },
     "execution_count": 53,
     "metadata": {},
     "output_type": "execute_result"
    }
   ],
   "source": [
    "df_madrid_new_features[['ID','is_HostAbout']].groupby('is_HostAbout').count()"
   ]
  },
  {
   "cell_type": "code",
   "execution_count": 54,
   "id": "e6b3aeaa",
   "metadata": {
    "ExecuteTime": {
     "end_time": "2023-02-13T10:50:44.724693Z",
     "start_time": "2023-02-13T10:50:44.708883Z"
    }
   },
   "outputs": [
    {
     "data": {
      "text/plain": [
       "4972"
      ]
     },
     "execution_count": 54,
     "metadata": {},
     "output_type": "execute_result"
    }
   ],
   "source": [
    "df_madrid['Host About'].isnull().sum()"
   ]
  },
  {
   "cell_type": "markdown",
   "id": "d6e2bf24",
   "metadata": {},
   "source": [
    "### Host Response Time"
   ]
  },
  {
   "cell_type": "markdown",
   "id": "8c0781f5",
   "metadata": {},
   "source": [
    "#### Categorization"
   ]
  },
  {
   "cell_type": "code",
   "execution_count": 55,
   "id": "7f84bcea",
   "metadata": {
    "ExecuteTime": {
     "end_time": "2023-02-13T10:50:44.743697Z",
     "start_time": "2023-02-13T10:50:44.729447Z"
    }
   },
   "outputs": [
    {
     "data": {
      "text/plain": [
       "array(['within a day', 'within an hour', 'within a few hours', nan,\n",
       "       'a few days or more'], dtype=object)"
      ]
     },
     "execution_count": 55,
     "metadata": {},
     "output_type": "execute_result"
    }
   ],
   "source": [
    "df_madrid['Host Response Time'].unique()"
   ]
  },
  {
   "cell_type": "code",
   "execution_count": 56,
   "id": "c86b3126",
   "metadata": {
    "ExecuteTime": {
     "end_time": "2023-02-13T10:50:44.777873Z",
     "start_time": "2023-02-13T10:50:44.751082Z"
    }
   },
   "outputs": [
    {
     "data": {
      "text/html": [
       "<div>\n",
       "<style scoped>\n",
       "    .dataframe tbody tr th:only-of-type {\n",
       "        vertical-align: middle;\n",
       "    }\n",
       "\n",
       "    .dataframe tbody tr th {\n",
       "        vertical-align: top;\n",
       "    }\n",
       "\n",
       "    .dataframe thead th {\n",
       "        text-align: right;\n",
       "    }\n",
       "</style>\n",
       "<table border=\"1\" class=\"dataframe\">\n",
       "  <thead>\n",
       "    <tr style=\"text-align: right;\">\n",
       "      <th></th>\n",
       "      <th>ID</th>\n",
       "    </tr>\n",
       "    <tr>\n",
       "      <th>Host Response Time</th>\n",
       "      <th></th>\n",
       "    </tr>\n",
       "  </thead>\n",
       "  <tbody>\n",
       "    <tr>\n",
       "      <th>within an hour</th>\n",
       "      <td>7107</td>\n",
       "    </tr>\n",
       "    <tr>\n",
       "      <th>within a few hours</th>\n",
       "      <td>2654</td>\n",
       "    </tr>\n",
       "    <tr>\n",
       "      <th>within a day</th>\n",
       "      <td>1522</td>\n",
       "    </tr>\n",
       "    <tr>\n",
       "      <th>a few days or more</th>\n",
       "      <td>269</td>\n",
       "    </tr>\n",
       "  </tbody>\n",
       "</table>\n",
       "</div>"
      ],
      "text/plain": [
       "                      ID\n",
       "Host Response Time      \n",
       "within an hour      7107\n",
       "within a few hours  2654\n",
       "within a day        1522\n",
       "a few days or more   269"
      ]
     },
     "execution_count": 56,
     "metadata": {},
     "output_type": "execute_result"
    }
   ],
   "source": [
    "df_madrid[['ID','Host Response Time']].groupby(by=['Host Response Time']).count().sort_values(by='ID', ascending=False)"
   ]
  },
  {
   "cell_type": "code",
   "execution_count": 57,
   "id": "422fb4d9",
   "metadata": {
    "ExecuteTime": {
     "end_time": "2023-02-13T10:50:44.795193Z",
     "start_time": "2023-02-13T10:50:44.781573Z"
    }
   },
   "outputs": [
    {
     "data": {
      "text/plain": [
       "1655"
      ]
     },
     "execution_count": 57,
     "metadata": {},
     "output_type": "execute_result"
    }
   ],
   "source": [
    "df_madrid['Host Response Time'].isnull().sum()"
   ]
  },
  {
   "cell_type": "code",
   "execution_count": 58,
   "id": "e55eb919",
   "metadata": {
    "ExecuteTime": {
     "end_time": "2023-02-13T10:50:44.885760Z",
     "start_time": "2023-02-13T10:50:44.801868Z"
    }
   },
   "outputs": [],
   "source": [
    "df_madrid_new_features['Host Response Time'] = df_madrid_new_features['Host Response Time'].str.replace('within an hour', 'hour', regex=True)\n",
    "df_madrid_new_features['Host Response Time'] = df_madrid_new_features['Host Response Time'].str.replace('within a few hours', 'hours', regex=True)\n",
    "df_madrid_new_features['Host Response Time'] = df_madrid_new_features['Host Response Time'].str.replace('within a day', 'day', regex=True)\n",
    "df_madrid_new_features['Host Response Time'] = df_madrid_new_features['Host Response Time'].str.replace('a few days or more', 'days', regex=True)"
   ]
  },
  {
   "cell_type": "code",
   "execution_count": 59,
   "id": "fc70d099",
   "metadata": {
    "ExecuteTime": {
     "end_time": "2023-02-13T10:50:44.969537Z",
     "start_time": "2023-02-13T10:50:44.889905Z"
    }
   },
   "outputs": [
    {
     "data": {
      "text/html": [
       "<div>\n",
       "<style scoped>\n",
       "    .dataframe tbody tr th:only-of-type {\n",
       "        vertical-align: middle;\n",
       "    }\n",
       "\n",
       "    .dataframe tbody tr th {\n",
       "        vertical-align: top;\n",
       "    }\n",
       "\n",
       "    .dataframe thead th {\n",
       "        text-align: right;\n",
       "    }\n",
       "</style>\n",
       "<table border=\"1\" class=\"dataframe\">\n",
       "  <thead>\n",
       "    <tr style=\"text-align: right;\">\n",
       "      <th></th>\n",
       "      <th>ID</th>\n",
       "    </tr>\n",
       "    <tr>\n",
       "      <th>Host Response Time</th>\n",
       "      <th></th>\n",
       "    </tr>\n",
       "  </thead>\n",
       "  <tbody>\n",
       "    <tr>\n",
       "      <th>hour</th>\n",
       "      <td>7107</td>\n",
       "    </tr>\n",
       "    <tr>\n",
       "      <th>hours</th>\n",
       "      <td>2654</td>\n",
       "    </tr>\n",
       "    <tr>\n",
       "      <th>day</th>\n",
       "      <td>1522</td>\n",
       "    </tr>\n",
       "    <tr>\n",
       "      <th>days</th>\n",
       "      <td>269</td>\n",
       "    </tr>\n",
       "  </tbody>\n",
       "</table>\n",
       "</div>"
      ],
      "text/plain": [
       "                      ID\n",
       "Host Response Time      \n",
       "hour                7107\n",
       "hours               2654\n",
       "day                 1522\n",
       "days                 269"
      ]
     },
     "execution_count": 59,
     "metadata": {},
     "output_type": "execute_result"
    }
   ],
   "source": [
    "df_madrid_new_features[['ID','Host Response Time']].groupby(by=['Host Response Time']).count().sort_values(by='ID', ascending=False)"
   ]
  },
  {
   "cell_type": "markdown",
   "id": "a9cd152d",
   "metadata": {},
   "source": [
    "#### is_ResponseInHours"
   ]
  },
  {
   "cell_type": "code",
   "execution_count": 60,
   "id": "2332ce26",
   "metadata": {
    "ExecuteTime": {
     "end_time": "2023-02-13T10:50:44.981486Z",
     "start_time": "2023-02-13T10:50:44.972018Z"
    }
   },
   "outputs": [],
   "source": [
    "def is_hours(string):\n",
    "    if (string == 'hour') or (string == 'hours'):\n",
    "        return True\n",
    "    else:\n",
    "        return False"
   ]
  },
  {
   "cell_type": "code",
   "execution_count": 61,
   "id": "dfd508cb",
   "metadata": {
    "ExecuteTime": {
     "end_time": "2023-02-13T10:50:45.001123Z",
     "start_time": "2023-02-13T10:50:44.985497Z"
    }
   },
   "outputs": [
    {
     "data": {
      "text/plain": [
       "False"
      ]
     },
     "execution_count": 61,
     "metadata": {},
     "output_type": "execute_result"
    }
   ],
   "source": [
    "is_hours(np.nan) #NaN -> False"
   ]
  },
  {
   "cell_type": "code",
   "execution_count": 62,
   "id": "1a2515e4",
   "metadata": {
    "ExecuteTime": {
     "end_time": "2023-02-13T10:50:45.029052Z",
     "start_time": "2023-02-13T10:50:45.007877Z"
    }
   },
   "outputs": [],
   "source": [
    "df_madrid_new_features['is_ResponseInHours'] = df_madrid_new_features['Host Response Time'].apply(lambda x: is_hours(x)) "
   ]
  },
  {
   "cell_type": "code",
   "execution_count": 63,
   "id": "e3b7f2c8",
   "metadata": {
    "ExecuteTime": {
     "end_time": "2023-02-13T10:50:45.103234Z",
     "start_time": "2023-02-13T10:50:45.047518Z"
    }
   },
   "outputs": [
    {
     "data": {
      "text/html": [
       "<div>\n",
       "<style scoped>\n",
       "    .dataframe tbody tr th:only-of-type {\n",
       "        vertical-align: middle;\n",
       "    }\n",
       "\n",
       "    .dataframe tbody tr th {\n",
       "        vertical-align: top;\n",
       "    }\n",
       "\n",
       "    .dataframe thead th {\n",
       "        text-align: right;\n",
       "    }\n",
       "</style>\n",
       "<table border=\"1\" class=\"dataframe\">\n",
       "  <thead>\n",
       "    <tr style=\"text-align: right;\">\n",
       "      <th></th>\n",
       "      <th>ID</th>\n",
       "    </tr>\n",
       "    <tr>\n",
       "      <th>is_ResponseInHours</th>\n",
       "      <th></th>\n",
       "    </tr>\n",
       "  </thead>\n",
       "  <tbody>\n",
       "    <tr>\n",
       "      <th>False</th>\n",
       "      <td>3446</td>\n",
       "    </tr>\n",
       "    <tr>\n",
       "      <th>True</th>\n",
       "      <td>9761</td>\n",
       "    </tr>\n",
       "  </tbody>\n",
       "</table>\n",
       "</div>"
      ],
      "text/plain": [
       "                      ID\n",
       "is_ResponseInHours      \n",
       "False               3446\n",
       "True                9761"
      ]
     },
     "execution_count": 63,
     "metadata": {},
     "output_type": "execute_result"
    }
   ],
   "source": [
    "df_madrid_new_features[['ID','is_ResponseInHours']].groupby('is_ResponseInHours').count()"
   ]
  },
  {
   "cell_type": "markdown",
   "id": "f7d14f48",
   "metadata": {
    "ExecuteTime": {
     "end_time": "2023-02-11T10:24:13.918627Z",
     "start_time": "2023-02-11T10:24:13.908643Z"
    }
   },
   "source": [
    "### Host Verifications"
   ]
  },
  {
   "cell_type": "markdown",
   "id": "e86e7080",
   "metadata": {},
   "source": [
    " #### Num_Host_Verifications"
   ]
  },
  {
   "cell_type": "code",
   "execution_count": 64,
   "id": "d09c12fc",
   "metadata": {
    "ExecuteTime": {
     "end_time": "2023-02-13T10:50:45.154907Z",
     "start_time": "2023-02-13T10:50:45.131306Z"
    }
   },
   "outputs": [
    {
     "data": {
      "text/plain": [
       "4"
      ]
     },
     "execution_count": 64,
     "metadata": {},
     "output_type": "execute_result"
    }
   ],
   "source": [
    "len(df_madrid['Host Verifications'].iloc[0].split(\",\"))"
   ]
  },
  {
   "cell_type": "code",
   "execution_count": 65,
   "id": "5aec1769",
   "metadata": {
    "ExecuteTime": {
     "end_time": "2023-02-13T10:50:45.214057Z",
     "start_time": "2023-02-13T10:50:45.168340Z"
    }
   },
   "outputs": [
    {
     "data": {
      "text/plain": [
       "3        4\n",
       "4        6\n",
       "5        4\n",
       "6        6\n",
       "7        4\n",
       "        ..\n",
       "14755    4\n",
       "14756    3\n",
       "14757    3\n",
       "14758    6\n",
       "14759    3\n",
       "Name: Host Verifications, Length: 13207, dtype: int64"
      ]
     },
     "execution_count": 65,
     "metadata": {},
     "output_type": "execute_result"
    }
   ],
   "source": [
    "df_madrid['Host Verifications'].apply(lambda x: len(x.split(\",\")) if x==x else 0) #NaN -> 0\n"
   ]
  },
  {
   "cell_type": "code",
   "execution_count": 66,
   "id": "d2e0ce54",
   "metadata": {
    "ExecuteTime": {
     "end_time": "2023-02-13T10:50:45.247865Z",
     "start_time": "2023-02-13T10:50:45.220892Z"
    }
   },
   "outputs": [],
   "source": [
    "df_madrid_new_features['Num_Host_Verifications'] = df_madrid['Host Verifications'].apply(lambda x: len(x.split(\",\")) if x==x else 0) #NaN -> 0\n",
    "\n"
   ]
  },
  {
   "cell_type": "code",
   "execution_count": 67,
   "id": "53568247",
   "metadata": {
    "ExecuteTime": {
     "end_time": "2023-02-13T10:50:45.271175Z",
     "start_time": "2023-02-13T10:50:45.253232Z"
    }
   },
   "outputs": [
    {
     "data": {
      "text/plain": [
       "count     13207\n",
       "mean    4.11221\n",
       "std     1.29812\n",
       "min           0\n",
       "25%           3\n",
       "50%           4\n",
       "75%           5\n",
       "max          10\n",
       "Name: Num_Host_Verifications, dtype: float64"
      ]
     },
     "execution_count": 67,
     "metadata": {},
     "output_type": "execute_result"
    }
   ],
   "source": [
    "df_madrid_new_features['Num_Host_Verifications'].describe()"
   ]
  },
  {
   "cell_type": "markdown",
   "id": "86c17e2c",
   "metadata": {},
   "source": [
    "### 'Neighbourhood Group Cleansed'"
   ]
  },
  {
   "cell_type": "code",
   "execution_count": 68,
   "id": "a8049dd7",
   "metadata": {
    "ExecuteTime": {
     "end_time": "2023-02-13T10:50:45.294192Z",
     "start_time": "2023-02-13T10:50:45.276450Z"
    }
   },
   "outputs": [
    {
     "data": {
      "text/html": [
       "<div>\n",
       "<style scoped>\n",
       "    .dataframe tbody tr th:only-of-type {\n",
       "        vertical-align: middle;\n",
       "    }\n",
       "\n",
       "    .dataframe tbody tr th {\n",
       "        vertical-align: top;\n",
       "    }\n",
       "\n",
       "    .dataframe thead th {\n",
       "        text-align: right;\n",
       "    }\n",
       "</style>\n",
       "<table border=\"1\" class=\"dataframe\">\n",
       "  <thead>\n",
       "    <tr style=\"text-align: right;\">\n",
       "      <th></th>\n",
       "      <th>ID</th>\n",
       "    </tr>\n",
       "    <tr>\n",
       "      <th>Neighbourhood Group Cleansed</th>\n",
       "      <th></th>\n",
       "    </tr>\n",
       "  </thead>\n",
       "  <tbody>\n",
       "    <tr>\n",
       "      <th>Centro</th>\n",
       "      <td>6760</td>\n",
       "    </tr>\n",
       "    <tr>\n",
       "      <th>Chamberí</th>\n",
       "      <td>958</td>\n",
       "    </tr>\n",
       "    <tr>\n",
       "      <th>Salamanca</th>\n",
       "      <td>882</td>\n",
       "    </tr>\n",
       "    <tr>\n",
       "      <th>Arganzuela</th>\n",
       "      <td>789</td>\n",
       "    </tr>\n",
       "    <tr>\n",
       "      <th>Tetuán</th>\n",
       "      <td>457</td>\n",
       "    </tr>\n",
       "    <tr>\n",
       "      <th>Retiro</th>\n",
       "      <td>438</td>\n",
       "    </tr>\n",
       "    <tr>\n",
       "      <th>Moncloa - Aravaca</th>\n",
       "      <td>416</td>\n",
       "    </tr>\n",
       "    <tr>\n",
       "      <th>Latina</th>\n",
       "      <td>376</td>\n",
       "    </tr>\n",
       "    <tr>\n",
       "      <th>Chamartín</th>\n",
       "      <td>356</td>\n",
       "    </tr>\n",
       "    <tr>\n",
       "      <th>Carabanchel</th>\n",
       "      <td>353</td>\n",
       "    </tr>\n",
       "    <tr>\n",
       "      <th>Ciudad Lineal</th>\n",
       "      <td>302</td>\n",
       "    </tr>\n",
       "    <tr>\n",
       "      <th>Puente de Vallecas</th>\n",
       "      <td>218</td>\n",
       "    </tr>\n",
       "    <tr>\n",
       "      <th>Hortaleza</th>\n",
       "      <td>183</td>\n",
       "    </tr>\n",
       "    <tr>\n",
       "      <th>Fuencarral - El Pardo</th>\n",
       "      <td>150</td>\n",
       "    </tr>\n",
       "    <tr>\n",
       "      <th>Usera</th>\n",
       "      <td>144</td>\n",
       "    </tr>\n",
       "    <tr>\n",
       "      <th>San Blas - Canillejas</th>\n",
       "      <td>117</td>\n",
       "    </tr>\n",
       "    <tr>\n",
       "      <th>Barajas</th>\n",
       "      <td>79</td>\n",
       "    </tr>\n",
       "    <tr>\n",
       "      <th>Villaverde</th>\n",
       "      <td>79</td>\n",
       "    </tr>\n",
       "    <tr>\n",
       "      <th>Moratalaz</th>\n",
       "      <td>74</td>\n",
       "    </tr>\n",
       "    <tr>\n",
       "      <th>Villa de Vallecas</th>\n",
       "      <td>44</td>\n",
       "    </tr>\n",
       "    <tr>\n",
       "      <th>Vicálvaro</th>\n",
       "      <td>32</td>\n",
       "    </tr>\n",
       "  </tbody>\n",
       "</table>\n",
       "</div>"
      ],
      "text/plain": [
       "                                ID\n",
       "Neighbourhood Group Cleansed      \n",
       "Centro                        6760\n",
       "Chamberí                       958\n",
       "Salamanca                      882\n",
       "Arganzuela                     789\n",
       "Tetuán                         457\n",
       "Retiro                         438\n",
       "Moncloa - Aravaca              416\n",
       "Latina                         376\n",
       "Chamartín                      356\n",
       "Carabanchel                    353\n",
       "Ciudad Lineal                  302\n",
       "Puente de Vallecas             218\n",
       "Hortaleza                      183\n",
       "Fuencarral - El Pardo          150\n",
       "Usera                          144\n",
       "San Blas - Canillejas          117\n",
       "Barajas                         79\n",
       "Villaverde                      79\n",
       "Moratalaz                       74\n",
       "Villa de Vallecas               44\n",
       "Vicálvaro                       32"
      ]
     },
     "execution_count": 68,
     "metadata": {},
     "output_type": "execute_result"
    }
   ],
   "source": [
    "df_madrid[['ID','Neighbourhood Group Cleansed']].groupby(by=['Neighbourhood Group Cleansed']).count().sort_values(by='ID', ascending=False)\n"
   ]
  },
  {
   "cell_type": "code",
   "execution_count": 69,
   "id": "47a44d4b",
   "metadata": {
    "ExecuteTime": {
     "end_time": "2023-02-13T10:50:45.502859Z",
     "start_time": "2023-02-13T10:50:45.298732Z"
    }
   },
   "outputs": [],
   "source": [
    "df_madrid_new_features['Neighbourhood Group Cleansed'] = df_madrid_new_features['Neighbourhood Group Cleansed'].str.replace('Chamberí', 'Chamberi', regex=True)\n",
    "df_madrid_new_features['Neighbourhood Group Cleansed'] = df_madrid_new_features['Neighbourhood Group Cleansed'].str.replace('Tetuán', 'Tetuan', regex=True)\n",
    "df_madrid_new_features['Neighbourhood Group Cleansed'] = df_madrid_new_features['Neighbourhood Group Cleansed'].str.replace('Moncloa - Aravaca', 'Moncloa', regex=True)\n",
    "df_madrid_new_features['Neighbourhood Group Cleansed'] = df_madrid_new_features['Neighbourhood Group Cleansed'].str.replace('Chamartín', 'Chamartin', regex=True)\n",
    "df_madrid_new_features['Neighbourhood Group Cleansed'] = df_madrid_new_features['Neighbourhood Group Cleansed'].str.replace('Ciudad Lineal', 'CiudadLineal', regex=True)\n",
    "df_madrid_new_features['Neighbourhood Group Cleansed'] = df_madrid_new_features['Neighbourhood Group Cleansed'].str.replace('Puente de Vallecas', 'PuenteVallecas', regex=True)\n",
    "df_madrid_new_features['Neighbourhood Group Cleansed'] = df_madrid_new_features['Neighbourhood Group Cleansed'].str.replace('Fuencarral - El Pardo', 'Fuencarral', regex=True)\n",
    "df_madrid_new_features['Neighbourhood Group Cleansed'] = df_madrid_new_features['Neighbourhood Group Cleansed'].str.replace('San Blas - Canillejas', 'SanBlas', regex=True)\n",
    "df_madrid_new_features['Neighbourhood Group Cleansed'] = df_madrid_new_features['Neighbourhood Group Cleansed'].str.replace('Villa de Vallecas', 'VillaVallecas', regex=True)\n",
    "df_madrid_new_features['Neighbourhood Group Cleansed'] = df_madrid_new_features['Neighbourhood Group Cleansed'].str.replace('Vicálvaro', 'Vicalvaro', regex=True)\n",
    "\n"
   ]
  },
  {
   "cell_type": "code",
   "execution_count": 70,
   "id": "29f220b9",
   "metadata": {
    "ExecuteTime": {
     "end_time": "2023-02-13T10:50:45.601298Z",
     "start_time": "2023-02-13T10:50:45.546703Z"
    }
   },
   "outputs": [
    {
     "data": {
      "text/html": [
       "<div>\n",
       "<style scoped>\n",
       "    .dataframe tbody tr th:only-of-type {\n",
       "        vertical-align: middle;\n",
       "    }\n",
       "\n",
       "    .dataframe tbody tr th {\n",
       "        vertical-align: top;\n",
       "    }\n",
       "\n",
       "    .dataframe thead th {\n",
       "        text-align: right;\n",
       "    }\n",
       "</style>\n",
       "<table border=\"1\" class=\"dataframe\">\n",
       "  <thead>\n",
       "    <tr style=\"text-align: right;\">\n",
       "      <th></th>\n",
       "      <th>ID</th>\n",
       "    </tr>\n",
       "    <tr>\n",
       "      <th>Neighbourhood Group Cleansed</th>\n",
       "      <th></th>\n",
       "    </tr>\n",
       "  </thead>\n",
       "  <tbody>\n",
       "    <tr>\n",
       "      <th>Centro</th>\n",
       "      <td>6760</td>\n",
       "    </tr>\n",
       "    <tr>\n",
       "      <th>Chamberi</th>\n",
       "      <td>958</td>\n",
       "    </tr>\n",
       "    <tr>\n",
       "      <th>Salamanca</th>\n",
       "      <td>882</td>\n",
       "    </tr>\n",
       "    <tr>\n",
       "      <th>Arganzuela</th>\n",
       "      <td>789</td>\n",
       "    </tr>\n",
       "    <tr>\n",
       "      <th>Tetuan</th>\n",
       "      <td>457</td>\n",
       "    </tr>\n",
       "    <tr>\n",
       "      <th>Retiro</th>\n",
       "      <td>438</td>\n",
       "    </tr>\n",
       "    <tr>\n",
       "      <th>Moncloa</th>\n",
       "      <td>416</td>\n",
       "    </tr>\n",
       "    <tr>\n",
       "      <th>Latina</th>\n",
       "      <td>376</td>\n",
       "    </tr>\n",
       "    <tr>\n",
       "      <th>Chamartin</th>\n",
       "      <td>356</td>\n",
       "    </tr>\n",
       "    <tr>\n",
       "      <th>Carabanchel</th>\n",
       "      <td>353</td>\n",
       "    </tr>\n",
       "    <tr>\n",
       "      <th>CiudadLineal</th>\n",
       "      <td>302</td>\n",
       "    </tr>\n",
       "    <tr>\n",
       "      <th>PuenteVallecas</th>\n",
       "      <td>218</td>\n",
       "    </tr>\n",
       "    <tr>\n",
       "      <th>Hortaleza</th>\n",
       "      <td>183</td>\n",
       "    </tr>\n",
       "    <tr>\n",
       "      <th>Fuencarral</th>\n",
       "      <td>150</td>\n",
       "    </tr>\n",
       "    <tr>\n",
       "      <th>Usera</th>\n",
       "      <td>144</td>\n",
       "    </tr>\n",
       "    <tr>\n",
       "      <th>SanBlas</th>\n",
       "      <td>117</td>\n",
       "    </tr>\n",
       "    <tr>\n",
       "      <th>Barajas</th>\n",
       "      <td>79</td>\n",
       "    </tr>\n",
       "    <tr>\n",
       "      <th>Villaverde</th>\n",
       "      <td>79</td>\n",
       "    </tr>\n",
       "    <tr>\n",
       "      <th>Moratalaz</th>\n",
       "      <td>74</td>\n",
       "    </tr>\n",
       "    <tr>\n",
       "      <th>VillaVallecas</th>\n",
       "      <td>44</td>\n",
       "    </tr>\n",
       "    <tr>\n",
       "      <th>Vicalvaro</th>\n",
       "      <td>32</td>\n",
       "    </tr>\n",
       "  </tbody>\n",
       "</table>\n",
       "</div>"
      ],
      "text/plain": [
       "                                ID\n",
       "Neighbourhood Group Cleansed      \n",
       "Centro                        6760\n",
       "Chamberi                       958\n",
       "Salamanca                      882\n",
       "Arganzuela                     789\n",
       "Tetuan                         457\n",
       "Retiro                         438\n",
       "Moncloa                        416\n",
       "Latina                         376\n",
       "Chamartin                      356\n",
       "Carabanchel                    353\n",
       "CiudadLineal                   302\n",
       "PuenteVallecas                 218\n",
       "Hortaleza                      183\n",
       "Fuencarral                     150\n",
       "Usera                          144\n",
       "SanBlas                        117\n",
       "Barajas                         79\n",
       "Villaverde                      79\n",
       "Moratalaz                       74\n",
       "VillaVallecas                   44\n",
       "Vicalvaro                       32"
      ]
     },
     "execution_count": 70,
     "metadata": {},
     "output_type": "execute_result"
    }
   ],
   "source": [
    "df_madrid_new_features[['ID','Neighbourhood Group Cleansed']].groupby(by=['Neighbourhood Group Cleansed']).count().sort_values(by='ID', ascending=False)\n"
   ]
  },
  {
   "cell_type": "markdown",
   "id": "f4d5fa33",
   "metadata": {},
   "source": [
    "### Property Type"
   ]
  },
  {
   "cell_type": "code",
   "execution_count": 71,
   "id": "4f2ea3da",
   "metadata": {
    "ExecuteTime": {
     "end_time": "2023-02-13T10:50:45.622184Z",
     "start_time": "2023-02-13T10:50:45.609459Z"
    }
   },
   "outputs": [
    {
     "data": {
      "text/plain": [
       "array(['Apartment', 'Guesthouse', 'Other', 'House', 'Condominium',\n",
       "       'Bed & Breakfast', 'Loft', 'Dorm', 'Hostel', 'Chalet',\n",
       "       'Casa particular', 'Townhouse', 'Serviced apartment',\n",
       "       'Boutique hotel', 'Earth House', 'Camper/RV', 'Villa',\n",
       "       'Guest suite', 'Timeshare', 'Bungalow', 'Tent', 'Boat'],\n",
       "      dtype=object)"
      ]
     },
     "execution_count": 71,
     "metadata": {},
     "output_type": "execute_result"
    }
   ],
   "source": [
    "df_madrid['Property Type'].unique()"
   ]
  },
  {
   "cell_type": "code",
   "execution_count": 72,
   "id": "b1e2d5d5",
   "metadata": {
    "ExecuteTime": {
     "end_time": "2023-02-13T10:50:45.656238Z",
     "start_time": "2023-02-13T10:50:45.634484Z"
    }
   },
   "outputs": [
    {
     "data": {
      "text/html": [
       "<div>\n",
       "<style scoped>\n",
       "    .dataframe tbody tr th:only-of-type {\n",
       "        vertical-align: middle;\n",
       "    }\n",
       "\n",
       "    .dataframe tbody tr th {\n",
       "        vertical-align: top;\n",
       "    }\n",
       "\n",
       "    .dataframe thead th {\n",
       "        text-align: right;\n",
       "    }\n",
       "</style>\n",
       "<table border=\"1\" class=\"dataframe\">\n",
       "  <thead>\n",
       "    <tr style=\"text-align: right;\">\n",
       "      <th></th>\n",
       "      <th>ID</th>\n",
       "    </tr>\n",
       "    <tr>\n",
       "      <th>Property Type</th>\n",
       "      <th></th>\n",
       "    </tr>\n",
       "  </thead>\n",
       "  <tbody>\n",
       "    <tr>\n",
       "      <th>Apartment</th>\n",
       "      <td>10888</td>\n",
       "    </tr>\n",
       "    <tr>\n",
       "      <th>House</th>\n",
       "      <td>966</td>\n",
       "    </tr>\n",
       "    <tr>\n",
       "      <th>Condominium</th>\n",
       "      <td>345</td>\n",
       "    </tr>\n",
       "    <tr>\n",
       "      <th>Bed &amp; Breakfast</th>\n",
       "      <td>337</td>\n",
       "    </tr>\n",
       "    <tr>\n",
       "      <th>Loft</th>\n",
       "      <td>283</td>\n",
       "    </tr>\n",
       "    <tr>\n",
       "      <th>Other</th>\n",
       "      <td>220</td>\n",
       "    </tr>\n",
       "    <tr>\n",
       "      <th>Dorm</th>\n",
       "      <td>43</td>\n",
       "    </tr>\n",
       "    <tr>\n",
       "      <th>Guesthouse</th>\n",
       "      <td>39</td>\n",
       "    </tr>\n",
       "    <tr>\n",
       "      <th>Chalet</th>\n",
       "      <td>24</td>\n",
       "    </tr>\n",
       "    <tr>\n",
       "      <th>Hostel</th>\n",
       "      <td>16</td>\n",
       "    </tr>\n",
       "    <tr>\n",
       "      <th>Serviced apartment</th>\n",
       "      <td>13</td>\n",
       "    </tr>\n",
       "    <tr>\n",
       "      <th>Townhouse</th>\n",
       "      <td>8</td>\n",
       "    </tr>\n",
       "    <tr>\n",
       "      <th>Boutique hotel</th>\n",
       "      <td>6</td>\n",
       "    </tr>\n",
       "    <tr>\n",
       "      <th>Villa</th>\n",
       "      <td>4</td>\n",
       "    </tr>\n",
       "    <tr>\n",
       "      <th>Earth House</th>\n",
       "      <td>3</td>\n",
       "    </tr>\n",
       "    <tr>\n",
       "      <th>Casa particular</th>\n",
       "      <td>3</td>\n",
       "    </tr>\n",
       "    <tr>\n",
       "      <th>Guest suite</th>\n",
       "      <td>3</td>\n",
       "    </tr>\n",
       "    <tr>\n",
       "      <th>Camper/RV</th>\n",
       "      <td>2</td>\n",
       "    </tr>\n",
       "    <tr>\n",
       "      <th>Bungalow</th>\n",
       "      <td>1</td>\n",
       "    </tr>\n",
       "    <tr>\n",
       "      <th>Tent</th>\n",
       "      <td>1</td>\n",
       "    </tr>\n",
       "    <tr>\n",
       "      <th>Timeshare</th>\n",
       "      <td>1</td>\n",
       "    </tr>\n",
       "    <tr>\n",
       "      <th>Boat</th>\n",
       "      <td>1</td>\n",
       "    </tr>\n",
       "  </tbody>\n",
       "</table>\n",
       "</div>"
      ],
      "text/plain": [
       "                       ID\n",
       "Property Type            \n",
       "Apartment           10888\n",
       "House                 966\n",
       "Condominium           345\n",
       "Bed & Breakfast       337\n",
       "Loft                  283\n",
       "Other                 220\n",
       "Dorm                   43\n",
       "Guesthouse             39\n",
       "Chalet                 24\n",
       "Hostel                 16\n",
       "Serviced apartment     13\n",
       "Townhouse               8\n",
       "Boutique hotel          6\n",
       "Villa                   4\n",
       "Earth House             3\n",
       "Casa particular         3\n",
       "Guest suite             3\n",
       "Camper/RV               2\n",
       "Bungalow                1\n",
       "Tent                    1\n",
       "Timeshare               1\n",
       "Boat                    1"
      ]
     },
     "execution_count": 72,
     "metadata": {},
     "output_type": "execute_result"
    }
   ],
   "source": [
    "df_madrid[['ID','Property Type']].groupby(by=['Property Type']).count().sort_values(by='ID', ascending=False)"
   ]
  },
  {
   "cell_type": "code",
   "execution_count": 73,
   "id": "66c10ee8",
   "metadata": {
    "ExecuteTime": {
     "end_time": "2023-02-13T10:50:45.993527Z",
     "start_time": "2023-02-13T10:50:45.664718Z"
    }
   },
   "outputs": [],
   "source": [
    "df_madrid_new_features['Property Type'] = df_madrid_new_features['Property Type'].str.replace('Bed & Breakfast', 'BedAndBreakfast', regex=True)\n",
    "df_madrid_new_features['Property Type'] = df_madrid_new_features['Property Type'].str.replace('Dorm', 'Other', regex=True)\n",
    "df_madrid_new_features['Property Type'] = df_madrid_new_features['Property Type'].str.replace('Dorm', 'Other', regex=True)\n",
    "df_madrid_new_features['Property Type'] = df_madrid_new_features['Property Type'].str.replace('Guesthouse', 'Other', regex=True)\n",
    "df_madrid_new_features['Property Type'] = df_madrid_new_features['Property Type'].str.replace('Chalet', 'Other', regex=True)\n",
    "df_madrid_new_features['Property Type'] = df_madrid_new_features['Property Type'].str.replace('Hostel', 'Other', regex=True)\n",
    "df_madrid_new_features['Property Type'] = df_madrid_new_features['Property Type'].str.replace('Serviced apartment', 'Other', regex=True)\n",
    "df_madrid_new_features['Property Type'] = df_madrid_new_features['Property Type'].str.replace('Townhouse', 'Other', regex=True)\n",
    "df_madrid_new_features['Property Type'] = df_madrid_new_features['Property Type'].str.replace('Boutique hotel', 'Other', regex=True)\n",
    "df_madrid_new_features['Property Type'] = df_madrid_new_features['Property Type'].str.replace('Villa', 'Other', regex=True)\n",
    "df_madrid_new_features['Property Type'] = df_madrid_new_features['Property Type'].str.replace('Earth House', 'Other', regex=True)\n",
    "df_madrid_new_features['Property Type'] = df_madrid_new_features['Property Type'].str.replace('Casa particular', 'Other', regex=True)\n",
    "df_madrid_new_features['Property Type'] = df_madrid_new_features['Property Type'].str.replace('Guest suite', 'Other', regex=True)\n",
    "df_madrid_new_features['Property Type'] = df_madrid_new_features['Property Type'].str.replace('Camper/RV', 'Other', regex=True)\n",
    "df_madrid_new_features['Property Type'] = df_madrid_new_features['Property Type'].str.replace('Tent', 'Other', regex=True)\n",
    "df_madrid_new_features['Property Type'] = df_madrid_new_features['Property Type'].str.replace('Guest suite', 'Other', regex=True)\n",
    "df_madrid_new_features['Property Type'] = df_madrid_new_features['Property Type'].str.replace('Timeshare', 'Other', regex=True)\n",
    "df_madrid_new_features['Property Type'] = df_madrid_new_features['Property Type'].str.replace('Bungalow', 'Other', regex=True)\n",
    "df_madrid_new_features['Property Type'] = df_madrid_new_features['Property Type'].str.replace('Boat', 'Other', regex=True)"
   ]
  },
  {
   "cell_type": "code",
   "execution_count": 74,
   "id": "1bd17415",
   "metadata": {
    "ExecuteTime": {
     "end_time": "2023-02-13T10:50:46.066963Z",
     "start_time": "2023-02-13T10:50:46.002712Z"
    }
   },
   "outputs": [
    {
     "data": {
      "text/html": [
       "<div>\n",
       "<style scoped>\n",
       "    .dataframe tbody tr th:only-of-type {\n",
       "        vertical-align: middle;\n",
       "    }\n",
       "\n",
       "    .dataframe tbody tr th {\n",
       "        vertical-align: top;\n",
       "    }\n",
       "\n",
       "    .dataframe thead th {\n",
       "        text-align: right;\n",
       "    }\n",
       "</style>\n",
       "<table border=\"1\" class=\"dataframe\">\n",
       "  <thead>\n",
       "    <tr style=\"text-align: right;\">\n",
       "      <th></th>\n",
       "      <th>ID</th>\n",
       "    </tr>\n",
       "    <tr>\n",
       "      <th>Property Type</th>\n",
       "      <th></th>\n",
       "    </tr>\n",
       "  </thead>\n",
       "  <tbody>\n",
       "    <tr>\n",
       "      <th>Apartment</th>\n",
       "      <td>10888</td>\n",
       "    </tr>\n",
       "    <tr>\n",
       "      <th>House</th>\n",
       "      <td>966</td>\n",
       "    </tr>\n",
       "    <tr>\n",
       "      <th>Other</th>\n",
       "      <td>388</td>\n",
       "    </tr>\n",
       "    <tr>\n",
       "      <th>Condominium</th>\n",
       "      <td>345</td>\n",
       "    </tr>\n",
       "    <tr>\n",
       "      <th>BedAndBreakfast</th>\n",
       "      <td>337</td>\n",
       "    </tr>\n",
       "    <tr>\n",
       "      <th>Loft</th>\n",
       "      <td>283</td>\n",
       "    </tr>\n",
       "  </tbody>\n",
       "</table>\n",
       "</div>"
      ],
      "text/plain": [
       "                    ID\n",
       "Property Type         \n",
       "Apartment        10888\n",
       "House              966\n",
       "Other              388\n",
       "Condominium        345\n",
       "BedAndBreakfast    337\n",
       "Loft               283"
      ]
     },
     "execution_count": 74,
     "metadata": {},
     "output_type": "execute_result"
    }
   ],
   "source": [
    "df_madrid_new_features[['ID','Property Type']].groupby(by=['Property Type']).count().sort_values(by='ID', ascending=False)"
   ]
  },
  {
   "cell_type": "markdown",
   "id": "d4298afd",
   "metadata": {},
   "source": [
    "### Room Type"
   ]
  },
  {
   "cell_type": "code",
   "execution_count": 75,
   "id": "3d9c6d39",
   "metadata": {
    "ExecuteTime": {
     "end_time": "2023-02-13T10:50:46.091699Z",
     "start_time": "2023-02-13T10:50:46.076252Z"
    }
   },
   "outputs": [
    {
     "data": {
      "text/plain": [
       "array(['Private room', 'Entire home/apt', 'Shared room'], dtype=object)"
      ]
     },
     "execution_count": 75,
     "metadata": {},
     "output_type": "execute_result"
    }
   ],
   "source": [
    "df_madrid['Room Type'].unique()"
   ]
  },
  {
   "cell_type": "code",
   "execution_count": 76,
   "id": "1a70cbb2",
   "metadata": {
    "ExecuteTime": {
     "end_time": "2023-02-13T10:50:46.125372Z",
     "start_time": "2023-02-13T10:50:46.096221Z"
    }
   },
   "outputs": [
    {
     "data": {
      "text/html": [
       "<div>\n",
       "<style scoped>\n",
       "    .dataframe tbody tr th:only-of-type {\n",
       "        vertical-align: middle;\n",
       "    }\n",
       "\n",
       "    .dataframe tbody tr th {\n",
       "        vertical-align: top;\n",
       "    }\n",
       "\n",
       "    .dataframe thead th {\n",
       "        text-align: right;\n",
       "    }\n",
       "</style>\n",
       "<table border=\"1\" class=\"dataframe\">\n",
       "  <thead>\n",
       "    <tr style=\"text-align: right;\">\n",
       "      <th></th>\n",
       "      <th>ID</th>\n",
       "    </tr>\n",
       "    <tr>\n",
       "      <th>Room Type</th>\n",
       "      <th></th>\n",
       "    </tr>\n",
       "  </thead>\n",
       "  <tbody>\n",
       "    <tr>\n",
       "      <th>Entire home/apt</th>\n",
       "      <td>7903</td>\n",
       "    </tr>\n",
       "    <tr>\n",
       "      <th>Private room</th>\n",
       "      <td>5113</td>\n",
       "    </tr>\n",
       "    <tr>\n",
       "      <th>Shared room</th>\n",
       "      <td>191</td>\n",
       "    </tr>\n",
       "  </tbody>\n",
       "</table>\n",
       "</div>"
      ],
      "text/plain": [
       "                   ID\n",
       "Room Type            \n",
       "Entire home/apt  7903\n",
       "Private room     5113\n",
       "Shared room       191"
      ]
     },
     "execution_count": 76,
     "metadata": {},
     "output_type": "execute_result"
    }
   ],
   "source": [
    "df_madrid[['ID','Room Type']].groupby(by=['Room Type']).count().sort_values(by='ID', ascending=False)"
   ]
  },
  {
   "cell_type": "markdown",
   "id": "b6ecb361",
   "metadata": {},
   "source": [
    "#### categories"
   ]
  },
  {
   "cell_type": "code",
   "execution_count": 77,
   "id": "1719689c",
   "metadata": {
    "ExecuteTime": {
     "end_time": "2023-02-13T10:50:46.199635Z",
     "start_time": "2023-02-13T10:50:46.129324Z"
    }
   },
   "outputs": [],
   "source": [
    "df_madrid_new_features['Room Type'] = df_madrid_new_features['Room Type'].str.replace('Entire home/apt', 'EntireHome', regex=True)\n",
    "df_madrid_new_features['Room Type'] = df_madrid_new_features['Room Type'].str.replace('Private room', 'PrivateRoom', regex=True)\n",
    "df_madrid_new_features['Room Type'] = df_madrid_new_features['Room Type'].str.replace('Shared room', 'SharedRoom', regex=True)"
   ]
  },
  {
   "cell_type": "code",
   "execution_count": 78,
   "id": "d657fdfd",
   "metadata": {
    "ExecuteTime": {
     "end_time": "2023-02-13T10:50:46.261122Z",
     "start_time": "2023-02-13T10:50:46.204681Z"
    }
   },
   "outputs": [
    {
     "data": {
      "text/html": [
       "<div>\n",
       "<style scoped>\n",
       "    .dataframe tbody tr th:only-of-type {\n",
       "        vertical-align: middle;\n",
       "    }\n",
       "\n",
       "    .dataframe tbody tr th {\n",
       "        vertical-align: top;\n",
       "    }\n",
       "\n",
       "    .dataframe thead th {\n",
       "        text-align: right;\n",
       "    }\n",
       "</style>\n",
       "<table border=\"1\" class=\"dataframe\">\n",
       "  <thead>\n",
       "    <tr style=\"text-align: right;\">\n",
       "      <th></th>\n",
       "      <th>ID</th>\n",
       "    </tr>\n",
       "    <tr>\n",
       "      <th>Room Type</th>\n",
       "      <th></th>\n",
       "    </tr>\n",
       "  </thead>\n",
       "  <tbody>\n",
       "    <tr>\n",
       "      <th>EntireHome</th>\n",
       "      <td>7903</td>\n",
       "    </tr>\n",
       "    <tr>\n",
       "      <th>PrivateRoom</th>\n",
       "      <td>5113</td>\n",
       "    </tr>\n",
       "    <tr>\n",
       "      <th>SharedRoom</th>\n",
       "      <td>191</td>\n",
       "    </tr>\n",
       "  </tbody>\n",
       "</table>\n",
       "</div>"
      ],
      "text/plain": [
       "               ID\n",
       "Room Type        \n",
       "EntireHome   7903\n",
       "PrivateRoom  5113\n",
       "SharedRoom    191"
      ]
     },
     "execution_count": 78,
     "metadata": {},
     "output_type": "execute_result"
    }
   ],
   "source": [
    "df_madrid_new_features[['ID','Room Type']].groupby(by=['Room Type']).count().sort_values(by='ID', ascending=False)"
   ]
  },
  {
   "cell_type": "markdown",
   "id": "ac8cdd91",
   "metadata": {},
   "source": [
    "#### is_EntireHome"
   ]
  },
  {
   "cell_type": "code",
   "execution_count": 79,
   "id": "88d9f65e",
   "metadata": {
    "ExecuteTime": {
     "end_time": "2023-02-13T10:50:46.284098Z",
     "start_time": "2023-02-13T10:50:46.266880Z"
    }
   },
   "outputs": [],
   "source": [
    "df_madrid_new_features['is_EntireHome'] = df_madrid_new_features['Room Type'].apply(lambda x: x==\"EntireHome\")"
   ]
  },
  {
   "cell_type": "code",
   "execution_count": 80,
   "id": "701d33f3",
   "metadata": {
    "ExecuteTime": {
     "end_time": "2023-02-13T10:50:46.315108Z",
     "start_time": "2023-02-13T10:50:46.288974Z"
    }
   },
   "outputs": [
    {
     "data": {
      "text/html": [
       "<div>\n",
       "<style scoped>\n",
       "    .dataframe tbody tr th:only-of-type {\n",
       "        vertical-align: middle;\n",
       "    }\n",
       "\n",
       "    .dataframe tbody tr th {\n",
       "        vertical-align: top;\n",
       "    }\n",
       "\n",
       "    .dataframe thead th {\n",
       "        text-align: right;\n",
       "    }\n",
       "</style>\n",
       "<table border=\"1\" class=\"dataframe\">\n",
       "  <thead>\n",
       "    <tr style=\"text-align: right;\">\n",
       "      <th></th>\n",
       "      <th>ID</th>\n",
       "    </tr>\n",
       "    <tr>\n",
       "      <th>is_EntireHome</th>\n",
       "      <th></th>\n",
       "    </tr>\n",
       "  </thead>\n",
       "  <tbody>\n",
       "    <tr>\n",
       "      <th>True</th>\n",
       "      <td>7903</td>\n",
       "    </tr>\n",
       "    <tr>\n",
       "      <th>False</th>\n",
       "      <td>5304</td>\n",
       "    </tr>\n",
       "  </tbody>\n",
       "</table>\n",
       "</div>"
      ],
      "text/plain": [
       "                 ID\n",
       "is_EntireHome      \n",
       "True           7903\n",
       "False          5304"
      ]
     },
     "execution_count": 80,
     "metadata": {},
     "output_type": "execute_result"
    }
   ],
   "source": [
    "df_madrid_new_features[['ID','is_EntireHome']].groupby(by=['is_EntireHome']).count().sort_values(by='ID', ascending=False)"
   ]
  },
  {
   "cell_type": "markdown",
   "id": "b5ed48f1",
   "metadata": {},
   "source": [
    "### Bed Type"
   ]
  },
  {
   "cell_type": "code",
   "execution_count": 81,
   "id": "44ad42e8",
   "metadata": {
    "ExecuteTime": {
     "end_time": "2023-02-13T10:50:46.333528Z",
     "start_time": "2023-02-13T10:50:46.318684Z"
    }
   },
   "outputs": [
    {
     "data": {
      "text/plain": [
       "array(['Real Bed', 'Pull-out Sofa', 'Futon', 'Couch', 'Airbed'],\n",
       "      dtype=object)"
      ]
     },
     "execution_count": 81,
     "metadata": {},
     "output_type": "execute_result"
    }
   ],
   "source": [
    "df_madrid['Bed Type'].unique()"
   ]
  },
  {
   "cell_type": "code",
   "execution_count": 82,
   "id": "e762277c",
   "metadata": {
    "ExecuteTime": {
     "end_time": "2023-02-13T10:50:46.434866Z",
     "start_time": "2023-02-13T10:50:46.394700Z"
    }
   },
   "outputs": [
    {
     "data": {
      "text/html": [
       "<div>\n",
       "<style scoped>\n",
       "    .dataframe tbody tr th:only-of-type {\n",
       "        vertical-align: middle;\n",
       "    }\n",
       "\n",
       "    .dataframe tbody tr th {\n",
       "        vertical-align: top;\n",
       "    }\n",
       "\n",
       "    .dataframe thead th {\n",
       "        text-align: right;\n",
       "    }\n",
       "</style>\n",
       "<table border=\"1\" class=\"dataframe\">\n",
       "  <thead>\n",
       "    <tr style=\"text-align: right;\">\n",
       "      <th></th>\n",
       "      <th>ID</th>\n",
       "    </tr>\n",
       "    <tr>\n",
       "      <th>Bed Type</th>\n",
       "      <th></th>\n",
       "    </tr>\n",
       "  </thead>\n",
       "  <tbody>\n",
       "    <tr>\n",
       "      <th>Real Bed</th>\n",
       "      <td>12914</td>\n",
       "    </tr>\n",
       "    <tr>\n",
       "      <th>Pull-out Sofa</th>\n",
       "      <td>238</td>\n",
       "    </tr>\n",
       "    <tr>\n",
       "      <th>Futon</th>\n",
       "      <td>35</td>\n",
       "    </tr>\n",
       "    <tr>\n",
       "      <th>Couch</th>\n",
       "      <td>15</td>\n",
       "    </tr>\n",
       "    <tr>\n",
       "      <th>Airbed</th>\n",
       "      <td>5</td>\n",
       "    </tr>\n",
       "  </tbody>\n",
       "</table>\n",
       "</div>"
      ],
      "text/plain": [
       "                  ID\n",
       "Bed Type            \n",
       "Real Bed       12914\n",
       "Pull-out Sofa    238\n",
       "Futon             35\n",
       "Couch             15\n",
       "Airbed             5"
      ]
     },
     "execution_count": 82,
     "metadata": {},
     "output_type": "execute_result"
    }
   ],
   "source": [
    "df_madrid[['ID','Bed Type']].groupby(by=['Bed Type']).count().sort_values(by='ID', ascending=False)"
   ]
  },
  {
   "cell_type": "code",
   "execution_count": 83,
   "id": "15a5a801",
   "metadata": {
    "ExecuteTime": {
     "end_time": "2023-02-13T10:50:46.458652Z",
     "start_time": "2023-02-13T10:50:46.440682Z"
    }
   },
   "outputs": [],
   "source": [
    "df_madrid_new_features['is_Bed'] = df_madrid_new_features['Bed Type'].apply(lambda x: x==\"Real Bed\")"
   ]
  },
  {
   "cell_type": "code",
   "execution_count": 84,
   "id": "75650c8f",
   "metadata": {
    "ExecuteTime": {
     "end_time": "2023-02-13T10:50:46.496190Z",
     "start_time": "2023-02-13T10:50:46.463876Z"
    }
   },
   "outputs": [
    {
     "data": {
      "text/html": [
       "<div>\n",
       "<style scoped>\n",
       "    .dataframe tbody tr th:only-of-type {\n",
       "        vertical-align: middle;\n",
       "    }\n",
       "\n",
       "    .dataframe tbody tr th {\n",
       "        vertical-align: top;\n",
       "    }\n",
       "\n",
       "    .dataframe thead th {\n",
       "        text-align: right;\n",
       "    }\n",
       "</style>\n",
       "<table border=\"1\" class=\"dataframe\">\n",
       "  <thead>\n",
       "    <tr style=\"text-align: right;\">\n",
       "      <th></th>\n",
       "      <th>ID</th>\n",
       "    </tr>\n",
       "    <tr>\n",
       "      <th>is_Bed</th>\n",
       "      <th></th>\n",
       "    </tr>\n",
       "  </thead>\n",
       "  <tbody>\n",
       "    <tr>\n",
       "      <th>True</th>\n",
       "      <td>12914</td>\n",
       "    </tr>\n",
       "    <tr>\n",
       "      <th>False</th>\n",
       "      <td>293</td>\n",
       "    </tr>\n",
       "  </tbody>\n",
       "</table>\n",
       "</div>"
      ],
      "text/plain": [
       "           ID\n",
       "is_Bed       \n",
       "True    12914\n",
       "False     293"
      ]
     },
     "execution_count": 84,
     "metadata": {},
     "output_type": "execute_result"
    }
   ],
   "source": [
    "df_madrid_new_features[['ID','is_Bed']].groupby(by=['is_Bed']).count().sort_values(by='ID', ascending=False)"
   ]
  },
  {
   "cell_type": "markdown",
   "id": "07f60d89",
   "metadata": {},
   "source": [
    "### Amenities"
   ]
  },
  {
   "cell_type": "markdown",
   "id": "21ec82fb",
   "metadata": {},
   "source": [
    "#### Features por amenitie"
   ]
  },
  {
   "cell_type": "code",
   "execution_count": 85,
   "id": "0f599d31",
   "metadata": {
    "ExecuteTime": {
     "end_time": "2023-02-13T10:50:46.517612Z",
     "start_time": "2023-02-13T10:50:46.509882Z"
    }
   },
   "outputs": [],
   "source": [
    "#Pendiente: Crear columnas con diferentes Amenities has_Wireless, has_Dryer, etc"
   ]
  },
  {
   "cell_type": "code",
   "execution_count": null,
   "id": "4e3e6d68",
   "metadata": {},
   "outputs": [],
   "source": []
  },
  {
   "cell_type": "markdown",
   "id": "b2e34709",
   "metadata": {},
   "source": [
    "### Calendar Updated"
   ]
  },
  {
   "cell_type": "markdown",
   "id": "102858b9",
   "metadata": {},
   "source": [
    "#### días desde calendar updated"
   ]
  },
  {
   "cell_type": "code",
   "execution_count": 86,
   "id": "2f3a2576",
   "metadata": {
    "ExecuteTime": {
     "end_time": "2023-02-13T10:50:46.564673Z",
     "start_time": "2023-02-13T10:50:46.526384Z"
    }
   },
   "outputs": [
    {
     "data": {
      "text/plain": [
       "array(['4 days ago', '5 days ago', 'today', '4 weeks ago', 'a week ago',\n",
       "       '2 months ago', '2 weeks ago', '6 days ago', '3 weeks ago',\n",
       "       'never', '6 months ago', 'yesterday', '1 week ago', '6 weeks ago',\n",
       "       '10 months ago', '5 weeks ago', '7 months ago', '3 days ago',\n",
       "       '17 months ago', '13 months ago', '11 months ago', '3 months ago',\n",
       "       '22 months ago', '18 months ago', '5 months ago', '4 months ago',\n",
       "       '8 months ago', '20 months ago', '2 days ago', '16 months ago',\n",
       "       '14 months ago', '24 months ago', '7 weeks ago', '19 months ago',\n",
       "       '15 months ago', '12 months ago', '48 months ago', '9 months ago',\n",
       "       '21 months ago', '30 months ago', '26 months ago', '29 months ago',\n",
       "       '23 months ago', '34 months ago', '51 months ago', '25 months ago',\n",
       "       '45 months ago', '31 months ago', '35 months ago', '33 months ago',\n",
       "       '28 months ago', '27 months ago', '37 months ago', '57 months ago',\n",
       "       '58 months ago', '52 months ago', '50 months ago'], dtype=object)"
      ]
     },
     "execution_count": 86,
     "metadata": {},
     "output_type": "execute_result"
    }
   ],
   "source": [
    "df_madrid['Calendar Updated'].unique()"
   ]
  },
  {
   "cell_type": "code",
   "execution_count": 87,
   "id": "2e12a10d",
   "metadata": {
    "ExecuteTime": {
     "end_time": "2023-02-13T10:50:46.596025Z",
     "start_time": "2023-02-13T10:50:46.585589Z"
    }
   },
   "outputs": [],
   "source": [
    "#Pendiente: días desde la actualización del calendario"
   ]
  },
  {
   "cell_type": "code",
   "execution_count": null,
   "id": "c2920bd3",
   "metadata": {},
   "outputs": [],
   "source": []
  },
  {
   "cell_type": "markdown",
   "id": "53ab0096",
   "metadata": {},
   "source": [
    "#### is_UpdatedToday"
   ]
  },
  {
   "cell_type": "code",
   "execution_count": 88,
   "id": "af8ff504",
   "metadata": {
    "ExecuteTime": {
     "end_time": "2023-02-13T10:50:46.627003Z",
     "start_time": "2023-02-13T10:50:46.605813Z"
    }
   },
   "outputs": [],
   "source": [
    "df_madrid_new_features['is_UpdatedToday'] = df_madrid_new_features['Calendar Updated'].apply(lambda x: x==\"today\")"
   ]
  },
  {
   "cell_type": "code",
   "execution_count": 89,
   "id": "2ff67819",
   "metadata": {
    "ExecuteTime": {
     "end_time": "2023-02-13T10:50:46.666848Z",
     "start_time": "2023-02-13T10:50:46.633865Z"
    }
   },
   "outputs": [
    {
     "data": {
      "text/html": [
       "<div>\n",
       "<style scoped>\n",
       "    .dataframe tbody tr th:only-of-type {\n",
       "        vertical-align: middle;\n",
       "    }\n",
       "\n",
       "    .dataframe tbody tr th {\n",
       "        vertical-align: top;\n",
       "    }\n",
       "\n",
       "    .dataframe thead th {\n",
       "        text-align: right;\n",
       "    }\n",
       "</style>\n",
       "<table border=\"1\" class=\"dataframe\">\n",
       "  <thead>\n",
       "    <tr style=\"text-align: right;\">\n",
       "      <th></th>\n",
       "      <th>ID</th>\n",
       "    </tr>\n",
       "    <tr>\n",
       "      <th>is_UpdatedToday</th>\n",
       "      <th></th>\n",
       "    </tr>\n",
       "  </thead>\n",
       "  <tbody>\n",
       "    <tr>\n",
       "      <th>False</th>\n",
       "      <td>9794</td>\n",
       "    </tr>\n",
       "    <tr>\n",
       "      <th>True</th>\n",
       "      <td>3413</td>\n",
       "    </tr>\n",
       "  </tbody>\n",
       "</table>\n",
       "</div>"
      ],
      "text/plain": [
       "                   ID\n",
       "is_UpdatedToday      \n",
       "False            9794\n",
       "True             3413"
      ]
     },
     "execution_count": 89,
     "metadata": {},
     "output_type": "execute_result"
    }
   ],
   "source": [
    "df_madrid_new_features[['ID','is_UpdatedToday']].groupby(by=['is_UpdatedToday']).count().sort_values(by='ID', ascending=False)"
   ]
  },
  {
   "cell_type": "code",
   "execution_count": 90,
   "id": "ff758649",
   "metadata": {
    "ExecuteTime": {
     "end_time": "2023-02-13T10:50:46.694228Z",
     "start_time": "2023-02-13T10:50:46.674596Z"
    }
   },
   "outputs": [
    {
     "data": {
      "text/html": [
       "<div>\n",
       "<style scoped>\n",
       "    .dataframe tbody tr th:only-of-type {\n",
       "        vertical-align: middle;\n",
       "    }\n",
       "\n",
       "    .dataframe tbody tr th {\n",
       "        vertical-align: top;\n",
       "    }\n",
       "\n",
       "    .dataframe thead th {\n",
       "        text-align: right;\n",
       "    }\n",
       "</style>\n",
       "<table border=\"1\" class=\"dataframe\">\n",
       "  <thead>\n",
       "    <tr style=\"text-align: right;\">\n",
       "      <th></th>\n",
       "      <th>is_UpdatedToday</th>\n",
       "      <th>Calendar Updated</th>\n",
       "    </tr>\n",
       "  </thead>\n",
       "  <tbody>\n",
       "    <tr>\n",
       "      <th>3</th>\n",
       "      <td>False</td>\n",
       "      <td>4 days ago</td>\n",
       "    </tr>\n",
       "    <tr>\n",
       "      <th>4</th>\n",
       "      <td>False</td>\n",
       "      <td>5 days ago</td>\n",
       "    </tr>\n",
       "    <tr>\n",
       "      <th>5</th>\n",
       "      <td>False</td>\n",
       "      <td>4 days ago</td>\n",
       "    </tr>\n",
       "    <tr>\n",
       "      <th>6</th>\n",
       "      <td>True</td>\n",
       "      <td>today</td>\n",
       "    </tr>\n",
       "    <tr>\n",
       "      <th>7</th>\n",
       "      <td>False</td>\n",
       "      <td>4 weeks ago</td>\n",
       "    </tr>\n",
       "  </tbody>\n",
       "</table>\n",
       "</div>"
      ],
      "text/plain": [
       "   is_UpdatedToday Calendar Updated\n",
       "3            False       4 days ago\n",
       "4            False       5 days ago\n",
       "5            False       4 days ago\n",
       "6             True            today\n",
       "7            False      4 weeks ago"
      ]
     },
     "execution_count": 90,
     "metadata": {},
     "output_type": "execute_result"
    }
   ],
   "source": [
    "df_madrid_new_features[['is_UpdatedToday', 'Calendar Updated']].head(5)"
   ]
  },
  {
   "cell_type": "markdown",
   "id": "c4d5586a",
   "metadata": {},
   "source": [
    "### First review"
   ]
  },
  {
   "cell_type": "markdown",
   "id": "f7c780cb",
   "metadata": {},
   "source": [
    "#### dias desde la primera review"
   ]
  },
  {
   "cell_type": "code",
   "execution_count": 91,
   "id": "2312b483",
   "metadata": {
    "ExecuteTime": {
     "end_time": "2023-02-13T10:50:46.706712Z",
     "start_time": "2023-02-13T10:50:46.700184Z"
    }
   },
   "outputs": [],
   "source": [
    "#pendiente: crear la feature días desde la primera review hasta el día del escrapeo"
   ]
  },
  {
   "cell_type": "code",
   "execution_count": null,
   "id": "b3aea5f2",
   "metadata": {},
   "outputs": [],
   "source": []
  },
  {
   "cell_type": "markdown",
   "id": "717ecf32",
   "metadata": {},
   "source": [
    "### 'Cancellation Policy'"
   ]
  },
  {
   "cell_type": "code",
   "execution_count": 92,
   "id": "6bf984a7",
   "metadata": {
    "ExecuteTime": {
     "end_time": "2023-02-13T10:50:46.727070Z",
     "start_time": "2023-02-13T10:50:46.711605Z"
    }
   },
   "outputs": [
    {
     "data": {
      "text/plain": [
       "array(['flexible', 'strict', 'moderate', 'super_strict_60',\n",
       "       'super_strict_30'], dtype=object)"
      ]
     },
     "execution_count": 92,
     "metadata": {},
     "output_type": "execute_result"
    }
   ],
   "source": [
    "df_madrid['Cancellation Policy'].unique()"
   ]
  },
  {
   "cell_type": "code",
   "execution_count": 93,
   "id": "f7d63758",
   "metadata": {
    "ExecuteTime": {
     "end_time": "2023-02-13T10:50:46.782181Z",
     "start_time": "2023-02-13T10:50:46.731340Z"
    }
   },
   "outputs": [],
   "source": [
    "df_madrid_new_features['Cancellation Policy'] = df_madrid_new_features['Cancellation Policy'].str.replace('super_strict_60', 'strict', regex=True)\n",
    "df_madrid_new_features['Cancellation Policy'] = df_madrid_new_features['Cancellation Policy'].str.replace('super_strict_30', 'strict', regex=True)"
   ]
  },
  {
   "cell_type": "code",
   "execution_count": 94,
   "id": "74b8e25a",
   "metadata": {
    "ExecuteTime": {
     "end_time": "2023-02-13T10:50:46.919073Z",
     "start_time": "2023-02-13T10:50:46.787537Z"
    }
   },
   "outputs": [
    {
     "data": {
      "text/html": [
       "<div>\n",
       "<style scoped>\n",
       "    .dataframe tbody tr th:only-of-type {\n",
       "        vertical-align: middle;\n",
       "    }\n",
       "\n",
       "    .dataframe tbody tr th {\n",
       "        vertical-align: top;\n",
       "    }\n",
       "\n",
       "    .dataframe thead th {\n",
       "        text-align: right;\n",
       "    }\n",
       "</style>\n",
       "<table border=\"1\" class=\"dataframe\">\n",
       "  <thead>\n",
       "    <tr style=\"text-align: right;\">\n",
       "      <th></th>\n",
       "      <th>ID</th>\n",
       "    </tr>\n",
       "    <tr>\n",
       "      <th>Cancellation Policy</th>\n",
       "      <th></th>\n",
       "    </tr>\n",
       "  </thead>\n",
       "  <tbody>\n",
       "    <tr>\n",
       "      <th>strict</th>\n",
       "      <td>4999</td>\n",
       "    </tr>\n",
       "    <tr>\n",
       "      <th>flexible</th>\n",
       "      <td>4244</td>\n",
       "    </tr>\n",
       "    <tr>\n",
       "      <th>moderate</th>\n",
       "      <td>3964</td>\n",
       "    </tr>\n",
       "  </tbody>\n",
       "</table>\n",
       "</div>"
      ],
      "text/plain": [
       "                       ID\n",
       "Cancellation Policy      \n",
       "strict               4999\n",
       "flexible             4244\n",
       "moderate             3964"
      ]
     },
     "execution_count": 94,
     "metadata": {},
     "output_type": "execute_result"
    }
   ],
   "source": [
    "df_madrid_new_features[['ID','Cancellation Policy']].groupby(by=['Cancellation Policy']).count().sort_values(by='ID', ascending=False)"
   ]
  },
  {
   "cell_type": "markdown",
   "id": "5779913c",
   "metadata": {},
   "source": [
    "## New Dataset"
   ]
  },
  {
   "cell_type": "code",
   "execution_count": 95,
   "id": "a6436a4b",
   "metadata": {
    "ExecuteTime": {
     "end_time": "2023-02-13T10:50:47.062934Z",
     "start_time": "2023-02-13T10:50:46.924766Z"
    }
   },
   "outputs": [
    {
     "data": {
      "text/html": [
       "<div>\n",
       "<style scoped>\n",
       "    .dataframe tbody tr th:only-of-type {\n",
       "        vertical-align: middle;\n",
       "    }\n",
       "\n",
       "    .dataframe tbody tr th {\n",
       "        vertical-align: top;\n",
       "    }\n",
       "\n",
       "    .dataframe thead th {\n",
       "        text-align: right;\n",
       "    }\n",
       "</style>\n",
       "<table border=\"1\" class=\"dataframe\">\n",
       "  <thead>\n",
       "    <tr style=\"text-align: right;\">\n",
       "      <th></th>\n",
       "      <th>ID</th>\n",
       "      <th>Listing Url</th>\n",
       "      <th>Scrape ID</th>\n",
       "      <th>Last Scraped</th>\n",
       "      <th>Name</th>\n",
       "      <th>Summary</th>\n",
       "      <th>Space</th>\n",
       "      <th>Description</th>\n",
       "      <th>Experiences Offered</th>\n",
       "      <th>Neighborhood Overview</th>\n",
       "      <th>Notes</th>\n",
       "      <th>Transit</th>\n",
       "      <th>Access</th>\n",
       "      <th>Interaction</th>\n",
       "      <th>House Rules</th>\n",
       "      <th>Thumbnail Url</th>\n",
       "      <th>Medium Url</th>\n",
       "      <th>Picture Url</th>\n",
       "      <th>XL Picture Url</th>\n",
       "      <th>Host ID</th>\n",
       "      <th>Host URL</th>\n",
       "      <th>Host Name</th>\n",
       "      <th>Host Since</th>\n",
       "      <th>Host Location</th>\n",
       "      <th>Host About</th>\n",
       "      <th>Host Response Time</th>\n",
       "      <th>Host Response Rate</th>\n",
       "      <th>Host Acceptance Rate</th>\n",
       "      <th>Host Thumbnail Url</th>\n",
       "      <th>Host Picture Url</th>\n",
       "      <th>Host Neighbourhood</th>\n",
       "      <th>Host Listings Count</th>\n",
       "      <th>Host Total Listings Count</th>\n",
       "      <th>Host Verifications</th>\n",
       "      <th>Street</th>\n",
       "      <th>Neighbourhood</th>\n",
       "      <th>Neighbourhood Cleansed</th>\n",
       "      <th>Neighbourhood Group Cleansed</th>\n",
       "      <th>City</th>\n",
       "      <th>State</th>\n",
       "      <th>Zipcode</th>\n",
       "      <th>Market</th>\n",
       "      <th>Smart Location</th>\n",
       "      <th>Country Code</th>\n",
       "      <th>Country</th>\n",
       "      <th>Latitude</th>\n",
       "      <th>Longitude</th>\n",
       "      <th>Property Type</th>\n",
       "      <th>Room Type</th>\n",
       "      <th>Accommodates</th>\n",
       "      <th>Bathrooms</th>\n",
       "      <th>Bedrooms</th>\n",
       "      <th>Beds</th>\n",
       "      <th>Bed Type</th>\n",
       "      <th>Amenities</th>\n",
       "      <th>Square Feet</th>\n",
       "      <th>Price</th>\n",
       "      <th>Weekly Price</th>\n",
       "      <th>Monthly Price</th>\n",
       "      <th>Security Deposit</th>\n",
       "      <th>Cleaning Fee</th>\n",
       "      <th>Guests Included</th>\n",
       "      <th>Extra People</th>\n",
       "      <th>Minimum Nights</th>\n",
       "      <th>Maximum Nights</th>\n",
       "      <th>Calendar Updated</th>\n",
       "      <th>Has Availability</th>\n",
       "      <th>Availability 30</th>\n",
       "      <th>Availability 60</th>\n",
       "      <th>Availability 90</th>\n",
       "      <th>Availability 365</th>\n",
       "      <th>Calendar last Scraped</th>\n",
       "      <th>Number of Reviews</th>\n",
       "      <th>First Review</th>\n",
       "      <th>Last Review</th>\n",
       "      <th>Review Scores Rating</th>\n",
       "      <th>Review Scores Accuracy</th>\n",
       "      <th>Review Scores Cleanliness</th>\n",
       "      <th>Review Scores Checkin</th>\n",
       "      <th>Review Scores Communication</th>\n",
       "      <th>Review Scores Location</th>\n",
       "      <th>Review Scores Value</th>\n",
       "      <th>License</th>\n",
       "      <th>Jurisdiction Names</th>\n",
       "      <th>Cancellation Policy</th>\n",
       "      <th>Calculated host listings count</th>\n",
       "      <th>Reviews per Month</th>\n",
       "      <th>Geolocation</th>\n",
       "      <th>Features</th>\n",
       "      <th>Name_Len</th>\n",
       "      <th>Name_Lang</th>\n",
       "      <th>Summary_Len</th>\n",
       "      <th>Summary_Lang</th>\n",
       "      <th>Space_Len</th>\n",
       "      <th>Space_Lang</th>\n",
       "      <th>Description_Len</th>\n",
       "      <th>Description_Lang</th>\n",
       "      <th>is_Thumbnail</th>\n",
       "      <th>is_HostAbout</th>\n",
       "      <th>is_ResponseInHours</th>\n",
       "      <th>Num_Host_Verifications</th>\n",
       "      <th>is_EntireHome</th>\n",
       "      <th>is_Bed</th>\n",
       "      <th>is_UpdatedToday</th>\n",
       "    </tr>\n",
       "  </thead>\n",
       "  <tbody>\n",
       "    <tr>\n",
       "      <th>3</th>\n",
       "      <td>3150371</td>\n",
       "      <td>https://www.airbnb.com/rooms/3150371</td>\n",
       "      <td>20170407214119</td>\n",
       "      <td>2017-04-08</td>\n",
       "      <td>Double room + bathroom - La Latina</td>\n",
       "      <td>Double room with own bathroom in La Latina, in...</td>\n",
       "      <td>The apartment is spacious and cozy. It is 90 m...</td>\n",
       "      <td>Double room with own bathroom in La Latina, in...</td>\n",
       "      <td>none</td>\n",
       "      <td>La Latina is one of the most famous neighbourh...</td>\n",
       "      <td>NaN</td>\n",
       "      <td>The closest tube station is La Latina (line 5 ...</td>\n",
       "      <td>You can use the kitchen, the lounge, the terra...</td>\n",
       "      <td>The bedrooms are totally separated: one at one...</td>\n",
       "      <td>Care and respect are both required in the comm...</td>\n",
       "      <td>https://a0.muscache.com/im/pictures/40713802/3...</td>\n",
       "      <td>https://a0.muscache.com/im/pictures/40713802/3...</td>\n",
       "      <td>https://public.opendatasoft.com/api/explore/v2...</td>\n",
       "      <td>https://a0.muscache.com/im/pictures/40713802/3...</td>\n",
       "      <td>11902716</td>\n",
       "      <td>https://www.airbnb.com/users/show/11902716</td>\n",
       "      <td>Daniel Y Ximena</td>\n",
       "      <td>2014-02-03</td>\n",
       "      <td>Madrid, Community of Madrid, Spain</td>\n",
       "      <td>Aficionados al cine, la música, los amigos, el...</td>\n",
       "      <td>day</td>\n",
       "      <td>100</td>\n",
       "      <td>NaN</td>\n",
       "      <td>https://a0.muscache.com/im/users/11902716/prof...</td>\n",
       "      <td>https://a0.muscache.com/im/users/11902716/prof...</td>\n",
       "      <td>Palacio</td>\n",
       "      <td>1</td>\n",
       "      <td>1</td>\n",
       "      <td>email,phone,reviews,jumio</td>\n",
       "      <td>Palacio, Madrid, Community of Madrid 28005, Spain</td>\n",
       "      <td>Palacio</td>\n",
       "      <td>Palacio</td>\n",
       "      <td>Centro</td>\n",
       "      <td>Madrid</td>\n",
       "      <td>Community of Madrid</td>\n",
       "      <td>28005</td>\n",
       "      <td>Madrid</td>\n",
       "      <td>Madrid, Spain</td>\n",
       "      <td>ES</td>\n",
       "      <td>Spain</td>\n",
       "      <td>40.4101</td>\n",
       "      <td>-3.71475</td>\n",
       "      <td>Apartment</td>\n",
       "      <td>PrivateRoom</td>\n",
       "      <td>2</td>\n",
       "      <td>1</td>\n",
       "      <td>1</td>\n",
       "      <td>1</td>\n",
       "      <td>Real Bed</td>\n",
       "      <td>TV,Internet,Wireless Internet,Kitchen,Doorman,...</td>\n",
       "      <td>NaN</td>\n",
       "      <td>36</td>\n",
       "      <td>NaN</td>\n",
       "      <td>NaN</td>\n",
       "      <td>NaN</td>\n",
       "      <td>NaN</td>\n",
       "      <td>1</td>\n",
       "      <td>0</td>\n",
       "      <td>2</td>\n",
       "      <td>1125</td>\n",
       "      <td>4 days ago</td>\n",
       "      <td>NaN</td>\n",
       "      <td>1</td>\n",
       "      <td>1</td>\n",
       "      <td>1</td>\n",
       "      <td>1</td>\n",
       "      <td>2017-04-07</td>\n",
       "      <td>80</td>\n",
       "      <td>2014-06-15</td>\n",
       "      <td>2017-04-01</td>\n",
       "      <td>98</td>\n",
       "      <td>10</td>\n",
       "      <td>10</td>\n",
       "      <td>10</td>\n",
       "      <td>10</td>\n",
       "      <td>10</td>\n",
       "      <td>10</td>\n",
       "      <td>NaN</td>\n",
       "      <td>NaN</td>\n",
       "      <td>flexible</td>\n",
       "      <td>1</td>\n",
       "      <td>2.33</td>\n",
       "      <td>40.41010608050749, -3.714754034177323</td>\n",
       "      <td>Host Has Profile Pic,Host Identity Verified,Is...</td>\n",
       "      <td>34</td>\n",
       "      <td>True</td>\n",
       "      <td>67</td>\n",
       "      <td>True</td>\n",
       "      <td>488</td>\n",
       "      <td>True</td>\n",
       "      <td>1000</td>\n",
       "      <td>True</td>\n",
       "      <td>True</td>\n",
       "      <td>True</td>\n",
       "      <td>False</td>\n",
       "      <td>4</td>\n",
       "      <td>False</td>\n",
       "      <td>True</td>\n",
       "      <td>False</td>\n",
       "    </tr>\n",
       "    <tr>\n",
       "      <th>4</th>\n",
       "      <td>3378181</td>\n",
       "      <td>https://www.airbnb.com/rooms/3378181</td>\n",
       "      <td>20170407214119</td>\n",
       "      <td>2017-04-08</td>\n",
       "      <td>Ópera/Plz Mayor -- A/C, elevator</td>\n",
       "      <td>Old world charm meets modern comfort in our ne...</td>\n",
       "      <td>Designed with the traveler in mind, our one-be...</td>\n",
       "      <td>Old world charm meets modern comfort in our ne...</td>\n",
       "      <td>none</td>\n",
       "      <td>The neighborhood is steeped in history and clo...</td>\n",
       "      <td>NaN</td>\n",
       "      <td>The apartment is close to the Ópera metro stat...</td>\n",
       "      <td>The entire apartment is yours.</td>\n",
       "      <td>We are always available to answer questions an...</td>\n",
       "      <td>The Golden Rule shall apply always :) The apar...</td>\n",
       "      <td>https://a0.muscache.com/im/pictures/44239584/c...</td>\n",
       "      <td>https://a0.muscache.com/im/pictures/44239584/c...</td>\n",
       "      <td>https://public.opendatasoft.com/api/explore/v2...</td>\n",
       "      <td>https://a0.muscache.com/im/pictures/44239584/c...</td>\n",
       "      <td>809083</td>\n",
       "      <td>https://www.airbnb.com/users/show/809083</td>\n",
       "      <td>Michael</td>\n",
       "      <td>2011-07-12</td>\n",
       "      <td>Madrid, Madrid, Spain</td>\n",
       "      <td>I'm a US expat who enjoys welcoming people fro...</td>\n",
       "      <td>day</td>\n",
       "      <td>94</td>\n",
       "      <td>NaN</td>\n",
       "      <td>https://a0.muscache.com/im/users/809083/profil...</td>\n",
       "      <td>https://a0.muscache.com/im/users/809083/profil...</td>\n",
       "      <td>Palacio</td>\n",
       "      <td>3</td>\n",
       "      <td>3</td>\n",
       "      <td>email,phone,facebook,reviews,jumio,work_email</td>\n",
       "      <td>Palacio, Madrid, Community of Madrid 28013, Spain</td>\n",
       "      <td>Palacio</td>\n",
       "      <td>Palacio</td>\n",
       "      <td>Centro</td>\n",
       "      <td>Madrid</td>\n",
       "      <td>Community of Madrid</td>\n",
       "      <td>28013</td>\n",
       "      <td>Madrid</td>\n",
       "      <td>Madrid, Spain</td>\n",
       "      <td>ES</td>\n",
       "      <td>Spain</td>\n",
       "      <td>40.417</td>\n",
       "      <td>-3.70944</td>\n",
       "      <td>Apartment</td>\n",
       "      <td>EntireHome</td>\n",
       "      <td>2</td>\n",
       "      <td>1</td>\n",
       "      <td>1</td>\n",
       "      <td>1</td>\n",
       "      <td>Real Bed</td>\n",
       "      <td>TV,Wireless Internet,Air conditioning,Kitchen,...</td>\n",
       "      <td>NaN</td>\n",
       "      <td>85</td>\n",
       "      <td>600</td>\n",
       "      <td>1800</td>\n",
       "      <td>100</td>\n",
       "      <td>30</td>\n",
       "      <td>1</td>\n",
       "      <td>0</td>\n",
       "      <td>3</td>\n",
       "      <td>1125</td>\n",
       "      <td>5 days ago</td>\n",
       "      <td>NaN</td>\n",
       "      <td>12</td>\n",
       "      <td>32</td>\n",
       "      <td>45</td>\n",
       "      <td>320</td>\n",
       "      <td>2017-04-07</td>\n",
       "      <td>90</td>\n",
       "      <td>2014-07-09</td>\n",
       "      <td>2017-02-28</td>\n",
       "      <td>95</td>\n",
       "      <td>10</td>\n",
       "      <td>9</td>\n",
       "      <td>10</td>\n",
       "      <td>10</td>\n",
       "      <td>10</td>\n",
       "      <td>10</td>\n",
       "      <td>NaN</td>\n",
       "      <td>NaN</td>\n",
       "      <td>strict</td>\n",
       "      <td>2</td>\n",
       "      <td>2.69</td>\n",
       "      <td>40.416968822636726, -3.7094389211089993</td>\n",
       "      <td>Host Has Profile Pic,Host Identity Verified,Is...</td>\n",
       "      <td>32</td>\n",
       "      <td>False</td>\n",
       "      <td>241</td>\n",
       "      <td>True</td>\n",
       "      <td>1000</td>\n",
       "      <td>True</td>\n",
       "      <td>1000</td>\n",
       "      <td>True</td>\n",
       "      <td>True</td>\n",
       "      <td>True</td>\n",
       "      <td>False</td>\n",
       "      <td>6</td>\n",
       "      <td>True</td>\n",
       "      <td>True</td>\n",
       "      <td>False</td>\n",
       "    </tr>\n",
       "    <tr>\n",
       "      <th>5</th>\n",
       "      <td>2070750</td>\n",
       "      <td>https://www.airbnb.com/rooms/2070750</td>\n",
       "      <td>20170407214119</td>\n",
       "      <td>2017-04-08</td>\n",
       "      <td>Centric room with a balcony</td>\n",
       "      <td>Lominous room for rent in the heart of the old...</td>\n",
       "      <td>Lominous room for rent in the heart of the old...</td>\n",
       "      <td>Lominous room for rent in the heart of the old...</td>\n",
       "      <td>none</td>\n",
       "      <td>-</td>\n",
       "      <td>-</td>\n",
       "      <td>-</td>\n",
       "      <td>-</td>\n",
       "      <td>-</td>\n",
       "      <td>-</td>\n",
       "      <td>https://a0.muscache.com/im/pictures/84378550/f...</td>\n",
       "      <td>https://a0.muscache.com/im/pictures/84378550/f...</td>\n",
       "      <td>https://public.opendatasoft.com/api/explore/v2...</td>\n",
       "      <td>https://a0.muscache.com/im/pictures/84378550/f...</td>\n",
       "      <td>7005367</td>\n",
       "      <td>https://www.airbnb.com/users/show/7005367</td>\n",
       "      <td>Sergio</td>\n",
       "      <td>2013-06-19</td>\n",
       "      <td>Madrid, Community of Madrid, Spain</td>\n",
       "      <td>Viajar, música, libros y naturaleza.</td>\n",
       "      <td>day</td>\n",
       "      <td>80</td>\n",
       "      <td>NaN</td>\n",
       "      <td>https://a0.muscache.com/im/users/7005367/profi...</td>\n",
       "      <td>https://a0.muscache.com/im/users/7005367/profi...</td>\n",
       "      <td>La Latina</td>\n",
       "      <td>4</td>\n",
       "      <td>4</td>\n",
       "      <td>email,phone,reviews,jumio</td>\n",
       "      <td>Madrid, Community of Madrid, Spain</td>\n",
       "      <td>La Latina</td>\n",
       "      <td>Palacio</td>\n",
       "      <td>Centro</td>\n",
       "      <td>Madrid</td>\n",
       "      <td>Community of Madrid</td>\n",
       "      <td>NaN</td>\n",
       "      <td>Madrid</td>\n",
       "      <td>Madrid, Spain</td>\n",
       "      <td>ES</td>\n",
       "      <td>Spain</td>\n",
       "      <td>40.4097</td>\n",
       "      <td>-3.71356</td>\n",
       "      <td>Apartment</td>\n",
       "      <td>PrivateRoom</td>\n",
       "      <td>2</td>\n",
       "      <td>1</td>\n",
       "      <td>1</td>\n",
       "      <td>1</td>\n",
       "      <td>Real Bed</td>\n",
       "      <td>Wireless Internet,Kitchen,Pets allowed,Buzzer/...</td>\n",
       "      <td>861</td>\n",
       "      <td>20</td>\n",
       "      <td>185</td>\n",
       "      <td>440</td>\n",
       "      <td>100</td>\n",
       "      <td>NaN</td>\n",
       "      <td>1</td>\n",
       "      <td>10</td>\n",
       "      <td>3</td>\n",
       "      <td>1125</td>\n",
       "      <td>4 days ago</td>\n",
       "      <td>NaN</td>\n",
       "      <td>7</td>\n",
       "      <td>37</td>\n",
       "      <td>67</td>\n",
       "      <td>158</td>\n",
       "      <td>2017-04-07</td>\n",
       "      <td>20</td>\n",
       "      <td>2014-07-22</td>\n",
       "      <td>2017-03-07</td>\n",
       "      <td>91</td>\n",
       "      <td>9</td>\n",
       "      <td>9</td>\n",
       "      <td>9</td>\n",
       "      <td>9</td>\n",
       "      <td>10</td>\n",
       "      <td>9</td>\n",
       "      <td>NaN</td>\n",
       "      <td>NaN</td>\n",
       "      <td>flexible</td>\n",
       "      <td>4</td>\n",
       "      <td>0.6</td>\n",
       "      <td>40.40970517560235, -3.7135611928841086</td>\n",
       "      <td>Host Has Profile Pic,Host Identity Verified,Is...</td>\n",
       "      <td>27</td>\n",
       "      <td>True</td>\n",
       "      <td>232</td>\n",
       "      <td>True</td>\n",
       "      <td>469</td>\n",
       "      <td>True</td>\n",
       "      <td>479</td>\n",
       "      <td>True</td>\n",
       "      <td>True</td>\n",
       "      <td>True</td>\n",
       "      <td>False</td>\n",
       "      <td>4</td>\n",
       "      <td>False</td>\n",
       "      <td>True</td>\n",
       "      <td>False</td>\n",
       "    </tr>\n",
       "    <tr>\n",
       "      <th>6</th>\n",
       "      <td>9832499</td>\n",
       "      <td>https://www.airbnb.com/rooms/9832499</td>\n",
       "      <td>20170407214119</td>\n",
       "      <td>2017-04-08</td>\n",
       "      <td>PLAZA DE ESPAÑA - Único - Gimnasio.</td>\n",
       "      <td>Ubicado en el famoso edificio Torre de Madrid,...</td>\n",
       "      <td>Ubicado en el famoso edificio Torre de Madrid,...</td>\n",
       "      <td>Ubicado en el famoso edificio Torre de Madrid,...</td>\n",
       "      <td>none</td>\n",
       "      <td>NaN</td>\n",
       "      <td>NaN</td>\n",
       "      <td>Metro \"Plaza de España\".</td>\n",
       "      <td>Gimnasio. Conserjería 24hs. Seguridad 24hs.</td>\n",
       "      <td>Siempre disponible para ayudarte a que tu esta...</td>\n",
       "      <td>1. Terminantemente prohibido fumar dentro del ...</td>\n",
       "      <td>https://a0.muscache.com/im/pictures/be441d1f-4...</td>\n",
       "      <td>https://a0.muscache.com/im/pictures/be441d1f-4...</td>\n",
       "      <td>https://public.opendatasoft.com/api/explore/v2...</td>\n",
       "      <td>https://a0.muscache.com/im/pictures/be441d1f-4...</td>\n",
       "      <td>1647109</td>\n",
       "      <td>https://www.airbnb.com/users/show/1647109</td>\n",
       "      <td>Daniel</td>\n",
       "      <td>2012-01-24</td>\n",
       "      <td>Region of Murcia, Spain</td>\n",
       "      <td>Amante del Running. Deportista. Me encanta el ...</td>\n",
       "      <td>hour</td>\n",
       "      <td>100</td>\n",
       "      <td>NaN</td>\n",
       "      <td>https://a0.muscache.com/im/pictures/49fd9f5c-0...</td>\n",
       "      <td>https://a0.muscache.com/im/pictures/49fd9f5c-0...</td>\n",
       "      <td>Chamberí</td>\n",
       "      <td>10</td>\n",
       "      <td>10</td>\n",
       "      <td>email,phone,facebook,reviews,jumio,work_email</td>\n",
       "      <td>Malasaña, Madrid, Comunidad de Madrid, Spain</td>\n",
       "      <td>Malasaña</td>\n",
       "      <td>Palacio</td>\n",
       "      <td>Centro</td>\n",
       "      <td>Madrid</td>\n",
       "      <td>Comunidad de Madrid</td>\n",
       "      <td>NaN</td>\n",
       "      <td>Madrid</td>\n",
       "      <td>Madrid, Spain</td>\n",
       "      <td>ES</td>\n",
       "      <td>Spain</td>\n",
       "      <td>40.4232</td>\n",
       "      <td>-3.71125</td>\n",
       "      <td>Apartment</td>\n",
       "      <td>EntireHome</td>\n",
       "      <td>4</td>\n",
       "      <td>1</td>\n",
       "      <td>1</td>\n",
       "      <td>2</td>\n",
       "      <td>Real Bed</td>\n",
       "      <td>TV,Internet,Wireless Internet,Air conditioning...</td>\n",
       "      <td>NaN</td>\n",
       "      <td>112</td>\n",
       "      <td>NaN</td>\n",
       "      <td>NaN</td>\n",
       "      <td>250</td>\n",
       "      <td>15</td>\n",
       "      <td>2</td>\n",
       "      <td>5</td>\n",
       "      <td>3</td>\n",
       "      <td>1900</td>\n",
       "      <td>today</td>\n",
       "      <td>NaN</td>\n",
       "      <td>7</td>\n",
       "      <td>13</td>\n",
       "      <td>21</td>\n",
       "      <td>248</td>\n",
       "      <td>2017-04-07</td>\n",
       "      <td>55</td>\n",
       "      <td>2016-01-02</td>\n",
       "      <td>2017-03-31</td>\n",
       "      <td>99</td>\n",
       "      <td>10</td>\n",
       "      <td>10</td>\n",
       "      <td>10</td>\n",
       "      <td>10</td>\n",
       "      <td>10</td>\n",
       "      <td>10</td>\n",
       "      <td>VT-1520</td>\n",
       "      <td>NaN</td>\n",
       "      <td>strict</td>\n",
       "      <td>9</td>\n",
       "      <td>3.56</td>\n",
       "      <td>40.42319271738103, -3.7112486513892</td>\n",
       "      <td>Host Is Superhost,Host Has Profile Pic,Host Id...</td>\n",
       "      <td>35</td>\n",
       "      <td>False</td>\n",
       "      <td>249</td>\n",
       "      <td>False</td>\n",
       "      <td>1000</td>\n",
       "      <td>False</td>\n",
       "      <td>1000</td>\n",
       "      <td>False</td>\n",
       "      <td>True</td>\n",
       "      <td>True</td>\n",
       "      <td>True</td>\n",
       "      <td>6</td>\n",
       "      <td>True</td>\n",
       "      <td>True</td>\n",
       "      <td>True</td>\n",
       "    </tr>\n",
       "    <tr>\n",
       "      <th>7</th>\n",
       "      <td>1868170</td>\n",
       "      <td>https://www.airbnb.com/rooms/1868170</td>\n",
       "      <td>20170407214119</td>\n",
       "      <td>2017-04-08</td>\n",
       "      <td>Loft/duplex 150m2, 3 double rooms</td>\n",
       "      <td>Huge, open plan spacious apartment in the cent...</td>\n",
       "      <td>Huge, open plan spacious apartment in the cent...</td>\n",
       "      <td>Huge, open plan spacious apartment in the cent...</td>\n",
       "      <td>none</td>\n",
       "      <td>NaN</td>\n",
       "      <td>NaN</td>\n",
       "      <td>Walking distance to everything you need.. also...</td>\n",
       "      <td>NaN</td>\n",
       "      <td>NaN</td>\n",
       "      <td>Please treat my house with the care and respec...</td>\n",
       "      <td>https://a0.muscache.com/im/pictures/c232f016-f...</td>\n",
       "      <td>https://a0.muscache.com/im/pictures/c232f016-f...</td>\n",
       "      <td>https://public.opendatasoft.com/api/explore/v2...</td>\n",
       "      <td>https://a0.muscache.com/im/pictures/c232f016-f...</td>\n",
       "      <td>9738650</td>\n",
       "      <td>https://www.airbnb.com/users/show/9738650</td>\n",
       "      <td>Carlos Chamarro</td>\n",
       "      <td>2013-10-31</td>\n",
       "      <td>Madrid, Community of Madrid, Spain</td>\n",
       "      <td>Hi I'm Carlos. I am an actor and a painter ori...</td>\n",
       "      <td>hours</td>\n",
       "      <td>100</td>\n",
       "      <td>NaN</td>\n",
       "      <td>https://a0.muscache.com/im/pictures/c88a555a-e...</td>\n",
       "      <td>https://a0.muscache.com/im/pictures/c88a555a-e...</td>\n",
       "      <td>Palacio</td>\n",
       "      <td>1</td>\n",
       "      <td>1</td>\n",
       "      <td>email,phone,reviews,jumio</td>\n",
       "      <td>Palacio, Madrid, Community of Madrid 28005, Spain</td>\n",
       "      <td>Palacio</td>\n",
       "      <td>Palacio</td>\n",
       "      <td>Centro</td>\n",
       "      <td>Madrid</td>\n",
       "      <td>Community of Madrid</td>\n",
       "      <td>28005</td>\n",
       "      <td>Madrid</td>\n",
       "      <td>Madrid, Spain</td>\n",
       "      <td>ES</td>\n",
       "      <td>Spain</td>\n",
       "      <td>40.4165</td>\n",
       "      <td>-3.71784</td>\n",
       "      <td>Apartment</td>\n",
       "      <td>EntireHome</td>\n",
       "      <td>8</td>\n",
       "      <td>3</td>\n",
       "      <td>3</td>\n",
       "      <td>4</td>\n",
       "      <td>Real Bed</td>\n",
       "      <td>TV,Internet,Wireless Internet,Kitchen,Pets all...</td>\n",
       "      <td>NaN</td>\n",
       "      <td>190</td>\n",
       "      <td>NaN</td>\n",
       "      <td>NaN</td>\n",
       "      <td>200</td>\n",
       "      <td>20</td>\n",
       "      <td>6</td>\n",
       "      <td>40</td>\n",
       "      <td>3</td>\n",
       "      <td>1125</td>\n",
       "      <td>4 weeks ago</td>\n",
       "      <td>NaN</td>\n",
       "      <td>6</td>\n",
       "      <td>20</td>\n",
       "      <td>24</td>\n",
       "      <td>296</td>\n",
       "      <td>2017-04-07</td>\n",
       "      <td>46</td>\n",
       "      <td>2013-12-09</td>\n",
       "      <td>2017-03-26</td>\n",
       "      <td>96</td>\n",
       "      <td>10</td>\n",
       "      <td>10</td>\n",
       "      <td>10</td>\n",
       "      <td>10</td>\n",
       "      <td>10</td>\n",
       "      <td>9</td>\n",
       "      <td>NaN</td>\n",
       "      <td>NaN</td>\n",
       "      <td>moderate</td>\n",
       "      <td>1</td>\n",
       "      <td>1.13</td>\n",
       "      <td>40.416513932601625, -3.7178427529546973</td>\n",
       "      <td>Host Is Superhost,Host Has Profile Pic,Host Id...</td>\n",
       "      <td>33</td>\n",
       "      <td>False</td>\n",
       "      <td>271</td>\n",
       "      <td>True</td>\n",
       "      <td>939</td>\n",
       "      <td>True</td>\n",
       "      <td>1000</td>\n",
       "      <td>True</td>\n",
       "      <td>True</td>\n",
       "      <td>True</td>\n",
       "      <td>True</td>\n",
       "      <td>4</td>\n",
       "      <td>True</td>\n",
       "      <td>True</td>\n",
       "      <td>False</td>\n",
       "    </tr>\n",
       "    <tr>\n",
       "      <th>8</th>\n",
       "      <td>6554204</td>\n",
       "      <td>https://www.airbnb.com/rooms/6554204</td>\n",
       "      <td>20170407214119</td>\n",
       "      <td>2017-04-08</td>\n",
       "      <td>CITY CENTER OPERA ROOM 8</td>\n",
       "      <td>Situado junto al Palacio Real y la Plaza de Op...</td>\n",
       "      <td>Una gran opción si deseas vivir en el centro d...</td>\n",
       "      <td>Situado junto al Palacio Real y la Plaza de Op...</td>\n",
       "      <td>none</td>\n",
       "      <td>Se encuentra en la zona de Palacio, por lo que...</td>\n",
       "      <td>NaN</td>\n",
       "      <td>Los metros más cercanos serían Ópera (L2, L5 y...</td>\n",
       "      <td>El edificio cuenta con ascensor y conserje.</td>\n",
       "      <td>Estaremos a vuestra disposición para cualquier...</td>\n",
       "      <td>NaN</td>\n",
       "      <td>https://a0.muscache.com/im/pictures/90548067/4...</td>\n",
       "      <td>https://a0.muscache.com/im/pictures/90548067/4...</td>\n",
       "      <td>https://public.opendatasoft.com/api/explore/v2...</td>\n",
       "      <td>https://a0.muscache.com/im/pictures/90548067/4...</td>\n",
       "      <td>15258781</td>\n",
       "      <td>https://www.airbnb.com/users/show/15258781</td>\n",
       "      <td>Erasmo´S</td>\n",
       "      <td>2014-05-08</td>\n",
       "      <td>Madrid, Community of Madrid, Spain</td>\n",
       "      <td>Disfruta de tu habitación en el centro de Madr...</td>\n",
       "      <td>hours</td>\n",
       "      <td>100</td>\n",
       "      <td>NaN</td>\n",
       "      <td>https://a0.muscache.com/im/users/15258781/prof...</td>\n",
       "      <td>https://a0.muscache.com/im/users/15258781/prof...</td>\n",
       "      <td>Justicia</td>\n",
       "      <td>114</td>\n",
       "      <td>114</td>\n",
       "      <td>email,phone,reviews,work_email</td>\n",
       "      <td>Palacio, Madrid, Comunidad de Madrid 28013, Spain</td>\n",
       "      <td>Palacio</td>\n",
       "      <td>Palacio</td>\n",
       "      <td>Centro</td>\n",
       "      <td>Madrid</td>\n",
       "      <td>Comunidad de Madrid</td>\n",
       "      <td>28013</td>\n",
       "      <td>Madrid</td>\n",
       "      <td>Madrid, Spain</td>\n",
       "      <td>ES</td>\n",
       "      <td>Spain</td>\n",
       "      <td>40.4168</td>\n",
       "      <td>-3.71024</td>\n",
       "      <td>Apartment</td>\n",
       "      <td>PrivateRoom</td>\n",
       "      <td>2</td>\n",
       "      <td>2</td>\n",
       "      <td>1</td>\n",
       "      <td>1</td>\n",
       "      <td>Real Bed</td>\n",
       "      <td>Wireless Internet,Kitchen,Smoking allowed,Door...</td>\n",
       "      <td>NaN</td>\n",
       "      <td>30</td>\n",
       "      <td>NaN</td>\n",
       "      <td>NaN</td>\n",
       "      <td>NaN</td>\n",
       "      <td>15</td>\n",
       "      <td>1</td>\n",
       "      <td>5</td>\n",
       "      <td>10</td>\n",
       "      <td>1125</td>\n",
       "      <td>a week ago</td>\n",
       "      <td>NaN</td>\n",
       "      <td>6</td>\n",
       "      <td>36</td>\n",
       "      <td>66</td>\n",
       "      <td>341</td>\n",
       "      <td>2017-04-07</td>\n",
       "      <td>3</td>\n",
       "      <td>2015-07-01</td>\n",
       "      <td>2015-08-03</td>\n",
       "      <td>67</td>\n",
       "      <td>8</td>\n",
       "      <td>5</td>\n",
       "      <td>10</td>\n",
       "      <td>10</td>\n",
       "      <td>10</td>\n",
       "      <td>7</td>\n",
       "      <td>NaN</td>\n",
       "      <td>NaN</td>\n",
       "      <td>strict</td>\n",
       "      <td>97</td>\n",
       "      <td>0.14</td>\n",
       "      <td>40.416833945573366, -3.7102397557129683</td>\n",
       "      <td>Host Has Profile Pic,Is Location Exact,Require...</td>\n",
       "      <td>24</td>\n",
       "      <td>True</td>\n",
       "      <td>370</td>\n",
       "      <td>False</td>\n",
       "      <td>187</td>\n",
       "      <td>False</td>\n",
       "      <td>923</td>\n",
       "      <td>False</td>\n",
       "      <td>True</td>\n",
       "      <td>True</td>\n",
       "      <td>True</td>\n",
       "      <td>4</td>\n",
       "      <td>False</td>\n",
       "      <td>True</td>\n",
       "      <td>False</td>\n",
       "    </tr>\n",
       "    <tr>\n",
       "      <th>9</th>\n",
       "      <td>3861249</td>\n",
       "      <td>https://www.airbnb.com/rooms/3861249</td>\n",
       "      <td>20170407214119</td>\n",
       "      <td>2017-04-08</td>\n",
       "      <td>CITY CENTER SOL B ROOM 3</td>\n",
       "      <td>Ubicado a pocos minutos de la Puerta del Sol, ...</td>\n",
       "      <td>Dispone de 4 habitaciones, un baño y cocina co...</td>\n",
       "      <td>Ubicado a pocos minutos de la Puerta del Sol, ...</td>\n",
       "      <td>none</td>\n",
       "      <td>A dos minutos de la Puerta de Sol y justo al l...</td>\n",
       "      <td>NaN</td>\n",
       "      <td>Los metros más cercanos serían Tirso de Molina...</td>\n",
       "      <td>Podrán usar todas las zonas comunes del alojam...</td>\n",
       "      <td>Estaremos a su disposición para cualquier duda...</td>\n",
       "      <td>NaN</td>\n",
       "      <td>https://a0.muscache.com/im/pictures/48573525/a...</td>\n",
       "      <td>https://a0.muscache.com/im/pictures/48573525/a...</td>\n",
       "      <td>https://public.opendatasoft.com/api/explore/v2...</td>\n",
       "      <td>https://a0.muscache.com/im/pictures/48573525/a...</td>\n",
       "      <td>15258781</td>\n",
       "      <td>https://www.airbnb.com/users/show/15258781</td>\n",
       "      <td>Erasmo´S</td>\n",
       "      <td>2014-05-08</td>\n",
       "      <td>Madrid, Community of Madrid, Spain</td>\n",
       "      <td>Disfruta de tu habitación en el centro de Madr...</td>\n",
       "      <td>hours</td>\n",
       "      <td>100</td>\n",
       "      <td>NaN</td>\n",
       "      <td>https://a0.muscache.com/im/users/15258781/prof...</td>\n",
       "      <td>https://a0.muscache.com/im/users/15258781/prof...</td>\n",
       "      <td>Justicia</td>\n",
       "      <td>114</td>\n",
       "      <td>114</td>\n",
       "      <td>email,phone,reviews,work_email</td>\n",
       "      <td>Embajadores, Madrid, Community of Madrid 28012...</td>\n",
       "      <td>Embajadores</td>\n",
       "      <td>Embajadores</td>\n",
       "      <td>Centro</td>\n",
       "      <td>Madrid</td>\n",
       "      <td>Community of Madrid</td>\n",
       "      <td>28012</td>\n",
       "      <td>Madrid</td>\n",
       "      <td>Madrid, Spain</td>\n",
       "      <td>ES</td>\n",
       "      <td>Spain</td>\n",
       "      <td>40.4139</td>\n",
       "      <td>-3.70564</td>\n",
       "      <td>Apartment</td>\n",
       "      <td>PrivateRoom</td>\n",
       "      <td>1</td>\n",
       "      <td>1</td>\n",
       "      <td>1</td>\n",
       "      <td>1</td>\n",
       "      <td>Real Bed</td>\n",
       "      <td>Wireless Internet,Kitchen,Smoking allowed,Door...</td>\n",
       "      <td>NaN</td>\n",
       "      <td>18</td>\n",
       "      <td>NaN</td>\n",
       "      <td>NaN</td>\n",
       "      <td>NaN</td>\n",
       "      <td>15</td>\n",
       "      <td>1</td>\n",
       "      <td>0</td>\n",
       "      <td>10</td>\n",
       "      <td>1125</td>\n",
       "      <td>a week ago</td>\n",
       "      <td>NaN</td>\n",
       "      <td>0</td>\n",
       "      <td>0</td>\n",
       "      <td>6</td>\n",
       "      <td>281</td>\n",
       "      <td>2017-04-08</td>\n",
       "      <td>0</td>\n",
       "      <td>NaN</td>\n",
       "      <td>NaN</td>\n",
       "      <td>NaN</td>\n",
       "      <td>NaN</td>\n",
       "      <td>NaN</td>\n",
       "      <td>NaN</td>\n",
       "      <td>NaN</td>\n",
       "      <td>NaN</td>\n",
       "      <td>NaN</td>\n",
       "      <td>NaN</td>\n",
       "      <td>NaN</td>\n",
       "      <td>strict</td>\n",
       "      <td>97</td>\n",
       "      <td>NaN</td>\n",
       "      <td>40.41394547020656, -3.70563748329694</td>\n",
       "      <td>Host Has Profile Pic,Is Location Exact,Require...</td>\n",
       "      <td>24</td>\n",
       "      <td>True</td>\n",
       "      <td>341</td>\n",
       "      <td>False</td>\n",
       "      <td>129</td>\n",
       "      <td>False</td>\n",
       "      <td>991</td>\n",
       "      <td>False</td>\n",
       "      <td>True</td>\n",
       "      <td>True</td>\n",
       "      <td>True</td>\n",
       "      <td>4</td>\n",
       "      <td>False</td>\n",
       "      <td>True</td>\n",
       "      <td>False</td>\n",
       "    </tr>\n",
       "    <tr>\n",
       "      <th>10</th>\n",
       "      <td>2816173</td>\n",
       "      <td>https://www.airbnb.com/rooms/2816173</td>\n",
       "      <td>20170407214119</td>\n",
       "      <td>2017-04-08</td>\n",
       "      <td>Luminoso Apartamento Lavapiés</td>\n",
       "      <td>Cosy room with a doble bed.  The bathroom may ...</td>\n",
       "      <td>NaN</td>\n",
       "      <td>Cosy room with a doble bed.  The bathroom may ...</td>\n",
       "      <td>none</td>\n",
       "      <td>Nearest Tourist Office  Location: Plaza Mayor ...</td>\n",
       "      <td>NaN</td>\n",
       "      <td>Closest subways stations from home 1.Lavapiés ...</td>\n",
       "      <td>There is air conditioning only in the living r...</td>\n",
       "      <td>I will be living in México until end of March ...</td>\n",
       "      <td>No llevar zapatos en la casa. Los dejamos detr...</td>\n",
       "      <td>https://a0.muscache.com/im/pictures/37148597/4...</td>\n",
       "      <td>https://a0.muscache.com/im/pictures/37148597/4...</td>\n",
       "      <td>https://public.opendatasoft.com/api/explore/v2...</td>\n",
       "      <td>https://a0.muscache.com/im/pictures/37148597/4...</td>\n",
       "      <td>14405469</td>\n",
       "      <td>https://www.airbnb.com/users/show/14405469</td>\n",
       "      <td>Irene</td>\n",
       "      <td>2014-04-17</td>\n",
       "      <td>Madrid, Community of Madrid, Spain</td>\n",
       "      <td>Me pasaría la vida viajando y creo que Airbnb ...</td>\n",
       "      <td>hours</td>\n",
       "      <td>100</td>\n",
       "      <td>NaN</td>\n",
       "      <td>https://a0.muscache.com/im/users/14405469/prof...</td>\n",
       "      <td>https://a0.muscache.com/im/users/14405469/prof...</td>\n",
       "      <td>La Latina</td>\n",
       "      <td>6</td>\n",
       "      <td>6</td>\n",
       "      <td>email,phone,reviews,jumio,government_id</td>\n",
       "      <td>Madrid, Community of Madrid 28012, Spain</td>\n",
       "      <td>NaN</td>\n",
       "      <td>Embajadores</td>\n",
       "      <td>Centro</td>\n",
       "      <td>Madrid</td>\n",
       "      <td>Community of Madrid</td>\n",
       "      <td>28012</td>\n",
       "      <td>Madrid</td>\n",
       "      <td>Madrid, Spain</td>\n",
       "      <td>ES</td>\n",
       "      <td>Spain</td>\n",
       "      <td>40.4092</td>\n",
       "      <td>-3.70405</td>\n",
       "      <td>Apartment</td>\n",
       "      <td>PrivateRoom</td>\n",
       "      <td>2</td>\n",
       "      <td>1</td>\n",
       "      <td>1</td>\n",
       "      <td>1</td>\n",
       "      <td>Real Bed</td>\n",
       "      <td>Internet,Wireless Internet,Air conditioning,Ki...</td>\n",
       "      <td>NaN</td>\n",
       "      <td>38</td>\n",
       "      <td>240</td>\n",
       "      <td>850</td>\n",
       "      <td>70</td>\n",
       "      <td>12</td>\n",
       "      <td>1</td>\n",
       "      <td>10</td>\n",
       "      <td>2</td>\n",
       "      <td>1125</td>\n",
       "      <td>2 months ago</td>\n",
       "      <td>NaN</td>\n",
       "      <td>12</td>\n",
       "      <td>42</td>\n",
       "      <td>72</td>\n",
       "      <td>347</td>\n",
       "      <td>2017-04-08</td>\n",
       "      <td>78</td>\n",
       "      <td>2014-05-12</td>\n",
       "      <td>2017-03-12</td>\n",
       "      <td>93</td>\n",
       "      <td>10</td>\n",
       "      <td>10</td>\n",
       "      <td>9</td>\n",
       "      <td>10</td>\n",
       "      <td>9</td>\n",
       "      <td>9</td>\n",
       "      <td>NaN</td>\n",
       "      <td>NaN</td>\n",
       "      <td>moderate</td>\n",
       "      <td>3</td>\n",
       "      <td>2.2</td>\n",
       "      <td>40.40924754500767, -3.7040517514192786</td>\n",
       "      <td>Host Has Profile Pic,Host Identity Verified,Is...</td>\n",
       "      <td>29</td>\n",
       "      <td>False</td>\n",
       "      <td>148</td>\n",
       "      <td>True</td>\n",
       "      <td>0</td>\n",
       "      <td>False</td>\n",
       "      <td>1000</td>\n",
       "      <td>True</td>\n",
       "      <td>True</td>\n",
       "      <td>True</td>\n",
       "      <td>True</td>\n",
       "      <td>5</td>\n",
       "      <td>False</td>\n",
       "      <td>True</td>\n",
       "      <td>False</td>\n",
       "    </tr>\n",
       "    <tr>\n",
       "      <th>11</th>\n",
       "      <td>12660354</td>\n",
       "      <td>https://www.airbnb.com/rooms/12660354</td>\n",
       "      <td>20170407214119</td>\n",
       "      <td>2017-04-08</td>\n",
       "      <td>DLE10, Piso moderno en el centro</td>\n",
       "      <td>Piso exterior con balcón, en una calle tranqui...</td>\n",
       "      <td>NaN</td>\n",
       "      <td>Piso exterior con balcón, en una calle tranqui...</td>\n",
       "      <td>none</td>\n",
       "      <td>NaN</td>\n",
       "      <td>NaN</td>\n",
       "      <td>NaN</td>\n",
       "      <td>NaN</td>\n",
       "      <td>NaN</td>\n",
       "      <td>NaN</td>\n",
       "      <td>https://a0.muscache.com/im/pictures/5ecdbcc7-9...</td>\n",
       "      <td>https://a0.muscache.com/im/pictures/5ecdbcc7-9...</td>\n",
       "      <td>https://public.opendatasoft.com/api/explore/v2...</td>\n",
       "      <td>https://a0.muscache.com/im/pictures/5ecdbcc7-9...</td>\n",
       "      <td>16829950</td>\n",
       "      <td>https://www.airbnb.com/users/show/16829950</td>\n",
       "      <td>Jaime González</td>\n",
       "      <td>2014-06-15</td>\n",
       "      <td>Majadahonda, Community of Madrid, Spain</td>\n",
       "      <td>NaN</td>\n",
       "      <td>hours</td>\n",
       "      <td>97</td>\n",
       "      <td>NaN</td>\n",
       "      <td>https://a0.muscache.com/im/pictures/057a4362-5...</td>\n",
       "      <td>https://a0.muscache.com/im/pictures/057a4362-5...</td>\n",
       "      <td>Rios Rosas</td>\n",
       "      <td>8</td>\n",
       "      <td>8</td>\n",
       "      <td>email,phone,reviews,jumio,work_email</td>\n",
       "      <td>La Latina, Madrid, Comunidad de Madrid 28012, ...</td>\n",
       "      <td>La Latina</td>\n",
       "      <td>Embajadores</td>\n",
       "      <td>Centro</td>\n",
       "      <td>Madrid</td>\n",
       "      <td>Comunidad de Madrid</td>\n",
       "      <td>28012</td>\n",
       "      <td>Madrid</td>\n",
       "      <td>Madrid, Spain</td>\n",
       "      <td>ES</td>\n",
       "      <td>Spain</td>\n",
       "      <td>40.412</td>\n",
       "      <td>-3.70669</td>\n",
       "      <td>Apartment</td>\n",
       "      <td>EntireHome</td>\n",
       "      <td>2</td>\n",
       "      <td>1</td>\n",
       "      <td>1</td>\n",
       "      <td>1</td>\n",
       "      <td>Real Bed</td>\n",
       "      <td>TV,Internet,Wireless Internet,Kitchen,Elevator...</td>\n",
       "      <td>NaN</td>\n",
       "      <td>71</td>\n",
       "      <td>NaN</td>\n",
       "      <td>NaN</td>\n",
       "      <td>350</td>\n",
       "      <td>20</td>\n",
       "      <td>1</td>\n",
       "      <td>0</td>\n",
       "      <td>14</td>\n",
       "      <td>1125</td>\n",
       "      <td>a week ago</td>\n",
       "      <td>NaN</td>\n",
       "      <td>1</td>\n",
       "      <td>1</td>\n",
       "      <td>1</td>\n",
       "      <td>174</td>\n",
       "      <td>2017-04-08</td>\n",
       "      <td>8</td>\n",
       "      <td>2016-05-09</td>\n",
       "      <td>2016-12-16</td>\n",
       "      <td>90</td>\n",
       "      <td>10</td>\n",
       "      <td>10</td>\n",
       "      <td>10</td>\n",
       "      <td>10</td>\n",
       "      <td>10</td>\n",
       "      <td>9</td>\n",
       "      <td>NaN</td>\n",
       "      <td>NaN</td>\n",
       "      <td>flexible</td>\n",
       "      <td>6</td>\n",
       "      <td>0.72</td>\n",
       "      <td>40.41200073894989, -3.7066913189759396</td>\n",
       "      <td>Host Has Profile Pic,Host Identity Verified,Is...</td>\n",
       "      <td>32</td>\n",
       "      <td>False</td>\n",
       "      <td>237</td>\n",
       "      <td>False</td>\n",
       "      <td>0</td>\n",
       "      <td>False</td>\n",
       "      <td>237</td>\n",
       "      <td>False</td>\n",
       "      <td>True</td>\n",
       "      <td>False</td>\n",
       "      <td>True</td>\n",
       "      <td>5</td>\n",
       "      <td>True</td>\n",
       "      <td>True</td>\n",
       "      <td>False</td>\n",
       "    </tr>\n",
       "    <tr>\n",
       "      <th>12</th>\n",
       "      <td>8394957</td>\n",
       "      <td>https://www.airbnb.com/rooms/8394957</td>\n",
       "      <td>20170407214119</td>\n",
       "      <td>2017-04-08</td>\n",
       "      <td>Sunny, quiet studio, Madrid centre</td>\n",
       "      <td>My studio is in the very centre of Madrid. It'...</td>\n",
       "      <td>The studio is open plan although the kitchen a...</td>\n",
       "      <td>My studio is in the very centre of Madrid. It'...</td>\n",
       "      <td>none</td>\n",
       "      <td>Calle Atocha is a road which has Plaza Mayor a...</td>\n",
       "      <td>Right now we don't have an elevator although w...</td>\n",
       "      <td>Walking in the centre is easy but you also hav...</td>\n",
       "      <td>All of it!</td>\n",
       "      <td>If you have any problems, questions etc I'll t...</td>\n",
       "      <td>Respect the flat, the neighbours and keep the ...</td>\n",
       "      <td>https://a0.muscache.com/im/pictures/106816640/...</td>\n",
       "      <td>https://a0.muscache.com/im/pictures/106816640/...</td>\n",
       "      <td>https://public.opendatasoft.com/api/explore/v2...</td>\n",
       "      <td>https://a0.muscache.com/im/pictures/106816640/...</td>\n",
       "      <td>44233425</td>\n",
       "      <td>https://www.airbnb.com/users/show/44233425</td>\n",
       "      <td>Andrew</td>\n",
       "      <td>2015-09-15</td>\n",
       "      <td>ES</td>\n",
       "      <td>NaN</td>\n",
       "      <td>hours</td>\n",
       "      <td>100</td>\n",
       "      <td>NaN</td>\n",
       "      <td>https://a0.muscache.com/im/users/44233425/prof...</td>\n",
       "      <td>https://a0.muscache.com/im/users/44233425/prof...</td>\n",
       "      <td>NaN</td>\n",
       "      <td>1</td>\n",
       "      <td>1</td>\n",
       "      <td>email,phone,reviews</td>\n",
       "      <td>Madrid, Comunidad de Madrid, Spain</td>\n",
       "      <td>NaN</td>\n",
       "      <td>Embajadores</td>\n",
       "      <td>Centro</td>\n",
       "      <td>Madrid</td>\n",
       "      <td>Comunidad de Madrid</td>\n",
       "      <td>NaN</td>\n",
       "      <td>Madrid</td>\n",
       "      <td>Madrid, Spain</td>\n",
       "      <td>ES</td>\n",
       "      <td>Spain</td>\n",
       "      <td>40.4099</td>\n",
       "      <td>-3.69552</td>\n",
       "      <td>Apartment</td>\n",
       "      <td>EntireHome</td>\n",
       "      <td>2</td>\n",
       "      <td>1</td>\n",
       "      <td>0</td>\n",
       "      <td>1</td>\n",
       "      <td>Pull-out Sofa</td>\n",
       "      <td>TV,Internet,Wireless Internet,Air conditioning...</td>\n",
       "      <td>NaN</td>\n",
       "      <td>48</td>\n",
       "      <td>300</td>\n",
       "      <td>1000</td>\n",
       "      <td>NaN</td>\n",
       "      <td>NaN</td>\n",
       "      <td>1</td>\n",
       "      <td>0</td>\n",
       "      <td>3</td>\n",
       "      <td>93</td>\n",
       "      <td>2 weeks ago</td>\n",
       "      <td>NaN</td>\n",
       "      <td>4</td>\n",
       "      <td>23</td>\n",
       "      <td>46</td>\n",
       "      <td>321</td>\n",
       "      <td>2017-04-08</td>\n",
       "      <td>49</td>\n",
       "      <td>2015-10-16</td>\n",
       "      <td>2017-04-02</td>\n",
       "      <td>90</td>\n",
       "      <td>9</td>\n",
       "      <td>9</td>\n",
       "      <td>10</td>\n",
       "      <td>10</td>\n",
       "      <td>10</td>\n",
       "      <td>9</td>\n",
       "      <td>NaN</td>\n",
       "      <td>NaN</td>\n",
       "      <td>moderate</td>\n",
       "      <td>1</td>\n",
       "      <td>2.72</td>\n",
       "      <td>40.40994868119749, -3.695516673053713</td>\n",
       "      <td>Host Has Profile Pic,Requires License</td>\n",
       "      <td>34</td>\n",
       "      <td>False</td>\n",
       "      <td>248</td>\n",
       "      <td>True</td>\n",
       "      <td>145</td>\n",
       "      <td>True</td>\n",
       "      <td>899</td>\n",
       "      <td>True</td>\n",
       "      <td>True</td>\n",
       "      <td>False</td>\n",
       "      <td>True</td>\n",
       "      <td>3</td>\n",
       "      <td>True</td>\n",
       "      <td>False</td>\n",
       "      <td>False</td>\n",
       "    </tr>\n",
       "  </tbody>\n",
       "</table>\n",
       "</div>"
      ],
      "text/plain": [
       "          ID                            Listing Url       Scrape ID  \\\n",
       "3    3150371   https://www.airbnb.com/rooms/3150371  20170407214119   \n",
       "4    3378181   https://www.airbnb.com/rooms/3378181  20170407214119   \n",
       "5    2070750   https://www.airbnb.com/rooms/2070750  20170407214119   \n",
       "6    9832499   https://www.airbnb.com/rooms/9832499  20170407214119   \n",
       "7    1868170   https://www.airbnb.com/rooms/1868170  20170407214119   \n",
       "8    6554204   https://www.airbnb.com/rooms/6554204  20170407214119   \n",
       "9    3861249   https://www.airbnb.com/rooms/3861249  20170407214119   \n",
       "10   2816173   https://www.airbnb.com/rooms/2816173  20170407214119   \n",
       "11  12660354  https://www.airbnb.com/rooms/12660354  20170407214119   \n",
       "12   8394957   https://www.airbnb.com/rooms/8394957  20170407214119   \n",
       "\n",
       "   Last Scraped                                 Name  \\\n",
       "3    2017-04-08   Double room + bathroom - La Latina   \n",
       "4    2017-04-08     Ópera/Plz Mayor -- A/C, elevator   \n",
       "5    2017-04-08          Centric room with a balcony   \n",
       "6    2017-04-08  PLAZA DE ESPAÑA - Único - Gimnasio.   \n",
       "7    2017-04-08    Loft/duplex 150m2, 3 double rooms   \n",
       "8    2017-04-08             CITY CENTER OPERA ROOM 8   \n",
       "9    2017-04-08             CITY CENTER SOL B ROOM 3   \n",
       "10   2017-04-08        Luminoso Apartamento Lavapiés   \n",
       "11   2017-04-08     DLE10, Piso moderno en el centro   \n",
       "12   2017-04-08   Sunny, quiet studio, Madrid centre   \n",
       "\n",
       "                                              Summary  \\\n",
       "3   Double room with own bathroom in La Latina, in...   \n",
       "4   Old world charm meets modern comfort in our ne...   \n",
       "5   Lominous room for rent in the heart of the old...   \n",
       "6   Ubicado en el famoso edificio Torre de Madrid,...   \n",
       "7   Huge, open plan spacious apartment in the cent...   \n",
       "8   Situado junto al Palacio Real y la Plaza de Op...   \n",
       "9   Ubicado a pocos minutos de la Puerta del Sol, ...   \n",
       "10  Cosy room with a doble bed.  The bathroom may ...   \n",
       "11  Piso exterior con balcón, en una calle tranqui...   \n",
       "12  My studio is in the very centre of Madrid. It'...   \n",
       "\n",
       "                                                Space  \\\n",
       "3   The apartment is spacious and cozy. It is 90 m...   \n",
       "4   Designed with the traveler in mind, our one-be...   \n",
       "5   Lominous room for rent in the heart of the old...   \n",
       "6   Ubicado en el famoso edificio Torre de Madrid,...   \n",
       "7   Huge, open plan spacious apartment in the cent...   \n",
       "8   Una gran opción si deseas vivir en el centro d...   \n",
       "9   Dispone de 4 habitaciones, un baño y cocina co...   \n",
       "10                                                NaN   \n",
       "11                                                NaN   \n",
       "12  The studio is open plan although the kitchen a...   \n",
       "\n",
       "                                          Description Experiences Offered  \\\n",
       "3   Double room with own bathroom in La Latina, in...                none   \n",
       "4   Old world charm meets modern comfort in our ne...                none   \n",
       "5   Lominous room for rent in the heart of the old...                none   \n",
       "6   Ubicado en el famoso edificio Torre de Madrid,...                none   \n",
       "7   Huge, open plan spacious apartment in the cent...                none   \n",
       "8   Situado junto al Palacio Real y la Plaza de Op...                none   \n",
       "9   Ubicado a pocos minutos de la Puerta del Sol, ...                none   \n",
       "10  Cosy room with a doble bed.  The bathroom may ...                none   \n",
       "11  Piso exterior con balcón, en una calle tranqui...                none   \n",
       "12  My studio is in the very centre of Madrid. It'...                none   \n",
       "\n",
       "                                Neighborhood Overview  \\\n",
       "3   La Latina is one of the most famous neighbourh...   \n",
       "4   The neighborhood is steeped in history and clo...   \n",
       "5                                                   -   \n",
       "6                                                 NaN   \n",
       "7                                                 NaN   \n",
       "8   Se encuentra en la zona de Palacio, por lo que...   \n",
       "9   A dos minutos de la Puerta de Sol y justo al l...   \n",
       "10  Nearest Tourist Office  Location: Plaza Mayor ...   \n",
       "11                                                NaN   \n",
       "12  Calle Atocha is a road which has Plaza Mayor a...   \n",
       "\n",
       "                                                Notes  \\\n",
       "3                                                 NaN   \n",
       "4                                                 NaN   \n",
       "5                                                   -   \n",
       "6                                                 NaN   \n",
       "7                                                 NaN   \n",
       "8                                                 NaN   \n",
       "9                                                 NaN   \n",
       "10                                                NaN   \n",
       "11                                                NaN   \n",
       "12  Right now we don't have an elevator although w...   \n",
       "\n",
       "                                              Transit  \\\n",
       "3   The closest tube station is La Latina (line 5 ...   \n",
       "4   The apartment is close to the Ópera metro stat...   \n",
       "5                                                   -   \n",
       "6                            Metro \"Plaza de España\".   \n",
       "7   Walking distance to everything you need.. also...   \n",
       "8   Los metros más cercanos serían Ópera (L2, L5 y...   \n",
       "9   Los metros más cercanos serían Tirso de Molina...   \n",
       "10  Closest subways stations from home 1.Lavapiés ...   \n",
       "11                                                NaN   \n",
       "12  Walking in the centre is easy but you also hav...   \n",
       "\n",
       "                                               Access  \\\n",
       "3   You can use the kitchen, the lounge, the terra...   \n",
       "4                      The entire apartment is yours.   \n",
       "5                                                   -   \n",
       "6         Gimnasio. Conserjería 24hs. Seguridad 24hs.   \n",
       "7                                                 NaN   \n",
       "8         El edificio cuenta con ascensor y conserje.   \n",
       "9   Podrán usar todas las zonas comunes del alojam...   \n",
       "10  There is air conditioning only in the living r...   \n",
       "11                                                NaN   \n",
       "12                                         All of it!   \n",
       "\n",
       "                                          Interaction  \\\n",
       "3   The bedrooms are totally separated: one at one...   \n",
       "4   We are always available to answer questions an...   \n",
       "5                                                   -   \n",
       "6   Siempre disponible para ayudarte a que tu esta...   \n",
       "7                                                 NaN   \n",
       "8   Estaremos a vuestra disposición para cualquier...   \n",
       "9   Estaremos a su disposición para cualquier duda...   \n",
       "10  I will be living in México until end of March ...   \n",
       "11                                                NaN   \n",
       "12  If you have any problems, questions etc I'll t...   \n",
       "\n",
       "                                          House Rules  \\\n",
       "3   Care and respect are both required in the comm...   \n",
       "4   The Golden Rule shall apply always :) The apar...   \n",
       "5                                                   -   \n",
       "6   1. Terminantemente prohibido fumar dentro del ...   \n",
       "7   Please treat my house with the care and respec...   \n",
       "8                                                 NaN   \n",
       "9                                                 NaN   \n",
       "10  No llevar zapatos en la casa. Los dejamos detr...   \n",
       "11                                                NaN   \n",
       "12  Respect the flat, the neighbours and keep the ...   \n",
       "\n",
       "                                        Thumbnail Url  \\\n",
       "3   https://a0.muscache.com/im/pictures/40713802/3...   \n",
       "4   https://a0.muscache.com/im/pictures/44239584/c...   \n",
       "5   https://a0.muscache.com/im/pictures/84378550/f...   \n",
       "6   https://a0.muscache.com/im/pictures/be441d1f-4...   \n",
       "7   https://a0.muscache.com/im/pictures/c232f016-f...   \n",
       "8   https://a0.muscache.com/im/pictures/90548067/4...   \n",
       "9   https://a0.muscache.com/im/pictures/48573525/a...   \n",
       "10  https://a0.muscache.com/im/pictures/37148597/4...   \n",
       "11  https://a0.muscache.com/im/pictures/5ecdbcc7-9...   \n",
       "12  https://a0.muscache.com/im/pictures/106816640/...   \n",
       "\n",
       "                                           Medium Url  \\\n",
       "3   https://a0.muscache.com/im/pictures/40713802/3...   \n",
       "4   https://a0.muscache.com/im/pictures/44239584/c...   \n",
       "5   https://a0.muscache.com/im/pictures/84378550/f...   \n",
       "6   https://a0.muscache.com/im/pictures/be441d1f-4...   \n",
       "7   https://a0.muscache.com/im/pictures/c232f016-f...   \n",
       "8   https://a0.muscache.com/im/pictures/90548067/4...   \n",
       "9   https://a0.muscache.com/im/pictures/48573525/a...   \n",
       "10  https://a0.muscache.com/im/pictures/37148597/4...   \n",
       "11  https://a0.muscache.com/im/pictures/5ecdbcc7-9...   \n",
       "12  https://a0.muscache.com/im/pictures/106816640/...   \n",
       "\n",
       "                                          Picture Url  \\\n",
       "3   https://public.opendatasoft.com/api/explore/v2...   \n",
       "4   https://public.opendatasoft.com/api/explore/v2...   \n",
       "5   https://public.opendatasoft.com/api/explore/v2...   \n",
       "6   https://public.opendatasoft.com/api/explore/v2...   \n",
       "7   https://public.opendatasoft.com/api/explore/v2...   \n",
       "8   https://public.opendatasoft.com/api/explore/v2...   \n",
       "9   https://public.opendatasoft.com/api/explore/v2...   \n",
       "10  https://public.opendatasoft.com/api/explore/v2...   \n",
       "11  https://public.opendatasoft.com/api/explore/v2...   \n",
       "12  https://public.opendatasoft.com/api/explore/v2...   \n",
       "\n",
       "                                       XL Picture Url   Host ID  \\\n",
       "3   https://a0.muscache.com/im/pictures/40713802/3...  11902716   \n",
       "4   https://a0.muscache.com/im/pictures/44239584/c...    809083   \n",
       "5   https://a0.muscache.com/im/pictures/84378550/f...   7005367   \n",
       "6   https://a0.muscache.com/im/pictures/be441d1f-4...   1647109   \n",
       "7   https://a0.muscache.com/im/pictures/c232f016-f...   9738650   \n",
       "8   https://a0.muscache.com/im/pictures/90548067/4...  15258781   \n",
       "9   https://a0.muscache.com/im/pictures/48573525/a...  15258781   \n",
       "10  https://a0.muscache.com/im/pictures/37148597/4...  14405469   \n",
       "11  https://a0.muscache.com/im/pictures/5ecdbcc7-9...  16829950   \n",
       "12  https://a0.muscache.com/im/pictures/106816640/...  44233425   \n",
       "\n",
       "                                      Host URL        Host Name  Host Since  \\\n",
       "3   https://www.airbnb.com/users/show/11902716  Daniel Y Ximena  2014-02-03   \n",
       "4     https://www.airbnb.com/users/show/809083          Michael  2011-07-12   \n",
       "5    https://www.airbnb.com/users/show/7005367           Sergio  2013-06-19   \n",
       "6    https://www.airbnb.com/users/show/1647109           Daniel  2012-01-24   \n",
       "7    https://www.airbnb.com/users/show/9738650  Carlos Chamarro  2013-10-31   \n",
       "8   https://www.airbnb.com/users/show/15258781         Erasmo´S  2014-05-08   \n",
       "9   https://www.airbnb.com/users/show/15258781         Erasmo´S  2014-05-08   \n",
       "10  https://www.airbnb.com/users/show/14405469            Irene  2014-04-17   \n",
       "11  https://www.airbnb.com/users/show/16829950   Jaime González  2014-06-15   \n",
       "12  https://www.airbnb.com/users/show/44233425           Andrew  2015-09-15   \n",
       "\n",
       "                              Host Location  \\\n",
       "3        Madrid, Community of Madrid, Spain   \n",
       "4                     Madrid, Madrid, Spain   \n",
       "5        Madrid, Community of Madrid, Spain   \n",
       "6                   Region of Murcia, Spain   \n",
       "7        Madrid, Community of Madrid, Spain   \n",
       "8        Madrid, Community of Madrid, Spain   \n",
       "9        Madrid, Community of Madrid, Spain   \n",
       "10       Madrid, Community of Madrid, Spain   \n",
       "11  Majadahonda, Community of Madrid, Spain   \n",
       "12                                       ES   \n",
       "\n",
       "                                           Host About Host Response Time  \\\n",
       "3   Aficionados al cine, la música, los amigos, el...                day   \n",
       "4   I'm a US expat who enjoys welcoming people fro...                day   \n",
       "5                Viajar, música, libros y naturaleza.                day   \n",
       "6   Amante del Running. Deportista. Me encanta el ...               hour   \n",
       "7   Hi I'm Carlos. I am an actor and a painter ori...              hours   \n",
       "8   Disfruta de tu habitación en el centro de Madr...              hours   \n",
       "9   Disfruta de tu habitación en el centro de Madr...              hours   \n",
       "10  Me pasaría la vida viajando y creo que Airbnb ...              hours   \n",
       "11                                                NaN              hours   \n",
       "12                                                NaN              hours   \n",
       "\n",
       "    Host Response Rate Host Acceptance Rate  \\\n",
       "3                  100                  NaN   \n",
       "4                   94                  NaN   \n",
       "5                   80                  NaN   \n",
       "6                  100                  NaN   \n",
       "7                  100                  NaN   \n",
       "8                  100                  NaN   \n",
       "9                  100                  NaN   \n",
       "10                 100                  NaN   \n",
       "11                  97                  NaN   \n",
       "12                 100                  NaN   \n",
       "\n",
       "                                   Host Thumbnail Url  \\\n",
       "3   https://a0.muscache.com/im/users/11902716/prof...   \n",
       "4   https://a0.muscache.com/im/users/809083/profil...   \n",
       "5   https://a0.muscache.com/im/users/7005367/profi...   \n",
       "6   https://a0.muscache.com/im/pictures/49fd9f5c-0...   \n",
       "7   https://a0.muscache.com/im/pictures/c88a555a-e...   \n",
       "8   https://a0.muscache.com/im/users/15258781/prof...   \n",
       "9   https://a0.muscache.com/im/users/15258781/prof...   \n",
       "10  https://a0.muscache.com/im/users/14405469/prof...   \n",
       "11  https://a0.muscache.com/im/pictures/057a4362-5...   \n",
       "12  https://a0.muscache.com/im/users/44233425/prof...   \n",
       "\n",
       "                                     Host Picture Url Host Neighbourhood  \\\n",
       "3   https://a0.muscache.com/im/users/11902716/prof...            Palacio   \n",
       "4   https://a0.muscache.com/im/users/809083/profil...            Palacio   \n",
       "5   https://a0.muscache.com/im/users/7005367/profi...          La Latina   \n",
       "6   https://a0.muscache.com/im/pictures/49fd9f5c-0...           Chamberí   \n",
       "7   https://a0.muscache.com/im/pictures/c88a555a-e...            Palacio   \n",
       "8   https://a0.muscache.com/im/users/15258781/prof...           Justicia   \n",
       "9   https://a0.muscache.com/im/users/15258781/prof...           Justicia   \n",
       "10  https://a0.muscache.com/im/users/14405469/prof...          La Latina   \n",
       "11  https://a0.muscache.com/im/pictures/057a4362-5...         Rios Rosas   \n",
       "12  https://a0.muscache.com/im/users/44233425/prof...                NaN   \n",
       "\n",
       "    Host Listings Count  Host Total Listings Count  \\\n",
       "3                     1                          1   \n",
       "4                     3                          3   \n",
       "5                     4                          4   \n",
       "6                    10                         10   \n",
       "7                     1                          1   \n",
       "8                   114                        114   \n",
       "9                   114                        114   \n",
       "10                    6                          6   \n",
       "11                    8                          8   \n",
       "12                    1                          1   \n",
       "\n",
       "                               Host Verifications  \\\n",
       "3                       email,phone,reviews,jumio   \n",
       "4   email,phone,facebook,reviews,jumio,work_email   \n",
       "5                       email,phone,reviews,jumio   \n",
       "6   email,phone,facebook,reviews,jumio,work_email   \n",
       "7                       email,phone,reviews,jumio   \n",
       "8                  email,phone,reviews,work_email   \n",
       "9                  email,phone,reviews,work_email   \n",
       "10        email,phone,reviews,jumio,government_id   \n",
       "11           email,phone,reviews,jumio,work_email   \n",
       "12                            email,phone,reviews   \n",
       "\n",
       "                                               Street Neighbourhood  \\\n",
       "3   Palacio, Madrid, Community of Madrid 28005, Spain       Palacio   \n",
       "4   Palacio, Madrid, Community of Madrid 28013, Spain       Palacio   \n",
       "5                  Madrid, Community of Madrid, Spain     La Latina   \n",
       "6        Malasaña, Madrid, Comunidad de Madrid, Spain      Malasaña   \n",
       "7   Palacio, Madrid, Community of Madrid 28005, Spain       Palacio   \n",
       "8   Palacio, Madrid, Comunidad de Madrid 28013, Spain       Palacio   \n",
       "9   Embajadores, Madrid, Community of Madrid 28012...   Embajadores   \n",
       "10           Madrid, Community of Madrid 28012, Spain           NaN   \n",
       "11  La Latina, Madrid, Comunidad de Madrid 28012, ...     La Latina   \n",
       "12                 Madrid, Comunidad de Madrid, Spain           NaN   \n",
       "\n",
       "   Neighbourhood Cleansed Neighbourhood Group Cleansed    City  \\\n",
       "3                 Palacio                       Centro  Madrid   \n",
       "4                 Palacio                       Centro  Madrid   \n",
       "5                 Palacio                       Centro  Madrid   \n",
       "6                 Palacio                       Centro  Madrid   \n",
       "7                 Palacio                       Centro  Madrid   \n",
       "8                 Palacio                       Centro  Madrid   \n",
       "9             Embajadores                       Centro  Madrid   \n",
       "10            Embajadores                       Centro  Madrid   \n",
       "11            Embajadores                       Centro  Madrid   \n",
       "12            Embajadores                       Centro  Madrid   \n",
       "\n",
       "                  State Zipcode  Market Smart Location Country Code Country  \\\n",
       "3   Community of Madrid   28005  Madrid  Madrid, Spain           ES   Spain   \n",
       "4   Community of Madrid   28013  Madrid  Madrid, Spain           ES   Spain   \n",
       "5   Community of Madrid     NaN  Madrid  Madrid, Spain           ES   Spain   \n",
       "6   Comunidad de Madrid     NaN  Madrid  Madrid, Spain           ES   Spain   \n",
       "7   Community of Madrid   28005  Madrid  Madrid, Spain           ES   Spain   \n",
       "8   Comunidad de Madrid   28013  Madrid  Madrid, Spain           ES   Spain   \n",
       "9   Community of Madrid   28012  Madrid  Madrid, Spain           ES   Spain   \n",
       "10  Community of Madrid   28012  Madrid  Madrid, Spain           ES   Spain   \n",
       "11  Comunidad de Madrid   28012  Madrid  Madrid, Spain           ES   Spain   \n",
       "12  Comunidad de Madrid     NaN  Madrid  Madrid, Spain           ES   Spain   \n",
       "\n",
       "    Latitude  Longitude Property Type    Room Type  Accommodates  Bathrooms  \\\n",
       "3    40.4101   -3.71475     Apartment  PrivateRoom             2          1   \n",
       "4     40.417   -3.70944     Apartment   EntireHome             2          1   \n",
       "5    40.4097   -3.71356     Apartment  PrivateRoom             2          1   \n",
       "6    40.4232   -3.71125     Apartment   EntireHome             4          1   \n",
       "7    40.4165   -3.71784     Apartment   EntireHome             8          3   \n",
       "8    40.4168   -3.71024     Apartment  PrivateRoom             2          2   \n",
       "9    40.4139   -3.70564     Apartment  PrivateRoom             1          1   \n",
       "10   40.4092   -3.70405     Apartment  PrivateRoom             2          1   \n",
       "11    40.412   -3.70669     Apartment   EntireHome             2          1   \n",
       "12   40.4099   -3.69552     Apartment   EntireHome             2          1   \n",
       "\n",
       "    Bedrooms  Beds       Bed Type  \\\n",
       "3          1     1       Real Bed   \n",
       "4          1     1       Real Bed   \n",
       "5          1     1       Real Bed   \n",
       "6          1     2       Real Bed   \n",
       "7          3     4       Real Bed   \n",
       "8          1     1       Real Bed   \n",
       "9          1     1       Real Bed   \n",
       "10         1     1       Real Bed   \n",
       "11         1     1       Real Bed   \n",
       "12         0     1  Pull-out Sofa   \n",
       "\n",
       "                                            Amenities  Square Feet  Price  \\\n",
       "3   TV,Internet,Wireless Internet,Kitchen,Doorman,...          NaN     36   \n",
       "4   TV,Wireless Internet,Air conditioning,Kitchen,...          NaN     85   \n",
       "5   Wireless Internet,Kitchen,Pets allowed,Buzzer/...          861     20   \n",
       "6   TV,Internet,Wireless Internet,Air conditioning...          NaN    112   \n",
       "7   TV,Internet,Wireless Internet,Kitchen,Pets all...          NaN    190   \n",
       "8   Wireless Internet,Kitchen,Smoking allowed,Door...          NaN     30   \n",
       "9   Wireless Internet,Kitchen,Smoking allowed,Door...          NaN     18   \n",
       "10  Internet,Wireless Internet,Air conditioning,Ki...          NaN     38   \n",
       "11  TV,Internet,Wireless Internet,Kitchen,Elevator...          NaN     71   \n",
       "12  TV,Internet,Wireless Internet,Air conditioning...          NaN     48   \n",
       "\n",
       "    Weekly Price  Monthly Price  Security Deposit  Cleaning Fee  \\\n",
       "3            NaN            NaN               NaN           NaN   \n",
       "4            600           1800               100            30   \n",
       "5            185            440               100           NaN   \n",
       "6            NaN            NaN               250            15   \n",
       "7            NaN            NaN               200            20   \n",
       "8            NaN            NaN               NaN            15   \n",
       "9            NaN            NaN               NaN            15   \n",
       "10           240            850                70            12   \n",
       "11           NaN            NaN               350            20   \n",
       "12           300           1000               NaN           NaN   \n",
       "\n",
       "    Guests Included  Extra People  Minimum Nights  Maximum Nights  \\\n",
       "3                 1             0               2            1125   \n",
       "4                 1             0               3            1125   \n",
       "5                 1            10               3            1125   \n",
       "6                 2             5               3            1900   \n",
       "7                 6            40               3            1125   \n",
       "8                 1             5              10            1125   \n",
       "9                 1             0              10            1125   \n",
       "10                1            10               2            1125   \n",
       "11                1             0              14            1125   \n",
       "12                1             0               3              93   \n",
       "\n",
       "   Calendar Updated Has Availability  Availability 30  Availability 60  \\\n",
       "3        4 days ago              NaN                1                1   \n",
       "4        5 days ago              NaN               12               32   \n",
       "5        4 days ago              NaN                7               37   \n",
       "6             today              NaN                7               13   \n",
       "7       4 weeks ago              NaN                6               20   \n",
       "8        a week ago              NaN                6               36   \n",
       "9        a week ago              NaN                0                0   \n",
       "10     2 months ago              NaN               12               42   \n",
       "11       a week ago              NaN                1                1   \n",
       "12      2 weeks ago              NaN                4               23   \n",
       "\n",
       "    Availability 90  Availability 365 Calendar last Scraped  \\\n",
       "3                 1                 1            2017-04-07   \n",
       "4                45               320            2017-04-07   \n",
       "5                67               158            2017-04-07   \n",
       "6                21               248            2017-04-07   \n",
       "7                24               296            2017-04-07   \n",
       "8                66               341            2017-04-07   \n",
       "9                 6               281            2017-04-08   \n",
       "10               72               347            2017-04-08   \n",
       "11                1               174            2017-04-08   \n",
       "12               46               321            2017-04-08   \n",
       "\n",
       "    Number of Reviews First Review Last Review  Review Scores Rating  \\\n",
       "3                  80   2014-06-15  2017-04-01                    98   \n",
       "4                  90   2014-07-09  2017-02-28                    95   \n",
       "5                  20   2014-07-22  2017-03-07                    91   \n",
       "6                  55   2016-01-02  2017-03-31                    99   \n",
       "7                  46   2013-12-09  2017-03-26                    96   \n",
       "8                   3   2015-07-01  2015-08-03                    67   \n",
       "9                   0          NaN         NaN                   NaN   \n",
       "10                 78   2014-05-12  2017-03-12                    93   \n",
       "11                  8   2016-05-09  2016-12-16                    90   \n",
       "12                 49   2015-10-16  2017-04-02                    90   \n",
       "\n",
       "    Review Scores Accuracy  Review Scores Cleanliness  Review Scores Checkin  \\\n",
       "3                       10                         10                     10   \n",
       "4                       10                          9                     10   \n",
       "5                        9                          9                      9   \n",
       "6                       10                         10                     10   \n",
       "7                       10                         10                     10   \n",
       "8                        8                          5                     10   \n",
       "9                      NaN                        NaN                    NaN   \n",
       "10                      10                         10                      9   \n",
       "11                      10                         10                     10   \n",
       "12                       9                          9                     10   \n",
       "\n",
       "    Review Scores Communication  Review Scores Location  Review Scores Value  \\\n",
       "3                            10                      10                   10   \n",
       "4                            10                      10                   10   \n",
       "5                             9                      10                    9   \n",
       "6                            10                      10                   10   \n",
       "7                            10                      10                    9   \n",
       "8                            10                      10                    7   \n",
       "9                           NaN                     NaN                  NaN   \n",
       "10                           10                       9                    9   \n",
       "11                           10                      10                    9   \n",
       "12                           10                      10                    9   \n",
       "\n",
       "    License Jurisdiction Names Cancellation Policy  \\\n",
       "3       NaN                NaN            flexible   \n",
       "4       NaN                NaN              strict   \n",
       "5       NaN                NaN            flexible   \n",
       "6   VT-1520                NaN              strict   \n",
       "7       NaN                NaN            moderate   \n",
       "8       NaN                NaN              strict   \n",
       "9       NaN                NaN              strict   \n",
       "10      NaN                NaN            moderate   \n",
       "11      NaN                NaN            flexible   \n",
       "12      NaN                NaN            moderate   \n",
       "\n",
       "    Calculated host listings count  Reviews per Month  \\\n",
       "3                                1               2.33   \n",
       "4                                2               2.69   \n",
       "5                                4                0.6   \n",
       "6                                9               3.56   \n",
       "7                                1               1.13   \n",
       "8                               97               0.14   \n",
       "9                               97                NaN   \n",
       "10                               3                2.2   \n",
       "11                               6               0.72   \n",
       "12                               1               2.72   \n",
       "\n",
       "                                Geolocation  \\\n",
       "3     40.41010608050749, -3.714754034177323   \n",
       "4   40.416968822636726, -3.7094389211089993   \n",
       "5    40.40970517560235, -3.7135611928841086   \n",
       "6       40.42319271738103, -3.7112486513892   \n",
       "7   40.416513932601625, -3.7178427529546973   \n",
       "8   40.416833945573366, -3.7102397557129683   \n",
       "9      40.41394547020656, -3.70563748329694   \n",
       "10   40.40924754500767, -3.7040517514192786   \n",
       "11   40.41200073894989, -3.7066913189759396   \n",
       "12    40.40994868119749, -3.695516673053713   \n",
       "\n",
       "                                             Features  Name_Len  Name_Lang  \\\n",
       "3   Host Has Profile Pic,Host Identity Verified,Is...        34       True   \n",
       "4   Host Has Profile Pic,Host Identity Verified,Is...        32      False   \n",
       "5   Host Has Profile Pic,Host Identity Verified,Is...        27       True   \n",
       "6   Host Is Superhost,Host Has Profile Pic,Host Id...        35      False   \n",
       "7   Host Is Superhost,Host Has Profile Pic,Host Id...        33      False   \n",
       "8   Host Has Profile Pic,Is Location Exact,Require...        24       True   \n",
       "9   Host Has Profile Pic,Is Location Exact,Require...        24       True   \n",
       "10  Host Has Profile Pic,Host Identity Verified,Is...        29      False   \n",
       "11  Host Has Profile Pic,Host Identity Verified,Is...        32      False   \n",
       "12              Host Has Profile Pic,Requires License        34      False   \n",
       "\n",
       "    Summary_Len  Summary_Lang  Space_Len  Space_Lang  Description_Len  \\\n",
       "3            67          True        488        True             1000   \n",
       "4           241          True       1000        True             1000   \n",
       "5           232          True        469        True              479   \n",
       "6           249         False       1000       False             1000   \n",
       "7           271          True        939        True             1000   \n",
       "8           370         False        187       False              923   \n",
       "9           341         False        129       False              991   \n",
       "10          148          True          0       False             1000   \n",
       "11          237         False          0       False              237   \n",
       "12          248          True        145        True              899   \n",
       "\n",
       "    Description_Lang  is_Thumbnail  is_HostAbout  is_ResponseInHours  \\\n",
       "3               True          True          True               False   \n",
       "4               True          True          True               False   \n",
       "5               True          True          True               False   \n",
       "6              False          True          True                True   \n",
       "7               True          True          True                True   \n",
       "8              False          True          True                True   \n",
       "9              False          True          True                True   \n",
       "10              True          True          True                True   \n",
       "11             False          True         False                True   \n",
       "12              True          True         False                True   \n",
       "\n",
       "    Num_Host_Verifications  is_EntireHome  is_Bed  is_UpdatedToday  \n",
       "3                        4          False    True            False  \n",
       "4                        6           True    True            False  \n",
       "5                        4          False    True            False  \n",
       "6                        6           True    True             True  \n",
       "7                        4           True    True            False  \n",
       "8                        4          False    True            False  \n",
       "9                        4          False    True            False  \n",
       "10                       5          False    True            False  \n",
       "11                       5           True    True            False  \n",
       "12                       3           True   False            False  "
      ]
     },
     "execution_count": 95,
     "metadata": {},
     "output_type": "execute_result"
    }
   ],
   "source": [
    "df_madrid_new_features.head(10)"
   ]
  },
  {
   "cell_type": "code",
   "execution_count": 96,
   "id": "12718327",
   "metadata": {
    "ExecuteTime": {
     "end_time": "2023-02-13T10:50:47.105294Z",
     "start_time": "2023-02-13T10:50:47.073319Z"
    }
   },
   "outputs": [
    {
     "data": {
      "text/plain": [
       "['ID',\n",
       " 'Listing Url',\n",
       " 'Scrape ID',\n",
       " 'Last Scraped',\n",
       " 'Name',\n",
       " 'Summary',\n",
       " 'Space',\n",
       " 'Description',\n",
       " 'Experiences Offered',\n",
       " 'Neighborhood Overview',\n",
       " 'Notes',\n",
       " 'Transit',\n",
       " 'Access',\n",
       " 'Interaction',\n",
       " 'House Rules',\n",
       " 'Thumbnail Url',\n",
       " 'Medium Url',\n",
       " 'Picture Url',\n",
       " 'XL Picture Url',\n",
       " 'Host ID',\n",
       " 'Host URL',\n",
       " 'Host Name',\n",
       " 'Host Since',\n",
       " 'Host Location',\n",
       " 'Host About',\n",
       " 'Host Response Time',\n",
       " 'Host Response Rate',\n",
       " 'Host Acceptance Rate',\n",
       " 'Host Thumbnail Url',\n",
       " 'Host Picture Url',\n",
       " 'Host Neighbourhood',\n",
       " 'Host Listings Count',\n",
       " 'Host Total Listings Count',\n",
       " 'Host Verifications',\n",
       " 'Street',\n",
       " 'Neighbourhood',\n",
       " 'Neighbourhood Cleansed',\n",
       " 'Neighbourhood Group Cleansed',\n",
       " 'City',\n",
       " 'State',\n",
       " 'Zipcode',\n",
       " 'Market',\n",
       " 'Smart Location',\n",
       " 'Country Code',\n",
       " 'Country',\n",
       " 'Latitude',\n",
       " 'Longitude',\n",
       " 'Property Type',\n",
       " 'Room Type',\n",
       " 'Accommodates',\n",
       " 'Bathrooms',\n",
       " 'Bedrooms',\n",
       " 'Beds',\n",
       " 'Bed Type',\n",
       " 'Amenities',\n",
       " 'Square Feet',\n",
       " 'Price',\n",
       " 'Weekly Price',\n",
       " 'Monthly Price',\n",
       " 'Security Deposit',\n",
       " 'Cleaning Fee',\n",
       " 'Guests Included',\n",
       " 'Extra People',\n",
       " 'Minimum Nights',\n",
       " 'Maximum Nights',\n",
       " 'Calendar Updated',\n",
       " 'Has Availability',\n",
       " 'Availability 30',\n",
       " 'Availability 60',\n",
       " 'Availability 90',\n",
       " 'Availability 365',\n",
       " 'Calendar last Scraped',\n",
       " 'Number of Reviews',\n",
       " 'First Review',\n",
       " 'Last Review',\n",
       " 'Review Scores Rating',\n",
       " 'Review Scores Accuracy',\n",
       " 'Review Scores Cleanliness',\n",
       " 'Review Scores Checkin',\n",
       " 'Review Scores Communication',\n",
       " 'Review Scores Location',\n",
       " 'Review Scores Value',\n",
       " 'License',\n",
       " 'Jurisdiction Names',\n",
       " 'Cancellation Policy',\n",
       " 'Calculated host listings count',\n",
       " 'Reviews per Month',\n",
       " 'Geolocation',\n",
       " 'Features',\n",
       " 'Name_Len',\n",
       " 'Name_Lang',\n",
       " 'Summary_Len',\n",
       " 'Summary_Lang',\n",
       " 'Space_Len',\n",
       " 'Space_Lang',\n",
       " 'Description_Len',\n",
       " 'Description_Lang',\n",
       " 'is_Thumbnail',\n",
       " 'is_HostAbout',\n",
       " 'is_ResponseInHours',\n",
       " 'Num_Host_Verifications',\n",
       " 'is_EntireHome',\n",
       " 'is_Bed',\n",
       " 'is_UpdatedToday']"
      ]
     },
     "execution_count": 96,
     "metadata": {},
     "output_type": "execute_result"
    }
   ],
   "source": [
    "list(df_madrid_new_features.columns)"
   ]
  },
  {
   "cell_type": "code",
   "execution_count": 97,
   "id": "1593bd08",
   "metadata": {
    "ExecuteTime": {
     "end_time": "2023-02-13T10:50:47.138409Z",
     "start_time": "2023-02-13T10:50:47.118957Z"
    }
   },
   "outputs": [],
   "source": [
    "drop_columns = ['ID',\n",
    " 'Listing Url',\n",
    " 'Scrape ID',\n",
    " 'Last Scraped',\n",
    " 'Name',\n",
    " 'Summary',\n",
    " 'Space',\n",
    " 'Description',\n",
    " 'Experiences Offered',\n",
    " 'Neighborhood Overview',\n",
    " 'Notes',\n",
    " 'Transit',\n",
    " 'Access',\n",
    " 'Interaction',\n",
    " 'House Rules',\n",
    " 'Thumbnail Url',\n",
    " 'Medium Url',\n",
    " 'Picture Url',\n",
    " 'XL Picture Url',\n",
    " 'Host ID',\n",
    " 'Host URL',\n",
    " 'Host Name',\n",
    " 'Host Since',\n",
    " 'Host Location',\n",
    " 'Host About',\n",
    " 'Host Response Rate',\n",
    "  'Host Response Time',\n",
    " 'Host Acceptance Rate',\n",
    " 'Host Thumbnail Url',\n",
    " 'Host Picture Url',\n",
    " 'Host Neighbourhood',\n",
    " 'Host Total Listings Count',\n",
    " 'Host Verifications',\n",
    " 'Street',\n",
    " 'Neighbourhood',\n",
    " 'Neighbourhood Cleansed',\n",
    " 'City',\n",
    " 'State',\n",
    " 'Zipcode',\n",
    " 'Market',\n",
    " 'Smart Location',\n",
    " 'Country Code',\n",
    " 'Country',\n",
    " 'Bed Type',\n",
    " 'Amenities',\n",
    " 'Square Feet',\n",
    " 'Weekly Price',\n",
    " 'Monthly Price',\n",
    " 'Maximum Nights',\n",
    " 'Calendar Updated',\n",
    " 'Has Availability',\n",
    " 'Calendar last Scraped',\n",
    " 'First Review',\n",
    " 'Last Review',\n",
    " 'License',\n",
    " 'Jurisdiction Names',\n",
    " 'Geolocation',\n",
    " 'Features']"
   ]
  },
  {
   "cell_type": "code",
   "execution_count": 98,
   "id": "d1b3898d",
   "metadata": {
    "ExecuteTime": {
     "end_time": "2023-02-13T10:50:47.166654Z",
     "start_time": "2023-02-13T10:50:47.143612Z"
    }
   },
   "outputs": [],
   "source": [
    "df_madrid_clean_cols = df_madrid_new_features.drop(drop_columns, axis=1)"
   ]
  },
  {
   "cell_type": "code",
   "execution_count": 99,
   "id": "b0fd9355",
   "metadata": {
    "ExecuteTime": {
     "end_time": "2023-02-13T10:50:47.236561Z",
     "start_time": "2023-02-13T10:50:47.174822Z"
    }
   },
   "outputs": [
    {
     "data": {
      "text/html": [
       "<div>\n",
       "<style scoped>\n",
       "    .dataframe tbody tr th:only-of-type {\n",
       "        vertical-align: middle;\n",
       "    }\n",
       "\n",
       "    .dataframe tbody tr th {\n",
       "        vertical-align: top;\n",
       "    }\n",
       "\n",
       "    .dataframe thead th {\n",
       "        text-align: right;\n",
       "    }\n",
       "</style>\n",
       "<table border=\"1\" class=\"dataframe\">\n",
       "  <thead>\n",
       "    <tr style=\"text-align: right;\">\n",
       "      <th></th>\n",
       "      <th>Host Listings Count</th>\n",
       "      <th>Neighbourhood Group Cleansed</th>\n",
       "      <th>Latitude</th>\n",
       "      <th>Longitude</th>\n",
       "      <th>Property Type</th>\n",
       "      <th>Room Type</th>\n",
       "      <th>Accommodates</th>\n",
       "      <th>Bathrooms</th>\n",
       "      <th>Bedrooms</th>\n",
       "      <th>Beds</th>\n",
       "      <th>Price</th>\n",
       "      <th>Security Deposit</th>\n",
       "      <th>Cleaning Fee</th>\n",
       "      <th>Guests Included</th>\n",
       "      <th>Extra People</th>\n",
       "      <th>Minimum Nights</th>\n",
       "      <th>Availability 30</th>\n",
       "      <th>Availability 60</th>\n",
       "      <th>Availability 90</th>\n",
       "      <th>Availability 365</th>\n",
       "      <th>Number of Reviews</th>\n",
       "      <th>Review Scores Rating</th>\n",
       "      <th>Review Scores Accuracy</th>\n",
       "      <th>Review Scores Cleanliness</th>\n",
       "      <th>Review Scores Checkin</th>\n",
       "      <th>Review Scores Communication</th>\n",
       "      <th>Review Scores Location</th>\n",
       "      <th>Review Scores Value</th>\n",
       "      <th>Cancellation Policy</th>\n",
       "      <th>Calculated host listings count</th>\n",
       "      <th>Reviews per Month</th>\n",
       "      <th>Name_Len</th>\n",
       "      <th>Name_Lang</th>\n",
       "      <th>Summary_Len</th>\n",
       "      <th>Summary_Lang</th>\n",
       "      <th>Space_Len</th>\n",
       "      <th>Space_Lang</th>\n",
       "      <th>Description_Len</th>\n",
       "      <th>Description_Lang</th>\n",
       "      <th>is_Thumbnail</th>\n",
       "      <th>is_HostAbout</th>\n",
       "      <th>is_ResponseInHours</th>\n",
       "      <th>Num_Host_Verifications</th>\n",
       "      <th>is_EntireHome</th>\n",
       "      <th>is_Bed</th>\n",
       "      <th>is_UpdatedToday</th>\n",
       "    </tr>\n",
       "  </thead>\n",
       "  <tbody>\n",
       "    <tr>\n",
       "      <th>3</th>\n",
       "      <td>1</td>\n",
       "      <td>Centro</td>\n",
       "      <td>40.4101</td>\n",
       "      <td>-3.71475</td>\n",
       "      <td>Apartment</td>\n",
       "      <td>PrivateRoom</td>\n",
       "      <td>2</td>\n",
       "      <td>1</td>\n",
       "      <td>1</td>\n",
       "      <td>1</td>\n",
       "      <td>36</td>\n",
       "      <td>NaN</td>\n",
       "      <td>NaN</td>\n",
       "      <td>1</td>\n",
       "      <td>0</td>\n",
       "      <td>2</td>\n",
       "      <td>1</td>\n",
       "      <td>1</td>\n",
       "      <td>1</td>\n",
       "      <td>1</td>\n",
       "      <td>80</td>\n",
       "      <td>98</td>\n",
       "      <td>10</td>\n",
       "      <td>10</td>\n",
       "      <td>10</td>\n",
       "      <td>10</td>\n",
       "      <td>10</td>\n",
       "      <td>10</td>\n",
       "      <td>flexible</td>\n",
       "      <td>1</td>\n",
       "      <td>2.33</td>\n",
       "      <td>34</td>\n",
       "      <td>True</td>\n",
       "      <td>67</td>\n",
       "      <td>True</td>\n",
       "      <td>488</td>\n",
       "      <td>True</td>\n",
       "      <td>1000</td>\n",
       "      <td>True</td>\n",
       "      <td>True</td>\n",
       "      <td>True</td>\n",
       "      <td>False</td>\n",
       "      <td>4</td>\n",
       "      <td>False</td>\n",
       "      <td>True</td>\n",
       "      <td>False</td>\n",
       "    </tr>\n",
       "    <tr>\n",
       "      <th>4</th>\n",
       "      <td>3</td>\n",
       "      <td>Centro</td>\n",
       "      <td>40.417</td>\n",
       "      <td>-3.70944</td>\n",
       "      <td>Apartment</td>\n",
       "      <td>EntireHome</td>\n",
       "      <td>2</td>\n",
       "      <td>1</td>\n",
       "      <td>1</td>\n",
       "      <td>1</td>\n",
       "      <td>85</td>\n",
       "      <td>100</td>\n",
       "      <td>30</td>\n",
       "      <td>1</td>\n",
       "      <td>0</td>\n",
       "      <td>3</td>\n",
       "      <td>12</td>\n",
       "      <td>32</td>\n",
       "      <td>45</td>\n",
       "      <td>320</td>\n",
       "      <td>90</td>\n",
       "      <td>95</td>\n",
       "      <td>10</td>\n",
       "      <td>9</td>\n",
       "      <td>10</td>\n",
       "      <td>10</td>\n",
       "      <td>10</td>\n",
       "      <td>10</td>\n",
       "      <td>strict</td>\n",
       "      <td>2</td>\n",
       "      <td>2.69</td>\n",
       "      <td>32</td>\n",
       "      <td>False</td>\n",
       "      <td>241</td>\n",
       "      <td>True</td>\n",
       "      <td>1000</td>\n",
       "      <td>True</td>\n",
       "      <td>1000</td>\n",
       "      <td>True</td>\n",
       "      <td>True</td>\n",
       "      <td>True</td>\n",
       "      <td>False</td>\n",
       "      <td>6</td>\n",
       "      <td>True</td>\n",
       "      <td>True</td>\n",
       "      <td>False</td>\n",
       "    </tr>\n",
       "    <tr>\n",
       "      <th>5</th>\n",
       "      <td>4</td>\n",
       "      <td>Centro</td>\n",
       "      <td>40.4097</td>\n",
       "      <td>-3.71356</td>\n",
       "      <td>Apartment</td>\n",
       "      <td>PrivateRoom</td>\n",
       "      <td>2</td>\n",
       "      <td>1</td>\n",
       "      <td>1</td>\n",
       "      <td>1</td>\n",
       "      <td>20</td>\n",
       "      <td>100</td>\n",
       "      <td>NaN</td>\n",
       "      <td>1</td>\n",
       "      <td>10</td>\n",
       "      <td>3</td>\n",
       "      <td>7</td>\n",
       "      <td>37</td>\n",
       "      <td>67</td>\n",
       "      <td>158</td>\n",
       "      <td>20</td>\n",
       "      <td>91</td>\n",
       "      <td>9</td>\n",
       "      <td>9</td>\n",
       "      <td>9</td>\n",
       "      <td>9</td>\n",
       "      <td>10</td>\n",
       "      <td>9</td>\n",
       "      <td>flexible</td>\n",
       "      <td>4</td>\n",
       "      <td>0.6</td>\n",
       "      <td>27</td>\n",
       "      <td>True</td>\n",
       "      <td>232</td>\n",
       "      <td>True</td>\n",
       "      <td>469</td>\n",
       "      <td>True</td>\n",
       "      <td>479</td>\n",
       "      <td>True</td>\n",
       "      <td>True</td>\n",
       "      <td>True</td>\n",
       "      <td>False</td>\n",
       "      <td>4</td>\n",
       "      <td>False</td>\n",
       "      <td>True</td>\n",
       "      <td>False</td>\n",
       "    </tr>\n",
       "    <tr>\n",
       "      <th>6</th>\n",
       "      <td>10</td>\n",
       "      <td>Centro</td>\n",
       "      <td>40.4232</td>\n",
       "      <td>-3.71125</td>\n",
       "      <td>Apartment</td>\n",
       "      <td>EntireHome</td>\n",
       "      <td>4</td>\n",
       "      <td>1</td>\n",
       "      <td>1</td>\n",
       "      <td>2</td>\n",
       "      <td>112</td>\n",
       "      <td>250</td>\n",
       "      <td>15</td>\n",
       "      <td>2</td>\n",
       "      <td>5</td>\n",
       "      <td>3</td>\n",
       "      <td>7</td>\n",
       "      <td>13</td>\n",
       "      <td>21</td>\n",
       "      <td>248</td>\n",
       "      <td>55</td>\n",
       "      <td>99</td>\n",
       "      <td>10</td>\n",
       "      <td>10</td>\n",
       "      <td>10</td>\n",
       "      <td>10</td>\n",
       "      <td>10</td>\n",
       "      <td>10</td>\n",
       "      <td>strict</td>\n",
       "      <td>9</td>\n",
       "      <td>3.56</td>\n",
       "      <td>35</td>\n",
       "      <td>False</td>\n",
       "      <td>249</td>\n",
       "      <td>False</td>\n",
       "      <td>1000</td>\n",
       "      <td>False</td>\n",
       "      <td>1000</td>\n",
       "      <td>False</td>\n",
       "      <td>True</td>\n",
       "      <td>True</td>\n",
       "      <td>True</td>\n",
       "      <td>6</td>\n",
       "      <td>True</td>\n",
       "      <td>True</td>\n",
       "      <td>True</td>\n",
       "    </tr>\n",
       "    <tr>\n",
       "      <th>7</th>\n",
       "      <td>1</td>\n",
       "      <td>Centro</td>\n",
       "      <td>40.4165</td>\n",
       "      <td>-3.71784</td>\n",
       "      <td>Apartment</td>\n",
       "      <td>EntireHome</td>\n",
       "      <td>8</td>\n",
       "      <td>3</td>\n",
       "      <td>3</td>\n",
       "      <td>4</td>\n",
       "      <td>190</td>\n",
       "      <td>200</td>\n",
       "      <td>20</td>\n",
       "      <td>6</td>\n",
       "      <td>40</td>\n",
       "      <td>3</td>\n",
       "      <td>6</td>\n",
       "      <td>20</td>\n",
       "      <td>24</td>\n",
       "      <td>296</td>\n",
       "      <td>46</td>\n",
       "      <td>96</td>\n",
       "      <td>10</td>\n",
       "      <td>10</td>\n",
       "      <td>10</td>\n",
       "      <td>10</td>\n",
       "      <td>10</td>\n",
       "      <td>9</td>\n",
       "      <td>moderate</td>\n",
       "      <td>1</td>\n",
       "      <td>1.13</td>\n",
       "      <td>33</td>\n",
       "      <td>False</td>\n",
       "      <td>271</td>\n",
       "      <td>True</td>\n",
       "      <td>939</td>\n",
       "      <td>True</td>\n",
       "      <td>1000</td>\n",
       "      <td>True</td>\n",
       "      <td>True</td>\n",
       "      <td>True</td>\n",
       "      <td>True</td>\n",
       "      <td>4</td>\n",
       "      <td>True</td>\n",
       "      <td>True</td>\n",
       "      <td>False</td>\n",
       "    </tr>\n",
       "    <tr>\n",
       "      <th>8</th>\n",
       "      <td>114</td>\n",
       "      <td>Centro</td>\n",
       "      <td>40.4168</td>\n",
       "      <td>-3.71024</td>\n",
       "      <td>Apartment</td>\n",
       "      <td>PrivateRoom</td>\n",
       "      <td>2</td>\n",
       "      <td>2</td>\n",
       "      <td>1</td>\n",
       "      <td>1</td>\n",
       "      <td>30</td>\n",
       "      <td>NaN</td>\n",
       "      <td>15</td>\n",
       "      <td>1</td>\n",
       "      <td>5</td>\n",
       "      <td>10</td>\n",
       "      <td>6</td>\n",
       "      <td>36</td>\n",
       "      <td>66</td>\n",
       "      <td>341</td>\n",
       "      <td>3</td>\n",
       "      <td>67</td>\n",
       "      <td>8</td>\n",
       "      <td>5</td>\n",
       "      <td>10</td>\n",
       "      <td>10</td>\n",
       "      <td>10</td>\n",
       "      <td>7</td>\n",
       "      <td>strict</td>\n",
       "      <td>97</td>\n",
       "      <td>0.14</td>\n",
       "      <td>24</td>\n",
       "      <td>True</td>\n",
       "      <td>370</td>\n",
       "      <td>False</td>\n",
       "      <td>187</td>\n",
       "      <td>False</td>\n",
       "      <td>923</td>\n",
       "      <td>False</td>\n",
       "      <td>True</td>\n",
       "      <td>True</td>\n",
       "      <td>True</td>\n",
       "      <td>4</td>\n",
       "      <td>False</td>\n",
       "      <td>True</td>\n",
       "      <td>False</td>\n",
       "    </tr>\n",
       "    <tr>\n",
       "      <th>9</th>\n",
       "      <td>114</td>\n",
       "      <td>Centro</td>\n",
       "      <td>40.4139</td>\n",
       "      <td>-3.70564</td>\n",
       "      <td>Apartment</td>\n",
       "      <td>PrivateRoom</td>\n",
       "      <td>1</td>\n",
       "      <td>1</td>\n",
       "      <td>1</td>\n",
       "      <td>1</td>\n",
       "      <td>18</td>\n",
       "      <td>NaN</td>\n",
       "      <td>15</td>\n",
       "      <td>1</td>\n",
       "      <td>0</td>\n",
       "      <td>10</td>\n",
       "      <td>0</td>\n",
       "      <td>0</td>\n",
       "      <td>6</td>\n",
       "      <td>281</td>\n",
       "      <td>0</td>\n",
       "      <td>NaN</td>\n",
       "      <td>NaN</td>\n",
       "      <td>NaN</td>\n",
       "      <td>NaN</td>\n",
       "      <td>NaN</td>\n",
       "      <td>NaN</td>\n",
       "      <td>NaN</td>\n",
       "      <td>strict</td>\n",
       "      <td>97</td>\n",
       "      <td>NaN</td>\n",
       "      <td>24</td>\n",
       "      <td>True</td>\n",
       "      <td>341</td>\n",
       "      <td>False</td>\n",
       "      <td>129</td>\n",
       "      <td>False</td>\n",
       "      <td>991</td>\n",
       "      <td>False</td>\n",
       "      <td>True</td>\n",
       "      <td>True</td>\n",
       "      <td>True</td>\n",
       "      <td>4</td>\n",
       "      <td>False</td>\n",
       "      <td>True</td>\n",
       "      <td>False</td>\n",
       "    </tr>\n",
       "    <tr>\n",
       "      <th>10</th>\n",
       "      <td>6</td>\n",
       "      <td>Centro</td>\n",
       "      <td>40.4092</td>\n",
       "      <td>-3.70405</td>\n",
       "      <td>Apartment</td>\n",
       "      <td>PrivateRoom</td>\n",
       "      <td>2</td>\n",
       "      <td>1</td>\n",
       "      <td>1</td>\n",
       "      <td>1</td>\n",
       "      <td>38</td>\n",
       "      <td>70</td>\n",
       "      <td>12</td>\n",
       "      <td>1</td>\n",
       "      <td>10</td>\n",
       "      <td>2</td>\n",
       "      <td>12</td>\n",
       "      <td>42</td>\n",
       "      <td>72</td>\n",
       "      <td>347</td>\n",
       "      <td>78</td>\n",
       "      <td>93</td>\n",
       "      <td>10</td>\n",
       "      <td>10</td>\n",
       "      <td>9</td>\n",
       "      <td>10</td>\n",
       "      <td>9</td>\n",
       "      <td>9</td>\n",
       "      <td>moderate</td>\n",
       "      <td>3</td>\n",
       "      <td>2.2</td>\n",
       "      <td>29</td>\n",
       "      <td>False</td>\n",
       "      <td>148</td>\n",
       "      <td>True</td>\n",
       "      <td>0</td>\n",
       "      <td>False</td>\n",
       "      <td>1000</td>\n",
       "      <td>True</td>\n",
       "      <td>True</td>\n",
       "      <td>True</td>\n",
       "      <td>True</td>\n",
       "      <td>5</td>\n",
       "      <td>False</td>\n",
       "      <td>True</td>\n",
       "      <td>False</td>\n",
       "    </tr>\n",
       "    <tr>\n",
       "      <th>11</th>\n",
       "      <td>8</td>\n",
       "      <td>Centro</td>\n",
       "      <td>40.412</td>\n",
       "      <td>-3.70669</td>\n",
       "      <td>Apartment</td>\n",
       "      <td>EntireHome</td>\n",
       "      <td>2</td>\n",
       "      <td>1</td>\n",
       "      <td>1</td>\n",
       "      <td>1</td>\n",
       "      <td>71</td>\n",
       "      <td>350</td>\n",
       "      <td>20</td>\n",
       "      <td>1</td>\n",
       "      <td>0</td>\n",
       "      <td>14</td>\n",
       "      <td>1</td>\n",
       "      <td>1</td>\n",
       "      <td>1</td>\n",
       "      <td>174</td>\n",
       "      <td>8</td>\n",
       "      <td>90</td>\n",
       "      <td>10</td>\n",
       "      <td>10</td>\n",
       "      <td>10</td>\n",
       "      <td>10</td>\n",
       "      <td>10</td>\n",
       "      <td>9</td>\n",
       "      <td>flexible</td>\n",
       "      <td>6</td>\n",
       "      <td>0.72</td>\n",
       "      <td>32</td>\n",
       "      <td>False</td>\n",
       "      <td>237</td>\n",
       "      <td>False</td>\n",
       "      <td>0</td>\n",
       "      <td>False</td>\n",
       "      <td>237</td>\n",
       "      <td>False</td>\n",
       "      <td>True</td>\n",
       "      <td>False</td>\n",
       "      <td>True</td>\n",
       "      <td>5</td>\n",
       "      <td>True</td>\n",
       "      <td>True</td>\n",
       "      <td>False</td>\n",
       "    </tr>\n",
       "    <tr>\n",
       "      <th>12</th>\n",
       "      <td>1</td>\n",
       "      <td>Centro</td>\n",
       "      <td>40.4099</td>\n",
       "      <td>-3.69552</td>\n",
       "      <td>Apartment</td>\n",
       "      <td>EntireHome</td>\n",
       "      <td>2</td>\n",
       "      <td>1</td>\n",
       "      <td>0</td>\n",
       "      <td>1</td>\n",
       "      <td>48</td>\n",
       "      <td>NaN</td>\n",
       "      <td>NaN</td>\n",
       "      <td>1</td>\n",
       "      <td>0</td>\n",
       "      <td>3</td>\n",
       "      <td>4</td>\n",
       "      <td>23</td>\n",
       "      <td>46</td>\n",
       "      <td>321</td>\n",
       "      <td>49</td>\n",
       "      <td>90</td>\n",
       "      <td>9</td>\n",
       "      <td>9</td>\n",
       "      <td>10</td>\n",
       "      <td>10</td>\n",
       "      <td>10</td>\n",
       "      <td>9</td>\n",
       "      <td>moderate</td>\n",
       "      <td>1</td>\n",
       "      <td>2.72</td>\n",
       "      <td>34</td>\n",
       "      <td>False</td>\n",
       "      <td>248</td>\n",
       "      <td>True</td>\n",
       "      <td>145</td>\n",
       "      <td>True</td>\n",
       "      <td>899</td>\n",
       "      <td>True</td>\n",
       "      <td>True</td>\n",
       "      <td>False</td>\n",
       "      <td>True</td>\n",
       "      <td>3</td>\n",
       "      <td>True</td>\n",
       "      <td>False</td>\n",
       "      <td>False</td>\n",
       "    </tr>\n",
       "  </tbody>\n",
       "</table>\n",
       "</div>"
      ],
      "text/plain": [
       "    Host Listings Count Neighbourhood Group Cleansed  Latitude  Longitude  \\\n",
       "3                     1                       Centro   40.4101   -3.71475   \n",
       "4                     3                       Centro    40.417   -3.70944   \n",
       "5                     4                       Centro   40.4097   -3.71356   \n",
       "6                    10                       Centro   40.4232   -3.71125   \n",
       "7                     1                       Centro   40.4165   -3.71784   \n",
       "8                   114                       Centro   40.4168   -3.71024   \n",
       "9                   114                       Centro   40.4139   -3.70564   \n",
       "10                    6                       Centro   40.4092   -3.70405   \n",
       "11                    8                       Centro    40.412   -3.70669   \n",
       "12                    1                       Centro   40.4099   -3.69552   \n",
       "\n",
       "   Property Type    Room Type  Accommodates  Bathrooms  Bedrooms  Beds  Price  \\\n",
       "3      Apartment  PrivateRoom             2          1         1     1     36   \n",
       "4      Apartment   EntireHome             2          1         1     1     85   \n",
       "5      Apartment  PrivateRoom             2          1         1     1     20   \n",
       "6      Apartment   EntireHome             4          1         1     2    112   \n",
       "7      Apartment   EntireHome             8          3         3     4    190   \n",
       "8      Apartment  PrivateRoom             2          2         1     1     30   \n",
       "9      Apartment  PrivateRoom             1          1         1     1     18   \n",
       "10     Apartment  PrivateRoom             2          1         1     1     38   \n",
       "11     Apartment   EntireHome             2          1         1     1     71   \n",
       "12     Apartment   EntireHome             2          1         0     1     48   \n",
       "\n",
       "    Security Deposit  Cleaning Fee  Guests Included  Extra People  \\\n",
       "3                NaN           NaN                1             0   \n",
       "4                100            30                1             0   \n",
       "5                100           NaN                1            10   \n",
       "6                250            15                2             5   \n",
       "7                200            20                6            40   \n",
       "8                NaN            15                1             5   \n",
       "9                NaN            15                1             0   \n",
       "10                70            12                1            10   \n",
       "11               350            20                1             0   \n",
       "12               NaN           NaN                1             0   \n",
       "\n",
       "    Minimum Nights  Availability 30  Availability 60  Availability 90  \\\n",
       "3                2                1                1                1   \n",
       "4                3               12               32               45   \n",
       "5                3                7               37               67   \n",
       "6                3                7               13               21   \n",
       "7                3                6               20               24   \n",
       "8               10                6               36               66   \n",
       "9               10                0                0                6   \n",
       "10               2               12               42               72   \n",
       "11              14                1                1                1   \n",
       "12               3                4               23               46   \n",
       "\n",
       "    Availability 365  Number of Reviews  Review Scores Rating  \\\n",
       "3                  1                 80                    98   \n",
       "4                320                 90                    95   \n",
       "5                158                 20                    91   \n",
       "6                248                 55                    99   \n",
       "7                296                 46                    96   \n",
       "8                341                  3                    67   \n",
       "9                281                  0                   NaN   \n",
       "10               347                 78                    93   \n",
       "11               174                  8                    90   \n",
       "12               321                 49                    90   \n",
       "\n",
       "    Review Scores Accuracy  Review Scores Cleanliness  Review Scores Checkin  \\\n",
       "3                       10                         10                     10   \n",
       "4                       10                          9                     10   \n",
       "5                        9                          9                      9   \n",
       "6                       10                         10                     10   \n",
       "7                       10                         10                     10   \n",
       "8                        8                          5                     10   \n",
       "9                      NaN                        NaN                    NaN   \n",
       "10                      10                         10                      9   \n",
       "11                      10                         10                     10   \n",
       "12                       9                          9                     10   \n",
       "\n",
       "    Review Scores Communication  Review Scores Location  Review Scores Value  \\\n",
       "3                            10                      10                   10   \n",
       "4                            10                      10                   10   \n",
       "5                             9                      10                    9   \n",
       "6                            10                      10                   10   \n",
       "7                            10                      10                    9   \n",
       "8                            10                      10                    7   \n",
       "9                           NaN                     NaN                  NaN   \n",
       "10                           10                       9                    9   \n",
       "11                           10                      10                    9   \n",
       "12                           10                      10                    9   \n",
       "\n",
       "   Cancellation Policy  Calculated host listings count  Reviews per Month  \\\n",
       "3             flexible                               1               2.33   \n",
       "4               strict                               2               2.69   \n",
       "5             flexible                               4                0.6   \n",
       "6               strict                               9               3.56   \n",
       "7             moderate                               1               1.13   \n",
       "8               strict                              97               0.14   \n",
       "9               strict                              97                NaN   \n",
       "10            moderate                               3                2.2   \n",
       "11            flexible                               6               0.72   \n",
       "12            moderate                               1               2.72   \n",
       "\n",
       "    Name_Len  Name_Lang  Summary_Len  Summary_Lang  Space_Len  Space_Lang  \\\n",
       "3         34       True           67          True        488        True   \n",
       "4         32      False          241          True       1000        True   \n",
       "5         27       True          232          True        469        True   \n",
       "6         35      False          249         False       1000       False   \n",
       "7         33      False          271          True        939        True   \n",
       "8         24       True          370         False        187       False   \n",
       "9         24       True          341         False        129       False   \n",
       "10        29      False          148          True          0       False   \n",
       "11        32      False          237         False          0       False   \n",
       "12        34      False          248          True        145        True   \n",
       "\n",
       "    Description_Len  Description_Lang  is_Thumbnail  is_HostAbout  \\\n",
       "3              1000              True          True          True   \n",
       "4              1000              True          True          True   \n",
       "5               479              True          True          True   \n",
       "6              1000             False          True          True   \n",
       "7              1000              True          True          True   \n",
       "8               923             False          True          True   \n",
       "9               991             False          True          True   \n",
       "10             1000              True          True          True   \n",
       "11              237             False          True         False   \n",
       "12              899              True          True         False   \n",
       "\n",
       "    is_ResponseInHours  Num_Host_Verifications  is_EntireHome  is_Bed  \\\n",
       "3                False                       4          False    True   \n",
       "4                False                       6           True    True   \n",
       "5                False                       4          False    True   \n",
       "6                 True                       6           True    True   \n",
       "7                 True                       4           True    True   \n",
       "8                 True                       4          False    True   \n",
       "9                 True                       4          False    True   \n",
       "10                True                       5          False    True   \n",
       "11                True                       5           True    True   \n",
       "12                True                       3           True   False   \n",
       "\n",
       "    is_UpdatedToday  \n",
       "3             False  \n",
       "4             False  \n",
       "5             False  \n",
       "6              True  \n",
       "7             False  \n",
       "8             False  \n",
       "9             False  \n",
       "10            False  \n",
       "11            False  \n",
       "12            False  "
      ]
     },
     "execution_count": 99,
     "metadata": {},
     "output_type": "execute_result"
    }
   ],
   "source": [
    "df_madrid_clean_cols.head(10)"
   ]
  },
  {
   "cell_type": "code",
   "execution_count": 100,
   "id": "fb93cfa8",
   "metadata": {
    "ExecuteTime": {
     "end_time": "2023-02-13T10:50:47.784518Z",
     "start_time": "2023-02-13T10:50:47.240357Z"
    }
   },
   "outputs": [],
   "source": [
    "df_madrid_clean_cols.to_csv(\"data/airbnb-clean-cols.csv\", index=False)"
   ]
  }
 ],
 "metadata": {
  "kernelspec": {
   "display_name": "Python 3 (ipykernel)",
   "language": "python",
   "name": "python3"
  },
  "language_info": {
   "codemirror_mode": {
    "name": "ipython",
    "version": 3
   },
   "file_extension": ".py",
   "mimetype": "text/x-python",
   "name": "python",
   "nbconvert_exporter": "python",
   "pygments_lexer": "ipython3",
   "version": "3.9.7"
  },
  "toc": {
   "base_numbering": "0",
   "nav_menu": {},
   "number_sections": true,
   "sideBar": true,
   "skip_h1_title": true,
   "title_cell": "Table of Contents",
   "title_sidebar": "Contents",
   "toc_cell": false,
   "toc_position": {
    "height": "703.793px",
    "left": "238.997px",
    "top": "399.434px",
    "width": "211.997px"
   },
   "toc_section_display": true,
   "toc_window_display": true
  },
  "varInspector": {
   "cols": {
    "lenName": 16,
    "lenType": 16,
    "lenVar": 40
   },
   "kernels_config": {
    "python": {
     "delete_cmd_postfix": "",
     "delete_cmd_prefix": "del ",
     "library": "var_list.py",
     "varRefreshCmd": "print(var_dic_list())"
    },
    "r": {
     "delete_cmd_postfix": ") ",
     "delete_cmd_prefix": "rm(",
     "library": "var_list.r",
     "varRefreshCmd": "cat(var_dic_list()) "
    }
   },
   "types_to_exclude": [
    "module",
    "function",
    "builtin_function_or_method",
    "instance",
    "_Feature"
   ],
   "window_display": false
  }
 },
 "nbformat": 4,
 "nbformat_minor": 5
}
